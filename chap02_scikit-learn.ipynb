{
 "cells": [
  {
   "cell_type": "markdown",
   "source": [
    "# Scikit-learn 실습: 붓꽃 분류하기\n",
    "\n",
    "분류는 대표적인 지도학습이다.\n",
    "1. 문제와 답이 정해져있는 많은 양의 학습데이터를 가지고 ML 알고리즘을 적용해 모델을 학습시킨다.\n",
    "2. 그렇게 학습시킨 모델에다가 테스트 데이터의 문제를 넣어서 어떤 답을 뽑아내는지 확인한다.\n",
    "3. 테스트 데이터의 답도 이미 사람이 알고 있기 때문에, 정답률을 이용해 모델의 분류성능 등 여러 지표를 평가한다.\n"
   ],
   "metadata": {
    "collapsed": false
   },
   "id": "3ee4a969c6b2025"
  },
  {
   "cell_type": "code",
   "outputs": [],
   "source": [
    "import numpy as np\n",
    "import pandas as pd\n",
    "\n",
    "import sklearn\n",
    "from sklearn.datasets import load_iris\n",
    "from sklearn.tree import DecisionTreeClassifier\n",
    "# a package to distinguish between learning data and test data\n",
    "from sklearn.model_selection import train_test_split"
   ],
   "metadata": {
    "collapsed": false,
    "ExecuteTime": {
     "end_time": "2024-03-13T09:13:39.522613Z",
     "start_time": "2024-03-13T09:13:38.554311Z"
    }
   },
   "id": "e0396324ec1d5f23",
   "execution_count": 8
  },
  {
   "cell_type": "code",
   "outputs": [
    {
     "name": "stdout",
     "output_type": "stream",
     "text": [
      "iris target값:\n",
      " [0 0 0 0 0 0 0 0 0 0 0 0 0 0 0 0 0 0 0 0 0 0 0 0 0 0 0 0 0 0 0 0 0 0 0 0 0\n",
      " 0 0 0 0 0 0 0 0 0 0 0 0 0 1 1 1 1 1 1 1 1 1 1 1 1 1 1 1 1 1 1 1 1 1 1 1 1\n",
      " 1 1 1 1 1 1 1 1 1 1 1 1 1 1 1 1 1 1 1 1 1 1 1 1 1 1 2 2 2 2 2 2 2 2 2 2 2\n",
      " 2 2 2 2 2 2 2 2 2 2 2 2 2 2 2 2 2 2 2 2 2 2 2 2 2 2 2 2 2 2 2 2 2 2 2 2 2\n",
      " 2 2]\n",
      "iris target명:\n",
      " ['setosa' 'versicolor' 'virginica']\n"
     ]
    },
    {
     "data": {
      "text/plain": "   sepal length (cm)  sepal width (cm)  petal length (cm)  petal width (cm)\n0                5.1               3.5                1.4               0.2\n1                4.9               3.0                1.4               0.2\n2                4.7               3.2                1.3               0.2\n3                4.6               3.1                1.5               0.2\n4                5.0               3.6                1.4               0.2",
      "text/html": "<div>\n<style scoped>\n    .dataframe tbody tr th:only-of-type {\n        vertical-align: middle;\n    }\n\n    .dataframe tbody tr th {\n        vertical-align: top;\n    }\n\n    .dataframe thead th {\n        text-align: right;\n    }\n</style>\n<table border=\"1\" class=\"dataframe\">\n  <thead>\n    <tr style=\"text-align: right;\">\n      <th></th>\n      <th>sepal length (cm)</th>\n      <th>sepal width (cm)</th>\n      <th>petal length (cm)</th>\n      <th>petal width (cm)</th>\n    </tr>\n  </thead>\n  <tbody>\n    <tr>\n      <th>0</th>\n      <td>5.1</td>\n      <td>3.5</td>\n      <td>1.4</td>\n      <td>0.2</td>\n    </tr>\n    <tr>\n      <th>1</th>\n      <td>4.9</td>\n      <td>3.0</td>\n      <td>1.4</td>\n      <td>0.2</td>\n    </tr>\n    <tr>\n      <th>2</th>\n      <td>4.7</td>\n      <td>3.2</td>\n      <td>1.3</td>\n      <td>0.2</td>\n    </tr>\n    <tr>\n      <th>3</th>\n      <td>4.6</td>\n      <td>3.1</td>\n      <td>1.5</td>\n      <td>0.2</td>\n    </tr>\n    <tr>\n      <th>4</th>\n      <td>5.0</td>\n      <td>3.6</td>\n      <td>1.4</td>\n      <td>0.2</td>\n    </tr>\n  </tbody>\n</table>\n</div>"
     },
     "metadata": {},
     "output_type": "display_data"
    }
   ],
   "source": [
    "# 데이터 세트 로딩\n",
    "iris = load_iris()\n",
    "iris_data = iris.data  # Feature에 해당하는 데이터셋.\n",
    "iris_label = iris.target  # Target에 해당하는 데이터셋.\n",
    "\n",
    "print('iris target값:\\n', iris_label)\n",
    "print('iris target명:\\n', iris.target_names)\n",
    "\n",
    "# 데이터셋 더 자세히 보기 위해 DataFrame 형으로 변경.\n",
    "# ndarray -> DataFrame\n",
    "# 데이터 값은 iris.data로 하고, 컬럼명은 iris.target_names로 하고 싶다.\n",
    "# iris_data_df= pd.DataFrame(data=iris_data, columns=iris.target_names)\n",
    "iris_data_df = pd.DataFrame(data=iris_data, columns=iris.feature_names)\n",
    "display(iris_data_df.head())"
   ],
   "metadata": {
    "collapsed": false,
    "ExecuteTime": {
     "end_time": "2024-03-14T14:08:33.394631Z",
     "start_time": "2024-03-14T14:08:33.290113Z"
    }
   },
   "id": "4e3832dfe476355e",
   "execution_count": 16
  },
  {
   "cell_type": "code",
   "outputs": [],
   "source": [
    "# 학습데이터와 테스트 데이터를 분리.\n",
    "X_train, X_test, y_train, y_test = train_test_split(iris_data, iris_label, test_size=0.2, random_state=11)\n",
    "# X means feature. Y means target. \n",
    "# test_size=0.2 : 전체 데이터 중 20%만 테스트로 만들어라.\n",
    "# random_state : 랜덤함수의 시드 같은 역할. 반복가능한 경우로 쓰기 위해 정해진 정수값을 넣는다."
   ],
   "metadata": {
    "collapsed": false,
    "ExecuteTime": {
     "end_time": "2024-03-14T14:12:47.266534Z",
     "start_time": "2024-03-14T14:12:47.251060Z"
    }
   },
   "id": "6d3acab42e72a667",
   "execution_count": 17
  },
  {
   "cell_type": "code",
   "outputs": [
    {
     "data": {
      "text/plain": "DecisionTreeClassifier(random_state=11)",
      "text/html": "<style>#sk-container-id-1 {color: black;}#sk-container-id-1 pre{padding: 0;}#sk-container-id-1 div.sk-toggleable {background-color: white;}#sk-container-id-1 label.sk-toggleable__label {cursor: pointer;display: block;width: 100%;margin-bottom: 0;padding: 0.3em;box-sizing: border-box;text-align: center;}#sk-container-id-1 label.sk-toggleable__label-arrow:before {content: \"▸\";float: left;margin-right: 0.25em;color: #696969;}#sk-container-id-1 label.sk-toggleable__label-arrow:hover:before {color: black;}#sk-container-id-1 div.sk-estimator:hover label.sk-toggleable__label-arrow:before {color: black;}#sk-container-id-1 div.sk-toggleable__content {max-height: 0;max-width: 0;overflow: hidden;text-align: left;background-color: #f0f8ff;}#sk-container-id-1 div.sk-toggleable__content pre {margin: 0.2em;color: black;border-radius: 0.25em;background-color: #f0f8ff;}#sk-container-id-1 input.sk-toggleable__control:checked~div.sk-toggleable__content {max-height: 200px;max-width: 100%;overflow: auto;}#sk-container-id-1 input.sk-toggleable__control:checked~label.sk-toggleable__label-arrow:before {content: \"▾\";}#sk-container-id-1 div.sk-estimator input.sk-toggleable__control:checked~label.sk-toggleable__label {background-color: #d4ebff;}#sk-container-id-1 div.sk-label input.sk-toggleable__control:checked~label.sk-toggleable__label {background-color: #d4ebff;}#sk-container-id-1 input.sk-hidden--visually {border: 0;clip: rect(1px 1px 1px 1px);clip: rect(1px, 1px, 1px, 1px);height: 1px;margin: -1px;overflow: hidden;padding: 0;position: absolute;width: 1px;}#sk-container-id-1 div.sk-estimator {font-family: monospace;background-color: #f0f8ff;border: 1px dotted black;border-radius: 0.25em;box-sizing: border-box;margin-bottom: 0.5em;}#sk-container-id-1 div.sk-estimator:hover {background-color: #d4ebff;}#sk-container-id-1 div.sk-parallel-item::after {content: \"\";width: 100%;border-bottom: 1px solid gray;flex-grow: 1;}#sk-container-id-1 div.sk-label:hover label.sk-toggleable__label {background-color: #d4ebff;}#sk-container-id-1 div.sk-serial::before {content: \"\";position: absolute;border-left: 1px solid gray;box-sizing: border-box;top: 0;bottom: 0;left: 50%;z-index: 0;}#sk-container-id-1 div.sk-serial {display: flex;flex-direction: column;align-items: center;background-color: white;padding-right: 0.2em;padding-left: 0.2em;position: relative;}#sk-container-id-1 div.sk-item {position: relative;z-index: 1;}#sk-container-id-1 div.sk-parallel {display: flex;align-items: stretch;justify-content: center;background-color: white;position: relative;}#sk-container-id-1 div.sk-item::before, #sk-container-id-1 div.sk-parallel-item::before {content: \"\";position: absolute;border-left: 1px solid gray;box-sizing: border-box;top: 0;bottom: 0;left: 50%;z-index: -1;}#sk-container-id-1 div.sk-parallel-item {display: flex;flex-direction: column;z-index: 1;position: relative;background-color: white;}#sk-container-id-1 div.sk-parallel-item:first-child::after {align-self: flex-end;width: 50%;}#sk-container-id-1 div.sk-parallel-item:last-child::after {align-self: flex-start;width: 50%;}#sk-container-id-1 div.sk-parallel-item:only-child::after {width: 0;}#sk-container-id-1 div.sk-dashed-wrapped {border: 1px dashed gray;margin: 0 0.4em 0.5em 0.4em;box-sizing: border-box;padding-bottom: 0.4em;background-color: white;}#sk-container-id-1 div.sk-label label {font-family: monospace;font-weight: bold;display: inline-block;line-height: 1.2em;}#sk-container-id-1 div.sk-label-container {text-align: center;}#sk-container-id-1 div.sk-container {/* jupyter's `normalize.less` sets `[hidden] { display: none; }` but bootstrap.min.css set `[hidden] { display: none !important; }` so we also need the `!important` here to be able to override the default hidden behavior on the sphinx rendered scikit-learn.org. See: https://github.com/scikit-learn/scikit-learn/issues/21755 */display: inline-block !important;position: relative;}#sk-container-id-1 div.sk-text-repr-fallback {display: none;}</style><div id=\"sk-container-id-1\" class=\"sk-top-container\"><div class=\"sk-text-repr-fallback\"><pre>DecisionTreeClassifier(random_state=11)</pre><b>In a Jupyter environment, please rerun this cell to show the HTML representation or trust the notebook. <br />On GitHub, the HTML representation is unable to render, please try loading this page with nbviewer.org.</b></div><div class=\"sk-container\" hidden><div class=\"sk-item\"><div class=\"sk-estimator sk-toggleable\"><input class=\"sk-toggleable__control sk-hidden--visually\" id=\"sk-estimator-id-1\" type=\"checkbox\" checked><label for=\"sk-estimator-id-1\" class=\"sk-toggleable__label sk-toggleable__label-arrow\">DecisionTreeClassifier</label><div class=\"sk-toggleable__content\"><pre>DecisionTreeClassifier(random_state=11)</pre></div></div></div></div></div>"
     },
     "execution_count": 18,
     "metadata": {},
     "output_type": "execute_result"
    }
   ],
   "source": [
    "# 학습 데이터 셋으로 학습(Train) 수행\n",
    "# DecisionTreeClassifier 객체 생성\n",
    "dt_clf = DecisionTreeClassifier(random_state=11)\n",
    "\n",
    "# 학습 수행\n",
    "dt_clf.fit(X_train, y_train)"
   ],
   "metadata": {
    "collapsed": false,
    "ExecuteTime": {
     "end_time": "2024-03-14T14:16:57.978616Z",
     "start_time": "2024-03-14T14:16:57.941177Z"
    }
   },
   "id": "c80270341f33776f",
   "execution_count": 18
  },
  {
   "cell_type": "code",
   "outputs": [
    {
     "name": "stdout",
     "output_type": "stream",
     "text": [
      "<class 'numpy.ndarray'>:\n",
      "[2 2 1 1 2 0 1 0 0 1 1 1 1 2 2 0 2 1 2 2 1 0 0 1 0 0 2 1 0 1]\n"
     ]
    }
   ],
   "source": [
    "# 테스트 데이터 세트로 예측 (Predict) 수행\n",
    "# 학습 완료된 DecisionTreeClassifier 객체에서 테스트 데이터 세트로 예측 수행.\n",
    "pred = dt_clf.predict(X_test)\n",
    "print(f'{type(pred)}:\\n{pred}')"
   ],
   "metadata": {
    "collapsed": false,
    "ExecuteTime": {
     "end_time": "2024-03-14T14:20:30.244989Z",
     "start_time": "2024-03-14T14:20:30.240683Z"
    }
   },
   "id": "20df43e69bc34cf7",
   "execution_count": 22
  },
  {
   "cell_type": "code",
   "outputs": [
    {
     "data": {
      "text/plain": "array([2, 2, 1, 1, 2, 0, 1, 0, 0, 1, 1, 1, 1, 2, 2, 0, 2, 1, 2, 2, 1, 0,\n       0, 1, 0, 0, 2, 1, 0, 1])"
     },
     "execution_count": 20,
     "metadata": {},
     "output_type": "execute_result"
    }
   ],
   "source": [
    "pred"
   ],
   "metadata": {
    "collapsed": false,
    "ExecuteTime": {
     "end_time": "2024-03-14T14:18:19.010836Z",
     "start_time": "2024-03-14T14:18:19.004030Z"
    }
   },
   "id": "f009f0796b18e722",
   "execution_count": 20
  },
  {
   "cell_type": "code",
   "outputs": [
    {
     "name": "stdout",
     "output_type": "stream",
     "text": [
      "예측 정확도: 0.9333\n"
     ]
    }
   ],
   "source": [
    "# 예측 정확도 평가\n",
    "from sklearn.metrics import accuracy_score\n",
    "\n",
    "# 소수점 아래 4자리까지 정확도 표현.\n",
    "print(f'예측 정확도: {accuracy_score(y_test, pred):.4f}')"
   ],
   "metadata": {
    "collapsed": false,
    "ExecuteTime": {
     "end_time": "2024-03-14T14:22:52.795245Z",
     "start_time": "2024-03-14T14:22:52.787926Z"
    }
   },
   "id": "9b1f8625edbc13b7",
   "execution_count": 24
  },
  {
   "cell_type": "code",
   "outputs": [],
   "source": [],
   "metadata": {
    "collapsed": false,
    "ExecuteTime": {
     "end_time": "2024-03-14T14:26:18.070651Z",
     "start_time": "2024-03-14T14:26:18.066966Z"
    }
   },
   "id": "18f2c87585714c1d",
   "execution_count": 24
  },
  {
   "cell_type": "code",
   "outputs": [
    {
     "name": "stdout",
     "output_type": "stream",
     "text": [
      "dict_keys(['data', 'target', 'frame', 'target_names', 'DESCR', 'feature_names', 'filename', 'data_module'])\n"
     ]
    }
   ],
   "source": [
    "# iris 예제데이터 keys 확인\n",
    "from sklearn.datasets import load_iris\n",
    "\n",
    "iris_data = load_iris()  # iris 예제데이터를 가져온다. Bunch 타입.\n",
    "# <class 'sklearn.utils._bunch.Bunch'>\n",
    "\n",
    "keys = iris_data.keys()  # iris 데이터의 key를 확인.\n",
    "# <class 'dict_keys'>\n",
    "print(keys)\n",
    "# -> dict_keys(['data', 'target', 'frame', 'target_names', 'DESCR', 'feature_names', 'filename', 'data_module'])"
   ],
   "metadata": {
    "collapsed": false,
    "ExecuteTime": {
     "end_time": "2024-03-14T15:15:00.923308Z",
     "start_time": "2024-03-14T15:15:00.917086Z"
    }
   },
   "id": "d47eb0261063b7b9",
   "execution_count": 29
  },
  {
   "cell_type": "code",
   "outputs": [
    {
     "name": "stdout",
     "output_type": "stream",
     "text": [
      "<class 'numpy.ndarray'>\n",
      "[[5.1 3.5 1.4 0.2]\n",
      " [4.9 3.  1.4 0.2]\n",
      " [4.7 3.2 1.3 0.2]\n",
      " [4.6 3.1 1.5 0.2]\n",
      " [5.  3.6 1.4 0.2]\n",
      " [5.4 3.9 1.7 0.4]\n",
      " [4.6 3.4 1.4 0.3]\n",
      " [5.  3.4 1.5 0.2]\n",
      " [4.4 2.9 1.4 0.2]\n",
      " [4.9 3.1 1.5 0.1]\n",
      " [5.4 3.7 1.5 0.2]\n",
      " [4.8 3.4 1.6 0.2]\n",
      " [4.8 3.  1.4 0.1]\n",
      " [4.3 3.  1.1 0.1]\n",
      " [5.8 4.  1.2 0.2]\n",
      " [5.7 4.4 1.5 0.4]\n",
      " [5.4 3.9 1.3 0.4]\n",
      " [5.1 3.5 1.4 0.3]\n",
      " [5.7 3.8 1.7 0.3]\n",
      " [5.1 3.8 1.5 0.3]\n",
      " [5.4 3.4 1.7 0.2]\n",
      " [5.1 3.7 1.5 0.4]\n",
      " [4.6 3.6 1.  0.2]\n",
      " [5.1 3.3 1.7 0.5]\n",
      " [4.8 3.4 1.9 0.2]\n",
      " [5.  3.  1.6 0.2]\n",
      " [5.  3.4 1.6 0.4]\n",
      " [5.2 3.5 1.5 0.2]\n",
      " [5.2 3.4 1.4 0.2]\n",
      " [4.7 3.2 1.6 0.2]\n",
      " [4.8 3.1 1.6 0.2]\n",
      " [5.4 3.4 1.5 0.4]\n",
      " [5.2 4.1 1.5 0.1]\n",
      " [5.5 4.2 1.4 0.2]\n",
      " [4.9 3.1 1.5 0.2]\n",
      " [5.  3.2 1.2 0.2]\n",
      " [5.5 3.5 1.3 0.2]\n",
      " [4.9 3.6 1.4 0.1]\n",
      " [4.4 3.  1.3 0.2]\n",
      " [5.1 3.4 1.5 0.2]\n",
      " [5.  3.5 1.3 0.3]\n",
      " [4.5 2.3 1.3 0.3]\n",
      " [4.4 3.2 1.3 0.2]\n",
      " [5.  3.5 1.6 0.6]\n",
      " [5.1 3.8 1.9 0.4]\n",
      " [4.8 3.  1.4 0.3]\n",
      " [5.1 3.8 1.6 0.2]\n",
      " [4.6 3.2 1.4 0.2]\n",
      " [5.3 3.7 1.5 0.2]\n",
      " [5.  3.3 1.4 0.2]\n",
      " [7.  3.2 4.7 1.4]\n",
      " [6.4 3.2 4.5 1.5]\n",
      " [6.9 3.1 4.9 1.5]\n",
      " [5.5 2.3 4.  1.3]\n",
      " [6.5 2.8 4.6 1.5]\n",
      " [5.7 2.8 4.5 1.3]\n",
      " [6.3 3.3 4.7 1.6]\n",
      " [4.9 2.4 3.3 1. ]\n",
      " [6.6 2.9 4.6 1.3]\n",
      " [5.2 2.7 3.9 1.4]\n",
      " [5.  2.  3.5 1. ]\n",
      " [5.9 3.  4.2 1.5]\n",
      " [6.  2.2 4.  1. ]\n",
      " [6.1 2.9 4.7 1.4]\n",
      " [5.6 2.9 3.6 1.3]\n",
      " [6.7 3.1 4.4 1.4]\n",
      " [5.6 3.  4.5 1.5]\n",
      " [5.8 2.7 4.1 1. ]\n",
      " [6.2 2.2 4.5 1.5]\n",
      " [5.6 2.5 3.9 1.1]\n",
      " [5.9 3.2 4.8 1.8]\n",
      " [6.1 2.8 4.  1.3]\n",
      " [6.3 2.5 4.9 1.5]\n",
      " [6.1 2.8 4.7 1.2]\n",
      " [6.4 2.9 4.3 1.3]\n",
      " [6.6 3.  4.4 1.4]\n",
      " [6.8 2.8 4.8 1.4]\n",
      " [6.7 3.  5.  1.7]\n",
      " [6.  2.9 4.5 1.5]\n",
      " [5.7 2.6 3.5 1. ]\n",
      " [5.5 2.4 3.8 1.1]\n",
      " [5.5 2.4 3.7 1. ]\n",
      " [5.8 2.7 3.9 1.2]\n",
      " [6.  2.7 5.1 1.6]\n",
      " [5.4 3.  4.5 1.5]\n",
      " [6.  3.4 4.5 1.6]\n",
      " [6.7 3.1 4.7 1.5]\n",
      " [6.3 2.3 4.4 1.3]\n",
      " [5.6 3.  4.1 1.3]\n",
      " [5.5 2.5 4.  1.3]\n",
      " [5.5 2.6 4.4 1.2]\n",
      " [6.1 3.  4.6 1.4]\n",
      " [5.8 2.6 4.  1.2]\n",
      " [5.  2.3 3.3 1. ]\n",
      " [5.6 2.7 4.2 1.3]\n",
      " [5.7 3.  4.2 1.2]\n",
      " [5.7 2.9 4.2 1.3]\n",
      " [6.2 2.9 4.3 1.3]\n",
      " [5.1 2.5 3.  1.1]\n",
      " [5.7 2.8 4.1 1.3]\n",
      " [6.3 3.3 6.  2.5]\n",
      " [5.8 2.7 5.1 1.9]\n",
      " [7.1 3.  5.9 2.1]\n",
      " [6.3 2.9 5.6 1.8]\n",
      " [6.5 3.  5.8 2.2]\n",
      " [7.6 3.  6.6 2.1]\n",
      " [4.9 2.5 4.5 1.7]\n",
      " [7.3 2.9 6.3 1.8]\n",
      " [6.7 2.5 5.8 1.8]\n",
      " [7.2 3.6 6.1 2.5]\n",
      " [6.5 3.2 5.1 2. ]\n",
      " [6.4 2.7 5.3 1.9]\n",
      " [6.8 3.  5.5 2.1]\n",
      " [5.7 2.5 5.  2. ]\n",
      " [5.8 2.8 5.1 2.4]\n",
      " [6.4 3.2 5.3 2.3]\n",
      " [6.5 3.  5.5 1.8]\n",
      " [7.7 3.8 6.7 2.2]\n",
      " [7.7 2.6 6.9 2.3]\n",
      " [6.  2.2 5.  1.5]\n",
      " [6.9 3.2 5.7 2.3]\n",
      " [5.6 2.8 4.9 2. ]\n",
      " [7.7 2.8 6.7 2. ]\n",
      " [6.3 2.7 4.9 1.8]\n",
      " [6.7 3.3 5.7 2.1]\n",
      " [7.2 3.2 6.  1.8]\n",
      " [6.2 2.8 4.8 1.8]\n",
      " [6.1 3.  4.9 1.8]\n",
      " [6.4 2.8 5.6 2.1]\n",
      " [7.2 3.  5.8 1.6]\n",
      " [7.4 2.8 6.1 1.9]\n",
      " [7.9 3.8 6.4 2. ]\n",
      " [6.4 2.8 5.6 2.2]\n",
      " [6.3 2.8 5.1 1.5]\n",
      " [6.1 2.6 5.6 1.4]\n",
      " [7.7 3.  6.1 2.3]\n",
      " [6.3 3.4 5.6 2.4]\n",
      " [6.4 3.1 5.5 1.8]\n",
      " [6.  3.  4.8 1.8]\n",
      " [6.9 3.1 5.4 2.1]\n",
      " [6.7 3.1 5.6 2.4]\n",
      " [6.9 3.1 5.1 2.3]\n",
      " [5.8 2.7 5.1 1.9]\n",
      " [6.8 3.2 5.9 2.3]\n",
      " [6.7 3.3 5.7 2.5]\n",
      " [6.7 3.  5.2 2.3]\n",
      " [6.3 2.5 5.  1.9]\n",
      " [6.5 3.  5.2 2. ]\n",
      " [6.2 3.4 5.4 2.3]\n",
      " [5.9 3.  5.1 1.8]]\n"
     ]
    }
   ],
   "source": [
    "print(type(iris_data.data))\n",
    "print(iris_data.data)\n",
    "# -> <class 'numpy.ndarray'>"
   ],
   "metadata": {
    "collapsed": false,
    "ExecuteTime": {
     "end_time": "2024-03-15T11:53:15.429881Z",
     "start_time": "2024-03-15T11:53:15.407484Z"
    }
   },
   "id": "d72867c6d8d370ee",
   "execution_count": 42
  },
  {
   "cell_type": "code",
   "outputs": [
    {
     "name": "stdout",
     "output_type": "stream",
     "text": [
      "<class 'numpy.ndarray'>\n",
      "[0 0 0 0 0 0 0 0 0 0 0 0 0 0 0 0 0 0 0 0 0 0 0 0 0 0 0 0 0 0 0 0 0 0 0 0 0\n",
      " 0 0 0 0 0 0 0 0 0 0 0 0 0 1 1 1 1 1 1 1 1 1 1 1 1 1 1 1 1 1 1 1 1 1 1 1 1\n",
      " 1 1 1 1 1 1 1 1 1 1 1 1 1 1 1 1 1 1 1 1 1 1 1 1 1 1 2 2 2 2 2 2 2 2 2 2 2\n",
      " 2 2 2 2 2 2 2 2 2 2 2 2 2 2 2 2 2 2 2 2 2 2 2 2 2 2 2 2 2 2 2 2 2 2 2 2 2\n",
      " 2 2]\n"
     ]
    }
   ],
   "source": [
    "print(f'{type(iris_data.target)}')\n",
    "print(iris_data.target)\n",
    "# -> <class 'numpy.ndarray'>"
   ],
   "metadata": {
    "collapsed": false,
    "ExecuteTime": {
     "end_time": "2024-03-15T11:53:19.004240Z",
     "start_time": "2024-03-15T11:53:18.996996Z"
    }
   },
   "id": "824077efeebc6c1d",
   "execution_count": 43
  },
  {
   "cell_type": "code",
   "outputs": [
    {
     "name": "stdout",
     "output_type": "stream",
     "text": [
      "<class 'numpy.ndarray'>\n",
      "['setosa' 'versicolor' 'virginica']\n"
     ]
    }
   ],
   "source": [
    "print(f'{type(iris_data.target_names)}')\n",
    "print(iris_data.target_names)"
   ],
   "metadata": {
    "collapsed": false,
    "ExecuteTime": {
     "end_time": "2024-03-15T12:03:09.358814Z",
     "start_time": "2024-03-15T12:03:09.354208Z"
    }
   },
   "id": "1986100c24a34231",
   "execution_count": 46
  },
  {
   "cell_type": "code",
   "outputs": [
    {
     "name": "stdout",
     "output_type": "stream",
     "text": [
      "<class 'list'>\n",
      "['sepal length (cm)', 'sepal width (cm)', 'petal length (cm)', 'petal width (cm)']\n"
     ]
    }
   ],
   "source": [
    "print(f'{type(iris_data.feature_names)}')\n",
    "print(iris_data.feature_names)"
   ],
   "metadata": {
    "collapsed": false,
    "ExecuteTime": {
     "end_time": "2024-03-15T11:59:36.563377Z",
     "start_time": "2024-03-15T11:59:36.558708Z"
    }
   },
   "id": "a6eb32eb07ad97ff",
   "execution_count": 45
  },
  {
   "cell_type": "code",
   "outputs": [
    {
     "name": "stdout",
     "output_type": "stream",
     "text": [
      "<class 'str'>\n",
      ".. _iris_dataset:\n",
      "\n",
      "Iris plants dataset\n",
      "--------------------\n",
      "\n",
      "**Data Set Characteristics:**\n",
      "\n",
      "    :Number of Instances: 150 (50 in each of three classes)\n",
      "    :Number of Attributes: 4 numeric, predictive attributes and the class\n",
      "    :Attribute Information:\n",
      "        - sepal length in cm\n",
      "        - sepal width in cm\n",
      "        - petal length in cm\n",
      "        - petal width in cm\n",
      "        - class:\n",
      "                - Iris-Setosa\n",
      "                - Iris-Versicolour\n",
      "                - Iris-Virginica\n",
      "                \n",
      "    :Summary Statistics:\n",
      "\n",
      "    ============== ==== ==== ======= ===== ====================\n",
      "                    Min  Max   Mean    SD   Class Correlation\n",
      "    ============== ==== ==== ======= ===== ====================\n",
      "    sepal length:   4.3  7.9   5.84   0.83    0.7826\n",
      "    sepal width:    2.0  4.4   3.05   0.43   -0.4194\n",
      "    petal length:   1.0  6.9   3.76   1.76    0.9490  (high!)\n",
      "    petal width:    0.1  2.5   1.20   0.76    0.9565  (high!)\n",
      "    ============== ==== ==== ======= ===== ====================\n",
      "\n",
      "    :Missing Attribute Values: None\n",
      "    :Class Distribution: 33.3% for each of 3 classes.\n",
      "    :Creator: R.A. Fisher\n",
      "    :Donor: Michael Marshall (MARSHALL%PLU@io.arc.nasa.gov)\n",
      "    :Date: July, 1988\n",
      "\n",
      "The famous Iris database, first used by Sir R.A. Fisher. The dataset is taken\n",
      "from Fisher's paper. Note that it's the same as in R, but not as in the UCI\n",
      "Machine Learning Repository, which has two wrong data points.\n",
      "\n",
      "This is perhaps the best known database to be found in the\n",
      "pattern recognition literature.  Fisher's paper is a classic in the field and\n",
      "is referenced frequently to this day.  (See Duda & Hart, for example.)  The\n",
      "data set contains 3 classes of 50 instances each, where each class refers to a\n",
      "type of iris plant.  One class is linearly separable from the other 2; the\n",
      "latter are NOT linearly separable from each other.\n",
      "\n",
      ".. topic:: References\n",
      "\n",
      "   - Fisher, R.A. \"The use of multiple measurements in taxonomic problems\"\n",
      "     Annual Eugenics, 7, Part II, 179-188 (1936); also in \"Contributions to\n",
      "     Mathematical Statistics\" (John Wiley, NY, 1950).\n",
      "   - Duda, R.O., & Hart, P.E. (1973) Pattern Classification and Scene Analysis.\n",
      "     (Q327.D83) John Wiley & Sons.  ISBN 0-471-22361-1.  See page 218.\n",
      "   - Dasarathy, B.V. (1980) \"Nosing Around the Neighborhood: A New System\n",
      "     Structure and Classification Rule for Recognition in Partially Exposed\n",
      "     Environments\".  IEEE Transactions on Pattern Analysis and Machine\n",
      "     Intelligence, Vol. PAMI-2, No. 1, 67-71.\n",
      "   - Gates, G.W. (1972) \"The Reduced Nearest Neighbor Rule\".  IEEE Transactions\n",
      "     on Information Theory, May 1972, 431-433.\n",
      "   - See also: 1988 MLC Proceedings, 54-64.  Cheeseman et al\"s AUTOCLASS II\n",
      "     conceptual clustering system finds 3 classes in the data.\n",
      "   - Many, many more ...\n"
     ]
    }
   ],
   "source": [
    "print(f'{type(iris_data.DESCR)}')\n",
    "print(iris_data.DESCR)"
   ],
   "metadata": {
    "collapsed": false,
    "ExecuteTime": {
     "end_time": "2024-03-15T12:04:31.908219Z",
     "start_time": "2024-03-15T12:04:31.904678Z"
    }
   },
   "id": "543f96cfaca8b9ed",
   "execution_count": 47
  },
  {
   "cell_type": "code",
   "outputs": [
    {
     "name": "stdout",
     "output_type": "stream",
     "text": [
      "<class 'str'>\n",
      "iris.csv\n"
     ]
    }
   ],
   "source": [
    "print(f'{type(iris_data.filename)}')\n",
    "print(iris_data.filename)"
   ],
   "metadata": {
    "collapsed": false,
    "ExecuteTime": {
     "end_time": "2024-03-15T12:07:16.593182Z",
     "start_time": "2024-03-15T12:07:16.589286Z"
    }
   },
   "id": "c67f8e41d3b7011",
   "execution_count": 49
  },
  {
   "cell_type": "code",
   "outputs": [
    {
     "name": "stdout",
     "output_type": "stream",
     "text": [
      "<class 'str'>\n",
      "sklearn.datasets.data\n"
     ]
    }
   ],
   "source": [
    "print(f'{type(iris_data.data_module)}')\n",
    "print(iris_data.data_module)"
   ],
   "metadata": {
    "collapsed": false,
    "ExecuteTime": {
     "end_time": "2024-03-15T12:07:17.785102Z",
     "start_time": "2024-03-15T12:07:17.780515Z"
    }
   },
   "id": "e8fb6c082f02f71c",
   "execution_count": 50
  },
  {
   "cell_type": "code",
   "outputs": [
    {
     "name": "stdout",
     "output_type": "stream",
     "text": [
      "<class 'NoneType'>\n",
      "None\n"
     ]
    }
   ],
   "source": [
    "print(f'{type(iris_data.frame)}')\n",
    "print(iris_data.frame)"
   ],
   "metadata": {
    "collapsed": false,
    "ExecuteTime": {
     "end_time": "2024-03-15T12:05:54.779868Z",
     "start_time": "2024-03-15T12:05:54.775083Z"
    }
   },
   "id": "b18b3c7c3b42b6cf",
   "execution_count": 48
  },
  {
   "cell_type": "markdown",
   "source": [
    "# 교차검증"
   ],
   "metadata": {
    "collapsed": false
   },
   "id": "e52889cdf074c5b6"
  },
  {
   "cell_type": "code",
   "outputs": [
    {
     "name": "stdout",
     "output_type": "stream",
     "text": [
      "붓꽃 데이터 세트 크기: (150, 4)\n",
      "#1 교차 검증 정확도: 1.0, 학습 데이터 크기: 120, 검증 데이터 크기: 30\n",
      "#1 검증 세트 인덱스: [ 0  1  2  3  4  5  6  7  8  9 10 11 12 13 14 15 16 17 18 19 20 21 22 23\n",
      " 24 25 26 27 28 29]\n",
      "#2 교차 검증 정확도: 0.9667, 학습 데이터 크기: 120, 검증 데이터 크기: 30\n",
      "#2 검증 세트 인덱스: [30 31 32 33 34 35 36 37 38 39 40 41 42 43 44 45 46 47 48 49 50 51 52 53\n",
      " 54 55 56 57 58 59]\n",
      "#3 교차 검증 정확도: 0.8667, 학습 데이터 크기: 120, 검증 데이터 크기: 30\n",
      "#3 검증 세트 인덱스: [60 61 62 63 64 65 66 67 68 69 70 71 72 73 74 75 76 77 78 79 80 81 82 83\n",
      " 84 85 86 87 88 89]\n",
      "#4 교차 검증 정확도: 0.9333, 학습 데이터 크기: 120, 검증 데이터 크기: 30\n",
      "#4 검증 세트 인덱스: [ 90  91  92  93  94  95  96  97  98  99 100 101 102 103 104 105 106 107\n",
      " 108 109 110 111 112 113 114 115 116 117 118 119]\n",
      "#5 교차 검증 정확도: 0.7333, 학습 데이터 크기: 120, 검증 데이터 크기: 30\n",
      "#5 검증 세트 인덱스: [120 121 122 123 124 125 126 127 128 129 130 131 132 133 134 135 136 137\n",
      " 138 139 140 141 142 143 144 145 146 147 148 149]\n",
      "## 평균 검증 정확도: 0.9\n"
     ]
    }
   ],
   "source": [
    "# K 폴드\n",
    "from sklearn.tree import DecisionTreeClassifier\n",
    "from sklearn.metrics import accuracy_score\n",
    "from sklearn.model_selection import KFold\n",
    "import numpy as np\n",
    "\n",
    "iris = load_iris()  # 데이터 로딩\n",
    "features = iris.data  # Feature 데이터\n",
    "label = iris.target  # Label 데이터\n",
    "dt_clf = DecisionTreeClassifier(random_state=156)  # DecisionTreeClassifier 객체 생성\n",
    "\n",
    "# 5개의 폴드 세트로 분리하는 KFold 객체와 폴드 세트별 정확도를 담을 리스트 객체 생성.\n",
    "kfold = KFold(n_splits=5)\n",
    "cross_validation_accuracy = []  # 교차검증 정확도를 담을 리스트 객체 생성.\n",
    "print(f'붓꽃 데이터 세트 크기: {features.shape}')\n",
    "\n",
    "# KFold 객체의 split()를 호출하면 폴드 별 학습용, 검증용 테스트의 로우 인덱스를 array로 반환.\n",
    "n_iter = 0\n",
    "for train_index, test_index in kfold.split(features):\n",
    "    # kfold.split()으로 반환된 인덱스를 이용해 학습용, 검증용 테스트 데이터 추출.\n",
    "    X_train, X_test = features[train_index], features[test_index]  # 학습용 피처데이터, 검증용 피처데이터\n",
    "    y_train, y_test = label[train_index], label[test_index]  # 학습용 타겟값, 검증용 타겟값\n",
    "    # 학습 및 예측\n",
    "    dt_clf.fit(X_train, y_train)\n",
    "    pred = dt_clf.predict(X_test)\n",
    "    n_iter += 1\n",
    "    # 반복 시마다 정확도 측정\n",
    "    accuracy = np.round(accuracy_score(y_test, pred), 4)\n",
    "    train_size = X_train.shape[0]\n",
    "    test_size = X_test.shape[0]\n",
    "    print(f'#{n_iter} 교차 검증 정확도: {accuracy}, 학습 데이터 크기: {train_size}, 검증 데이터 크기: {test_size}')\n",
    "    print(f'#{n_iter} 검증 세트 인덱스: {test_index}')\n",
    "    cross_validation_accuracy.append(accuracy)\n",
    "\n",
    "# 개별 iteration별 정확도를 합하여 평균 정확도 계산.\n",
    "print(f'## 평균 검증 정확도: {np.mean(cross_validation_accuracy)}')"
   ],
   "metadata": {
    "collapsed": false,
    "ExecuteTime": {
     "end_time": "2024-03-15T13:33:29.140612Z",
     "start_time": "2024-03-15T13:33:29.082004Z"
    }
   },
   "id": "27dd4fb1070498c1",
   "execution_count": 55
  },
  {
   "cell_type": "code",
   "outputs": [
    {
     "name": "stdout",
     "output_type": "stream",
     "text": [
      "label\n",
      "0    50\n",
      "1    50\n",
      "2    50\n",
      "Name: count, dtype: int64\n",
      "## 교차 검증: 1\n",
      "학습 레이블 데이터 분포:\n",
      "label\n",
      "2    34\n",
      "0    33\n",
      "1    33\n",
      "Name: count, dtype: int64\n",
      "검증 레이블 데이터 분포:\n",
      "label\n",
      "0    17\n",
      "1    17\n",
      "2    16\n",
      "Name: count, dtype: int64\n",
      "#1 교차 검증 정확도: 1.0, 학습 데이터 크기: 100, 검증 데이터 크기: 50\n",
      "## 교차 검증: 2\n",
      "학습 레이블 데이터 분포:\n",
      "label\n",
      "1    34\n",
      "0    33\n",
      "2    33\n",
      "Name: count, dtype: int64\n",
      "검증 레이블 데이터 분포:\n",
      "label\n",
      "0    17\n",
      "2    17\n",
      "1    16\n",
      "Name: count, dtype: int64\n",
      "#2 교차 검증 정확도: 1.0, 학습 데이터 크기: 100, 검증 데이터 크기: 50\n",
      "## 교차 검증: 3\n",
      "학습 레이블 데이터 분포:\n",
      "label\n",
      "0    34\n",
      "1    33\n",
      "2    33\n",
      "Name: count, dtype: int64\n",
      "검증 레이블 데이터 분포:\n",
      "label\n",
      "1    17\n",
      "2    17\n",
      "0    16\n",
      "Name: count, dtype: int64\n",
      "#3 교차 검증 정확도: 1.0, 학습 데이터 크기: 100, 검증 데이터 크기: 50\n",
      "## 교차 검증별 정확도: [1.0, 1.0, 1.0]\n"
     ]
    }
   ],
   "source": [
    "# Stratified K Fold\n",
    "import pandas as pd\n",
    "import numpy as np\n",
    "from sklearn.model_selection import StratifiedKFold\n",
    "from sklearn.datasets import load_iris\n",
    "from sklearn.tree import DecisionTreeClassifier\n",
    "from sklearn.metrics import accuracy_score\n",
    "\n",
    "iris = load_iris()\n",
    "features = iris.data\n",
    "label = iris.target\n",
    "iris_df = pd.DataFrame(data=iris.data, columns=iris.feature_names)\n",
    "iris_df['label'] = iris.target\n",
    "print(iris_df['label'].value_counts())\n",
    "dt_clf = DecisionTreeClassifier(random_state=156)\n",
    "\n",
    "# StratifiedKFold 객체 생성\n",
    "skfold = StratifiedKFold(n_splits=3)\n",
    "n_iter = 0\n",
    "cv_accuracy = []\n",
    "\n",
    "# StratifiedKFold의 split() 호출시 반드시 레이블 데이터 셋도 추가 입력 필요.\n",
    "for train_index, test_index in skfold.split(iris_df, iris_df['label']):\n",
    "    n_iter += 1\n",
    "    X_train, X_test = features[train_index], features[test_index]\n",
    "    y_train, y_test = label[train_index], label[test_index]\n",
    "    label_train = iris_df['label'].iloc[train_index]\n",
    "    label_test = iris_df['label'].iloc[test_index]\n",
    "    # print(f'#{n_iter} train index: {train_index}')\n",
    "    # print(f'#{n_iter} test index: {test_index}')\n",
    "    print(f'## 교차 검증: {n_iter}')\n",
    "    print(f'학습 레이블 데이터 분포:\\n{label_train.value_counts()}')\n",
    "    print(f'검증 레이블 데이터 분포:\\n{label_test.value_counts()}')\n",
    "    dt_clf.fit(X_train, y_train)  # 모델 학습\n",
    "    pred = dt_clf.predict(X_test)  # 예측\n",
    "    accuracy = np.round(accuracy_score(y_test, pred))  # 정확도 측정\n",
    "    cv_accuracy.append(accuracy)\n",
    "\n",
    "    print(f'#{n_iter} 교차 검증 정확도: {accuracy}, 학습 데이터 크기: {X_train.shape[0]}, 검증 데이터 크기: {X_test.shape[0]}')\n",
    "\n",
    "print(f'## 교차 검증별 정확도: {cv_accuracy}')"
   ],
   "metadata": {
    "collapsed": false,
    "ExecuteTime": {
     "end_time": "2024-03-16T07:21:15.668238Z",
     "start_time": "2024-03-16T07:21:15.638617Z"
    }
   },
   "id": "c9c1077ddec02fde",
   "execution_count": 3
  },
  {
   "cell_type": "markdown",
   "source": [
    "# cross_val_score(), GridSearchCV"
   ],
   "metadata": {
    "collapsed": false
   },
   "id": "16aabfb0edfcbf09"
  },
  {
   "cell_type": "code",
   "outputs": [
    {
     "name": "stdout",
     "output_type": "stream",
     "text": [
      "<class 'pandas.core.series.Series'>\n",
      "0      0\n",
      "1      0\n",
      "2      0\n",
      "3      0\n",
      "4      0\n",
      "      ..\n",
      "145    2\n",
      "146    2\n",
      "147    2\n",
      "148    2\n",
      "149    2\n",
      "Name: target, Length: 150, dtype: int64\n",
      "['setosa' 'versicolor' 'virginica']\n",
      "교차 검증별 정확도: [0.98 0.94 0.98]\n"
     ]
    },
    {
     "data": {
      "text/plain": "0.9666666666666667"
     },
     "execution_count": 22,
     "metadata": {},
     "output_type": "execute_result"
    }
   ],
   "source": [
    "# cross_val_score()\n",
    "# 학습 및 테스트데이터 설정, 학습, 테스트, 검증에 쓰이는 코드가 좀 길게 느껴져서 이걸 한 묶음으로 메소드화\n",
    "\n",
    "import numpy as np\n",
    "import pandas as pd\n",
    "from sklearn.datasets import load_iris\n",
    "from sklearn.tree import DecisionTreeClassifier\n",
    "from sklearn.metrics import accuracy_score\n",
    "from sklearn.model_selection import cross_val_score\n",
    "\n",
    "# 데이터 불러오기\n",
    "iris = load_iris(as_frame=True) # DataFrame으로 불러오기.\n",
    "iris_data_df= iris.data\n",
    "iris_label = iris.target\n",
    "print(f'{type(iris_label)}\\n{iris_label}')\n",
    "\n",
    "print(iris.target_names)\n",
    "\n",
    "# 학습모델 객체 생성\n",
    "dt_clf = DecisionTreeClassifier(random_state=156)\n",
    "\n",
    "# cross_val_score 이용해서 k=3인 stratified k fold로 교차검증.\n",
    "# 각각의 검증 정확도와 평균검증정확도를 평가.\n",
    "\n",
    "cv_accuracy = cross_val_score(dt_clf, iris_data_df, iris_label, scoring='accuracy', cv=3)\n",
    "# cross_val_score() 각 패러미터 들에 대한 설명:\n",
    "# dt_clf: 학습모델 객체\n",
    "# iris_data_df: Feature 데이터\n",
    "# iris_label: Label 데이터\n",
    "# scoring='accuracy': 정확도 측정\n",
    "# cv=3: 3개의 폴드 세트로 분리하는 KFold로 교차검증 수행.\n",
    "# cross_val_score() 메소드 반환 타입: ndarray\n",
    "print(f'교차 검증별 정확도: {cv_accuracy}')\n",
    "# print(np.mean(cv_accuracy))"
   ],
   "metadata": {
    "collapsed": false,
    "ExecuteTime": {
     "end_time": "2024-03-18T08:28:53.960945Z",
     "start_time": "2024-03-18T08:28:53.923365Z"
    }
   },
   "id": "66e6d0c05a3b8f6d",
   "execution_count": 22
  },
  {
   "cell_type": "code",
   "outputs": [
    {
     "data": {
      "text/plain": "   mean_fit_time  std_fit_time  mean_score_time  std_score_time  \\\n0       0.003110      0.000418         0.001957        0.000063   \n1       0.002865      0.000023         0.002195        0.000212   \n2       0.003350      0.000748         0.001976        0.000263   \n3       0.003167      0.000399         0.002021        0.000207   \n4       0.003039      0.000082         0.001884        0.000102   \n5       0.002888      0.000251         0.001857        0.000071   \n\n  param_max_depth param_min_samples_split  \\\n0               1                       2   \n1               1                       3   \n2               2                       2   \n3               2                       3   \n4               3                       2   \n5               3                       3   \n\n                                     params  split0_test_score  \\\n0  {'max_depth': 1, 'min_samples_split': 2}              0.675   \n1  {'max_depth': 1, 'min_samples_split': 3}              0.675   \n2  {'max_depth': 2, 'min_samples_split': 2}              0.925   \n3  {'max_depth': 2, 'min_samples_split': 3}              0.925   \n4  {'max_depth': 3, 'min_samples_split': 2}              0.925   \n5  {'max_depth': 3, 'min_samples_split': 3}              0.925   \n\n   split1_test_score  split2_test_score  mean_test_score  std_test_score  \\\n0              0.675              0.675         0.675000    1.110223e-16   \n1              0.675              0.675         0.675000    1.110223e-16   \n2              1.000              0.950         0.958333    3.118048e-02   \n3              1.000              0.950         0.958333    3.118048e-02   \n4              1.000              0.975         0.966667    3.118048e-02   \n5              1.000              0.975         0.966667    3.118048e-02   \n\n   rank_test_score  split0_train_score  split1_train_score  \\\n0                5              0.6750              0.6750   \n1                5              0.6750              0.6750   \n2                3              0.9875              0.9500   \n3                3              0.9875              0.9500   \n4                1              0.9875              0.9625   \n5                1              0.9875              0.9625   \n\n   split2_train_score  mean_train_score  std_train_score  \n0              0.6750          0.675000     1.110223e-16  \n1              0.6750          0.675000     1.110223e-16  \n2              0.9750          0.970833     1.559024e-02  \n3              0.9750          0.970833     1.559024e-02  \n4              0.9875          0.979167     1.178511e-02  \n5              0.9875          0.979167     1.178511e-02  ",
      "text/html": "<div>\n<style scoped>\n    .dataframe tbody tr th:only-of-type {\n        vertical-align: middle;\n    }\n\n    .dataframe tbody tr th {\n        vertical-align: top;\n    }\n\n    .dataframe thead th {\n        text-align: right;\n    }\n</style>\n<table border=\"1\" class=\"dataframe\">\n  <thead>\n    <tr style=\"text-align: right;\">\n      <th></th>\n      <th>mean_fit_time</th>\n      <th>std_fit_time</th>\n      <th>mean_score_time</th>\n      <th>std_score_time</th>\n      <th>param_max_depth</th>\n      <th>param_min_samples_split</th>\n      <th>params</th>\n      <th>split0_test_score</th>\n      <th>split1_test_score</th>\n      <th>split2_test_score</th>\n      <th>mean_test_score</th>\n      <th>std_test_score</th>\n      <th>rank_test_score</th>\n      <th>split0_train_score</th>\n      <th>split1_train_score</th>\n      <th>split2_train_score</th>\n      <th>mean_train_score</th>\n      <th>std_train_score</th>\n    </tr>\n  </thead>\n  <tbody>\n    <tr>\n      <th>0</th>\n      <td>0.003110</td>\n      <td>0.000418</td>\n      <td>0.001957</td>\n      <td>0.000063</td>\n      <td>1</td>\n      <td>2</td>\n      <td>{'max_depth': 1, 'min_samples_split': 2}</td>\n      <td>0.675</td>\n      <td>0.675</td>\n      <td>0.675</td>\n      <td>0.675000</td>\n      <td>1.110223e-16</td>\n      <td>5</td>\n      <td>0.6750</td>\n      <td>0.6750</td>\n      <td>0.6750</td>\n      <td>0.675000</td>\n      <td>1.110223e-16</td>\n    </tr>\n    <tr>\n      <th>1</th>\n      <td>0.002865</td>\n      <td>0.000023</td>\n      <td>0.002195</td>\n      <td>0.000212</td>\n      <td>1</td>\n      <td>3</td>\n      <td>{'max_depth': 1, 'min_samples_split': 3}</td>\n      <td>0.675</td>\n      <td>0.675</td>\n      <td>0.675</td>\n      <td>0.675000</td>\n      <td>1.110223e-16</td>\n      <td>5</td>\n      <td>0.6750</td>\n      <td>0.6750</td>\n      <td>0.6750</td>\n      <td>0.675000</td>\n      <td>1.110223e-16</td>\n    </tr>\n    <tr>\n      <th>2</th>\n      <td>0.003350</td>\n      <td>0.000748</td>\n      <td>0.001976</td>\n      <td>0.000263</td>\n      <td>2</td>\n      <td>2</td>\n      <td>{'max_depth': 2, 'min_samples_split': 2}</td>\n      <td>0.925</td>\n      <td>1.000</td>\n      <td>0.950</td>\n      <td>0.958333</td>\n      <td>3.118048e-02</td>\n      <td>3</td>\n      <td>0.9875</td>\n      <td>0.9500</td>\n      <td>0.9750</td>\n      <td>0.970833</td>\n      <td>1.559024e-02</td>\n    </tr>\n    <tr>\n      <th>3</th>\n      <td>0.003167</td>\n      <td>0.000399</td>\n      <td>0.002021</td>\n      <td>0.000207</td>\n      <td>2</td>\n      <td>3</td>\n      <td>{'max_depth': 2, 'min_samples_split': 3}</td>\n      <td>0.925</td>\n      <td>1.000</td>\n      <td>0.950</td>\n      <td>0.958333</td>\n      <td>3.118048e-02</td>\n      <td>3</td>\n      <td>0.9875</td>\n      <td>0.9500</td>\n      <td>0.9750</td>\n      <td>0.970833</td>\n      <td>1.559024e-02</td>\n    </tr>\n    <tr>\n      <th>4</th>\n      <td>0.003039</td>\n      <td>0.000082</td>\n      <td>0.001884</td>\n      <td>0.000102</td>\n      <td>3</td>\n      <td>2</td>\n      <td>{'max_depth': 3, 'min_samples_split': 2}</td>\n      <td>0.925</td>\n      <td>1.000</td>\n      <td>0.975</td>\n      <td>0.966667</td>\n      <td>3.118048e-02</td>\n      <td>1</td>\n      <td>0.9875</td>\n      <td>0.9625</td>\n      <td>0.9875</td>\n      <td>0.979167</td>\n      <td>1.178511e-02</td>\n    </tr>\n    <tr>\n      <th>5</th>\n      <td>0.002888</td>\n      <td>0.000251</td>\n      <td>0.001857</td>\n      <td>0.000071</td>\n      <td>3</td>\n      <td>3</td>\n      <td>{'max_depth': 3, 'min_samples_split': 3}</td>\n      <td>0.925</td>\n      <td>1.000</td>\n      <td>0.975</td>\n      <td>0.966667</td>\n      <td>3.118048e-02</td>\n      <td>1</td>\n      <td>0.9875</td>\n      <td>0.9625</td>\n      <td>0.9875</td>\n      <td>0.979167</td>\n      <td>1.178511e-02</td>\n    </tr>\n  </tbody>\n</table>\n</div>"
     },
     "metadata": {},
     "output_type": "display_data"
    },
    {
     "name": "stdout",
     "output_type": "stream",
     "text": [
      "최적 파라미터: {'max_depth': 3, 'min_samples_split': 2}\n",
      "최고 정확도: 0.9666666666666667\n",
      "예측 정확도: 0.9333333333333333\n"
     ]
    }
   ],
   "source": [
    "# GridSearchCV\n",
    "\n",
    "import numpy as np\n",
    "import pandas as pd\n",
    "from sklearn.datasets import load_iris\n",
    "from sklearn.tree import DecisionTreeClassifier\n",
    "from sklearn.metrics import accuracy_score\n",
    "from sklearn.model_selection import train_test_split, GridSearchCV\n",
    "\n",
    "# 데이터 준비. DataFrame 형으로.\n",
    "iris = load_iris(as_frame=True)\n",
    "iris_data_df = iris.data\n",
    "iris_label=iris.target\n",
    "\n",
    "# train data와 test data로 분리.\n",
    "# X_train, X_test = train_test_split(iris_data_df, test_size=0.2, random_state=11)\n",
    "# y_train, y_test= train_test_split(iris_label, test_size=0.2, random_state=11)\n",
    "X_train, X_test, y_train, y_test = train_test_split(iris_data_df, iris_label, test_size=0.2, random_state=11)\n",
    "\n",
    "# parameter들을 dictionary 형태로 설정.\n",
    "parameters = {'max_depth':[1,2,3],'min_samples_split':[2,3]}\n",
    "\n",
    "\n",
    "# params_grid의 하이퍼 패러미터들을 3개의 train, test set fold로 나누어 테스트 수행 설정.\n",
    "# refit=True 가 기본값. True면 가장 좋은 패러미터 설정으로 재학습시킴.\n",
    "# GridSearchCV\n",
    "dt_clf=DecisionTreeClassifier(random_state=156)\n",
    "grid_dtree=GridSearchCV(estimator=dt_clf, param_grid=parameters, cv=3, refit=True, return_train_score=True)\n",
    "\n",
    "# 붓꽃 train 데이터로 param_grid의 하이퍼 패러미터를 순차적으로 학습/평가.\n",
    "grid_dtree.fit(X_train, y_train)\n",
    "\n",
    "# GridSearchCV 결과는 학습된모델.cv_results_ 라는 딕셔너리로 저장 됨.\n",
    "cv_results_df= pd.DataFrame(grid_dtree.cv_results_)\n",
    "display(cv_results_df)\n",
    "\n",
    "# 최적 파라미터는 학습된모델.best_params_, 최고 정확도는 학습된모델.best_score_\n",
    "print(f'최적 파라미터: {grid_dtree.best_params_}')\n",
    "print(f'최고 정확도: {grid_dtree.best_score_}')\n",
    "\n",
    "# refit=True로 설정된 GridSearchCV 객체가 fit() 수행 시, 최적 패러미터로 학습완료된 Estimator를 내포하고 있으므로 predict() 수행 가능.\n",
    "pred=grid_dtree.predict(X_test)\n",
    "print(f'예측 정확도: {accuracy_score(pred,y_test)}')"
   ],
   "metadata": {
    "collapsed": false,
    "ExecuteTime": {
     "end_time": "2024-03-20T11:41:42.144441Z",
     "start_time": "2024-03-20T11:41:41.958149Z"
    }
   },
   "id": "fca149c522e9ff0a",
   "execution_count": 11
  },
  {
   "cell_type": "code",
   "outputs": [],
   "source": [],
   "metadata": {
    "collapsed": false,
    "ExecuteTime": {
     "end_time": "2024-03-20T11:41:03.304263Z",
     "start_time": "2024-03-20T11:41:03.301219Z"
    }
   },
   "id": "ab874d0879920b4",
   "execution_count": 9
  },
  {
   "cell_type": "code",
   "outputs": [],
   "source": [],
   "metadata": {
    "collapsed": false
   },
   "id": "65afa73c1d10f175"
  }
 ],
 "metadata": {
  "kernelspec": {
   "display_name": "Python 3",
   "language": "python",
   "name": "python3"
  },
  "language_info": {
   "codemirror_mode": {
    "name": "ipython",
    "version": 2
   },
   "file_extension": ".py",
   "mimetype": "text/x-python",
   "name": "python",
   "nbconvert_exporter": "python",
   "pygments_lexer": "ipython2",
   "version": "2.7.6"
  }
 },
 "nbformat": 4,
 "nbformat_minor": 5
}
