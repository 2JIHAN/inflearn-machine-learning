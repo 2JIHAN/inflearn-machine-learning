{
 "cells": [
  {
   "cell_type": "markdown",
   "source": [
    "# ndarray 생성\n",
    "\n",
    "numpy.ndarray 이용.\n"
   ],
   "metadata": {
    "collapsed": false
   },
   "id": "b71f849d22a5785"
  },
  {
   "cell_type": "code",
   "outputs": [
    {
     "name": "stdout",
     "output_type": "stream",
     "text": [
      "1 : <class 'int'>\n",
      "(3,) : <class 'tuple'>\n"
     ]
    }
   ],
   "source": [
    "import numpy as np\n",
    "from matplotlib import pyplot\n",
    "%matplotlib inline\n",
    "\n",
    "# 1d array (vector)\n",
    "a = np.array([1, 2, 3])\n",
    "print(f\"{a.ndim} : {type(a.ndim)}\") # number of dimensions\n",
    "print(f\"{a.shape} : {type(a.shape)}\") # shape of the array\n"
   ],
   "metadata": {
    "collapsed": false,
    "ExecuteTime": {
     "end_time": "2024-03-07T05:13:30.467024Z",
     "start_time": "2024-03-07T05:13:29.645420Z"
    }
   },
   "id": "da900d88917ab608",
   "execution_count": 2
  },
  {
   "cell_type": "code",
   "outputs": [
    {
     "name": "stdout",
     "output_type": "stream",
     "text": [
      "<class 'tuple'>\n"
     ]
    },
    {
     "data": {
      "text/plain": "<Figure size 640x480 with 1 Axes>",
      "image/png": "[encoded data removed]"
     },
     "metadata": {},
     "output_type": "display_data"
    }
   ],
   "source": [
    "\n",
    "a_histogram = pyplot.hist(a)\n",
    "\n",
    "# 2d array (matrix)\n",
    "b = np.array([[1, 2, 3],\n",
    "              [4, 5, 6]])\n",
    "\n",
    "# 3d array (tensor)\n",
    "c = np.array([[[1, 2, 3],\n",
    "               [4, 5, 6]],\n",
    "              [[7, 8, 9],\n",
    "               [10, 11, 12]]])\n",
    "\n"
   ],
   "metadata": {
    "collapsed": false,
    "ExecuteTime": {
     "end_time": "2024-03-06T07:21:18.107368Z",
     "start_time": "2024-03-06T07:21:17.858853Z"
    }
   },
   "id": "69389fca92d5d338",
   "execution_count": 4
  },
  {
   "cell_type": "markdown",
   "source": [
    "# Numpy ndarray CRUD\n",
    "\n",
    "## Create\n",
    "- np.array()\n",
    "- np.zeros()\n",
    "- np.ones()\n",
    "\n",
    "## Read\n",
    "#### Indexing -> 1개의 값을 가져온다.\n",
    "- array[4]\n",
    "    - 0axis index 4\n",
    "- array[1,4]\n",
    "    - 0axis index 1, 1axis index 4\n",
    "- array[3,1,4]\n",
    "    - 0axis index 3, 1axis index 1, 2axis index 4\n",
    "#### Slicing -> array를 가져온다.\n",
    "- array[1:4]\n",
    "    - 0axis index from 1 to before 4\n",
    "- array[:3]\n",
    "    - 0axis index from 0 to before 3\n",
    "- array[:3, 1:4]\n",
    "    - 0axis index from 0 to before 3, 1axis index from 1 to before 4\n",
    "#### Fancy Indexing\n",
    "- array[[1, 3, 5]]\n",
    "    - 0axis index 1, 3, 5\n",
    "- array[[1, 3, 5], [2, 4, 6]]\n",
    "    - 0axis index 1, 3, 5, 1axis index 2, 4, 6\n",
    "- array[[1, 3, 5]][:, [2, 4, 6]]\n",
    "#### Boolean Indexing\n",
    "\n"
   ],
   "metadata": {
    "collapsed": false
   },
   "id": "dfd03b02982d24b6"
  },
  {
   "cell_type": "code",
   "outputs": [
    {
     "name": "stdout",
     "output_type": "stream",
     "text": [
      "[1 2 3 4 5 6 7 8 9]: <class 'numpy.ndarray'>\n",
      "\n",
      "5\n",
      "Last value: 9\n",
      "Second to last: 8\n"
     ]
    }
   ],
   "source": [
    "# Create, Read\n",
    "# 1에서 9까지의 1차원 ndarray 생성\n",
    "arr_1d = np.arange(1, 10) # 1~9\n",
    "print(f'{arr_1d}: {type(arr_1d)}\\n')\n",
    "\n",
    "print(f'{arr_1d[4]}') # index 4 이므로 5 출력\n",
    "print(f'Last value: {arr_1d[-1]}')\n",
    "print(f'Second to last: {arr_1d[-2]}')"
   ],
   "metadata": {
    "collapsed": false,
    "ExecuteTime": {
     "end_time": "2024-03-07T08:47:02.956325Z",
     "start_time": "2024-03-07T08:47:02.945095Z"
    }
   },
   "id": "27f8c056e0ca32d1",
   "execution_count": 33
  },
  {
   "cell_type": "code",
   "outputs": [],
   "source": [
    "# Update\n",
    "\n",
    "# 1. Replace\n",
    "arr_1d = np.arange(start=1, stop=10) # 1에서 9까지의 1차원 ndarray 생성\n",
    "print(f'Before: {arr_1d}')\n",
    "arr_1d[0]=100 # 처음 값을 100으로 변경.\n",
    "arr_1d[-1]=0 # 마지막 값을 0으로 변경.\n",
    "arr_1d[7]=arr_1d[5] # 7번째 값을 5번째 값으로 변경.\n",
    "print(f'After: {arr_1d}')\n",
    "print('') # 줄바꿈"
   ],
   "metadata": {
    "collapsed": false
   },
   "id": "e7a020a938332e32",
   "execution_count": null
  },
  {
   "cell_type": "code",
   "outputs": [],
   "source": [
    "# 2. Reshape\n",
    "arr_1d = np.arange(start=1, stop=10) # 1에서 9까지의 1차원 ndarray 생성\n",
    "arr_2d = arr_1d.reshape(3,3) # 3x3 matrix로 변경. reshape 할 때 원소의 개수가 동일해야 함.\n",
    "print(f'{arr_2d}: {type(arr_2d)}')\n",
    "print('') # 줄바꿈"
   ],
   "metadata": {
    "collapsed": false
   },
   "id": "694787b373a4fc98",
   "execution_count": null
  },
  {
   "cell_type": "code",
   "outputs": [
    {
     "name": "stdout",
     "output_type": "stream",
     "text": [
      "[2 3 4]: <class 'numpy.ndarray'>\n",
      "\n",
      "[[1 2 3]\n",
      " [4 5 6]\n",
      " [7 8 9]]: <class 'numpy.ndarray'>\n",
      "[4 5 6]: <class 'numpy.ndarray'>\n",
      "[2 5 8]: <class 'numpy.ndarray'>\n"
     ]
    }
   ],
   "source": [
    "# 3. Slicing\n",
    "arr_1d = np.arange(start=1, stop=10) # 1에서 9까지의 1차원 ndarray 생성\n",
    "sliced_arr=arr_1d[1:4] # index 1에서 3까지.\n",
    "print(f'{sliced_arr}: {type(sliced_arr)}') \n",
    "print('') # 줄바꿈\n",
    "\n",
    "# 2차원 array 슬라이싱 할 때, index 하나만 적으면 차원이 줄어든다.\n",
    "arr_2d = arr_1d.reshape(3,3) # 3x3 matrix로 변경.\n",
    "sliced_arr=arr_2d[1] # 2행만 가져옴.\n",
    "print(f'{arr_2d}: {type(arr_2d)}')\n",
    "print(f'{sliced_arr}: {type(sliced_arr)}')\n",
    "# column을 가져오고 싶다면?\n",
    "sliced_arr=arr_2d[:, 1] # 2열만 가져옴.\n",
    "print(f'{sliced_arr}: {type(sliced_arr)}')\n",
    "print('') # 줄바꿈\n"
   ],
   "metadata": {
    "collapsed": false,
    "ExecuteTime": {
     "end_time": "2024-03-07T08:22:31.586368Z",
     "start_time": "2024-03-07T08:22:31.575240Z"
    }
   },
   "id": "43dcceaefaf85805",
   "execution_count": 17
  },
  {
   "cell_type": "code",
   "outputs": [],
   "source": [
    "# 4. Fancy Indexing\n",
    "arr_1d = np.arange(start=1, stop=10) # 1에서 9까지의 1차원 ndarray 생성\n",
    "print(f'{arr_1d}: {type(arr_1d)}')\n",
    "fancy_arr=arr_1d[[1, 3, 5]] # index 1, 3, 5\n",
    "print(f'{fancy_arr}: {type(fancy_arr)}')\n",
    "print('') # 줄바꿈\n",
    "\n",
    "arr_2d = arr_1d.reshape(3,3) # 3x3 matrix로 변경.\n",
    "print(f'{arr_2d}: {type(arr_2d)}')\n",
    "fancy_arr=arr_2d[[1, 2]] # 2,3번째 행선택.\n",
    "print(f'{fancy_arr}: {type(fancy_arr)}')\n",
    "print('') # 줄바꿈\n",
    "\n",
    "# 2,3번째 행과 1,2번째 열 선택.\n",
    "fancy_arr=arr_2d[[1, 2]][:, [0, 2]] # 2,3번째 행선택 먼저 하고, 그 뒤에 모든 행 1,3번째 열 선택.\n",
    "print(f'{fancy_arr}: {type(fancy_arr)}')"
   ],
   "metadata": {
    "collapsed": false
   },
   "id": "2be5571a4cb3ba44",
   "execution_count": null
  },
  {
   "cell_type": "code",
   "outputs": [
    {
     "name": "stdout",
     "output_type": "stream",
     "text": [
      "[1 2 3 4 5 6 7 8 9]: <class 'numpy.ndarray'>\n",
      "\n",
      "[3 6 9]: <class 'numpy.ndarray'>\n",
      "\n",
      "[1 2 4 5 7 8]: <class 'numpy.ndarray'>\n"
     ]
    }
   ],
   "source": [
    "# 5. Boolean Indexing\n",
    "arr_1d = np.arange(start=1, stop=10) # 1에서 9까지의 1차원 ndarray 생성\n",
    "print(f'{arr_1d}: {type(arr_1d)}\\n')\n",
    "\n",
    "# 3의 배수만 선택\n",
    "boolean_arr = arr_1d[arr_1d % 3 == 0] # arr_1d % 3 == 0의 결과가 True인 ndarray 이용해 arr_1d에서 True에 해당하는 값만 선택.\n",
    "print(f'{boolean_arr}: {type(boolean_arr)}\\n')\n",
    "\n",
    "# 3의 배수가 아닌 것만 선택\n",
    "boolean_arr = arr_1d[arr_1d % 3 != 0] # arr_1d % 3 != 0의 결과가 True인 ndarray 이용해 arr_1d에서 True에 해당하는 값만 선택.\n",
    "print(f'{boolean_arr}: {type(boolean_arr)}\\n')"
   ],
   "metadata": {
    "collapsed": false,
    "ExecuteTime": {
     "end_time": "2024-03-07T08:45:33.449598Z",
     "start_time": "2024-03-07T08:45:33.441866Z"
    }
   },
   "id": "6a3abac78a0e6cc4",
   "execution_count": 32
  },
  {
   "cell_type": "code",
   "outputs": [
    {
     "name": "stdout",
     "output_type": "stream",
     "text": [
      "arr_1d_np_sort: [1 2 3 4 5 6 7 8 9]\n",
      "호출 후 arr_1d: [3 1 9 5 6 2 7 8 4]\n",
      "\n",
      "arr_1d_ndarray_sort: None\n",
      "호출 후 arr_1d: [1 2 3 4 5 6 7 8 9]\n",
      "\n",
      "arr_1d_sorted_desc: [9 8 7 6 5 4 3 2 1]\n"
     ]
    }
   ],
   "source": [
    "# array sorting\n",
    "\n",
    "arr_1d = np.array([3, 1, 9, 5, 6, 2, 7, 8, 4])\n",
    "\n",
    "arr_1d_np_sort = np.sort(arr_1d) # 정렬된 array를 반환. arr_1d는 변하지 않음.\n",
    "print(f'arr_1d_np_sort: {arr_1d_np_sort}')\n",
    "print(f'호출 후 arr_1d: {arr_1d}\\n')\n",
    "\n",
    "arr_1d_ndarray_sort = arr_1d.sort() # arr_1d 자체를 정렬. 리턴값 None.\n",
    "print(f'arr_1d_ndarray_sort: {arr_1d_ndarray_sort}')\n",
    "print(f'호출 후 arr_1d: {arr_1d}\\n')\n",
    "\n",
    "# 내림차순 정렬\n",
    "arr_1d= np.array([3, 1, 9, 5, 6, 2, 7, 8, 4])\n",
    "arr_1d_sorted_desc = np.sort(arr_1d)[::-1]\n",
    "# [::-1]을 이용해 역순으로 정렬. 슬라이싱 문법. :은 전체를 의미하고, -1은 step에 해당, 역순을 의미.\n",
    "# [:-1] 로 하면 처음부터 마지막 원소 전까지 슬라이스.\n",
    "print(f'arr_1d_sorted_desc: {arr_1d_sorted_desc}\\n')"
   ],
   "metadata": {
    "collapsed": false,
    "ExecuteTime": {
     "end_time": "2024-03-07T09:29:31.104535Z",
     "start_time": "2024-03-07T09:29:31.097873Z"
    }
   },
   "id": "6d56a540c1c2f01f",
   "execution_count": 49
  },
  {
   "cell_type": "code",
   "outputs": [],
   "source": [
    "# 2차원 array 정렬\n",
    "arr_2d = np.array([[3, 1, 9],\n",
    "                   [5, 6, 2],\n",
    "                   [7, 8, 4]])\n",
    "\n",
    "# 0-axis 정렬\n",
    "arr_2d_sorted_0axis = np.sort(arr_2d, axis=0) # 0-axis를 기준으로 정렬.\n",
    "print(f'{type(arr_2d_sorted_0axis)}:\\n {arr_2d_sorted_0axis}\\n')\n",
    "\n",
    "# 1-axis 정렬\n",
    "arr_2d_sorted_1axis = np.sort(arr_2d, axis=1) # 1-axis를 기준으로 정렬.\n",
    "print(f'{type(arr_2d_sorted_1axis)}:\\n {arr_2d_sorted_1axis}\\n')"
   ],
   "metadata": {
    "collapsed": false
   },
   "id": "8a80344895da80a7",
   "execution_count": null
  },
  {
   "cell_type": "code",
   "outputs": [
    {
     "name": "stdout",
     "output_type": "stream",
     "text": [
      "<class 'numpy.ndarray'>:\n",
      " [1 2 3 4 5 6 7 8 9]\n",
      "\n",
      "<class 'numpy.ndarray'>:\n",
      " [1 5 0 8 3 4 6 7 2]\n",
      "\n",
      "<class 'numpy.ndarray'>:\n",
      " [9 8 7 6 5 4 3 2 1]\n",
      "\n",
      "<class 'numpy.ndarray'>:\n",
      " [2 7 6 4 3 8 0 5 1]\n"
     ]
    }
   ],
   "source": [
    "# argsort()\n",
    "arr_1d = np.array([3, 1, 9, 5, 6, 2, 7, 8, 4])\n",
    "\n",
    "arr_1d_sorted = np.sort(arr_1d) # 정렬된 array를 반환.\n",
    "arr_1d_argsorted = np.argsort(arr_1d) # 정렬된 array의 원래 index를 반환.\n",
    "print(f'{type(arr_1d_sorted)}:\\n {arr_1d_sorted}\\n')\n",
    "print(f'{type(arr_1d_argsorted)}:\\n {arr_1d_argsorted}\\n')\n",
    "\n",
    "\n",
    "arr_1d_sorted_desc = np.sort(arr_1d)[::-1] # 내림차순 정렬\n",
    "arr_1d_argsorted_desc = np.argsort(arr_1d)[::-1] # 내림차순 정렬된 array의 원래 index를 반환.\n",
    "\n",
    "print(f'{type(arr_1d_sorted_desc)}:\\n {arr_1d_sorted_desc}\\n')\n",
    "print(f'{type(arr_1d_argsorted_desc)}:\\n {arr_1d_argsorted_desc}\\n')"
   ],
   "metadata": {
    "collapsed": false,
    "ExecuteTime": {
     "end_time": "2024-03-07T11:34:06.127084Z",
     "start_time": "2024-03-07T11:34:06.120806Z"
    }
   },
   "id": "d6874308200d68a7",
   "execution_count": 51
  },
  {
   "cell_type": "code",
   "outputs": [
    {
     "name": "stdout",
     "output_type": "stream",
     "text": [
      "<class 'numpy.ndarray'>:\n",
      " [3 1 4 2 0]\n",
      "\n",
      "<class 'numpy.ndarray'>:\n",
      " ['D' 'B' 'E' 'C' 'A']\n"
     ]
    }
   ],
   "source": [
    "# argsort 예제\n",
    "# 성적 오름차순으로 사람을 정렬.\n",
    "# 사람 이름 array, 성적 array 주어짐.\n",
    "\n",
    "names = np.array(['A', 'B', 'C', 'D', 'E'])\n",
    "scores = np.array([78, 95, 84, 98, 88])\n",
    "\n",
    "scores_argsorted = np.argsort(scores)[::-1] # 성적 내림차순으로 정렬된 array의 원래 index를 반환.\n",
    "print(f'{type(scores_argsorted)}:\\n {scores_argsorted}\\n')\n",
    "\n",
    "# argsort()의 결과를 이용해 이름 array를 정렬. (fancy indexing)\n",
    "sorted_names = names[scores_argsorted] # 성적 내림차순으로 정렬된 이름.\n",
    "print(f'{type(sorted_names)}:\\n {sorted_names}\\n')"
   ],
   "metadata": {
    "collapsed": false,
    "ExecuteTime": {
     "end_time": "2024-03-07T11:40:23.569748Z",
     "start_time": "2024-03-07T11:40:23.560208Z"
    }
   },
   "id": "5f618e15cbe6791b",
   "execution_count": 55
  },
  {
   "cell_type": "code",
   "outputs": [
    {
     "name": "stdout",
     "output_type": "stream",
     "text": [
      "<class 'numpy.ndarray'>:\n",
      " [[ 58  64]\n",
      " [139 154]]\n"
     ]
    }
   ],
   "source": [
    "# 행렬의 내적 (dot product)\n",
    "# 행렬 A의 열의 수와 행렬 B의 행의 수가 같아야 내적이 가능.\n",
    "\n",
    "A = np.array([[1, 2, 3],\n",
    "              [4, 5, 6]])\n",
    "B = np.array([[7, 8],\n",
    "              [9, 10],\n",
    "              [11, 12]])\n",
    "C = np.dot(A, B) # 행렬 A와 B의 내적.\n",
    "print(f'{type(C)}:\\n {C}\\n')"
   ],
   "metadata": {
    "collapsed": false,
    "ExecuteTime": {
     "end_time": "2024-03-07T11:50:53.729203Z",
     "start_time": "2024-03-07T11:50:53.709351Z"
    }
   },
   "id": "80ca8024520506bd",
   "execution_count": 56
  },
  {
   "cell_type": "code",
   "outputs": [
    {
     "name": "stdout",
     "output_type": "stream",
     "text": [
      "<class 'numpy.ndarray'>:\n",
      " [[1 4]\n",
      " [2 5]\n",
      " [3 6]]\n",
      "\n",
      "<class 'numpy.ndarray'>:\n",
      " [[1 4]\n",
      " [2 5]\n",
      " [3 6]]\n"
     ]
    }
   ],
   "source": [
    "# 전치행렬 (Transpose)\n",
    "# 행렬의 행과 열을 바꾼 행렬.\n",
    "\n",
    "A = np.array([[1, 2, 3],\n",
    "                [4, 5, 6]])\n",
    "A_transpose = np.transpose(A)\n",
    "A_transpose_2 = A.T # A 객체의 메소드를 이용해 전치행렬을 구할 수도 있음.\n",
    "print(f'{type(A_transpose)}:\\n {A_transpose}\\n')\n",
    "print(f'{type(A_transpose_2)}:\\n {A_transpose_2}\\n')\n",
    "\n"
   ],
   "metadata": {
    "collapsed": false,
    "ExecuteTime": {
     "end_time": "2024-03-07T11:52:25.889527Z",
     "start_time": "2024-03-07T11:52:25.881264Z"
    }
   },
   "id": "1dcd937c191a9643",
   "execution_count": 58
  },
  {
   "cell_type": "code",
   "outputs": [],
   "source": [],
   "metadata": {
    "collapsed": false
   },
   "id": "b2c99547ea4f2d45"
  }
 ],
 "metadata": {
  "kernelspec": {
   "display_name": "Python 3",
   "language": "python",
   "name": "python3"
  },
  "language_info": {
   "codemirror_mode": {
    "name": "ipython",
    "version": 2
   },
   "file_extension": ".py",
   "mimetype": "text/x-python",
   "name": "python",
   "nbconvert_exporter": "python",
   "pygments_lexer": "ipython2",
   "version": "2.7.6"
  }
 },
 "nbformat": 4,
 "nbformat_minor": 5
}
