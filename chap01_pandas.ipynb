{
 "cells": [
  {
   "cell_type": "code",
   "execution_count": 1,
   "id": "4904855f83295d85",
   "metadata": {
    "collapsed": false,
    "ExecuteTime": {
     "end_time": "2024-03-07T12:36:10.647502Z",
     "start_time": "2024-03-07T12:36:09.878732Z"
    }
   },
   "outputs": [],
   "source": [
    "import pandas as pd\n",
    "\n"
   ]
  },
  {
   "cell_type": "code",
   "outputs": [],
   "source": [
    "# 예시 csv 데이터 불러오기\n",
    "titanic_df = pd.read_csv('./titanic_train.csv')\n",
    "print(f'titanic 변수 type: {type(titanic_df)}')\n",
    "\n",
    "# df.head(5) : 맨 앞의 5개의 데이터만 출력\n",
    "display(titanic_df.head(5))\n",
    "\n",
    "# df.tail(5) : 맨 뒤의 5개의 데이터만 출력\n",
    "display(titanic_df.tail(5))\n",
    "\n",
    "# df.shape : 행과 열의 크기를 반환\n",
    "display(f'{type(titanic_df.shape)} : {titanic_df.shape}')\n",
    "display(titanic_df.shape)"
   ],
   "metadata": {
    "collapsed": false
   },
   "id": "19c3f399d91057ff"
  },
  {
   "cell_type": "code",
   "outputs": [
    {
     "data": {
      "text/plain": "    Name  Age\n0   John   24\n1   Anna   13\n2  Peter   53\n3  Linda   33",
      "text/html": "<div>\n<style scoped>\n    .dataframe tbody tr th:only-of-type {\n        vertical-align: middle;\n    }\n\n    .dataframe tbody tr th {\n        vertical-align: top;\n    }\n\n    .dataframe thead th {\n        text-align: right;\n    }\n</style>\n<table border=\"1\" class=\"dataframe\">\n  <thead>\n    <tr style=\"text-align: right;\">\n      <th></th>\n      <th>Name</th>\n      <th>Age</th>\n    </tr>\n  </thead>\n  <tbody>\n    <tr>\n      <th>0</th>\n      <td>John</td>\n      <td>24</td>\n    </tr>\n    <tr>\n      <th>1</th>\n      <td>Anna</td>\n      <td>13</td>\n    </tr>\n    <tr>\n      <th>2</th>\n      <td>Peter</td>\n      <td>53</td>\n    </tr>\n    <tr>\n      <th>3</th>\n      <td>Linda</td>\n      <td>33</td>\n    </tr>\n  </tbody>\n</table>\n</div>"
     },
     "metadata": {},
     "output_type": "display_data"
    },
    {
     "data": {
      "text/plain": "   Age   Name Gender\n0   24   John    NaN\n1   13   Anna    NaN\n2   53  Peter    NaN\n3   33  Linda    NaN",
      "text/html": "<div>\n<style scoped>\n    .dataframe tbody tr th:only-of-type {\n        vertical-align: middle;\n    }\n\n    .dataframe tbody tr th {\n        vertical-align: top;\n    }\n\n    .dataframe thead th {\n        text-align: right;\n    }\n</style>\n<table border=\"1\" class=\"dataframe\">\n  <thead>\n    <tr style=\"text-align: right;\">\n      <th></th>\n      <th>Age</th>\n      <th>Name</th>\n      <th>Gender</th>\n    </tr>\n  </thead>\n  <tbody>\n    <tr>\n      <th>0</th>\n      <td>24</td>\n      <td>John</td>\n      <td>NaN</td>\n    </tr>\n    <tr>\n      <th>1</th>\n      <td>13</td>\n      <td>Anna</td>\n      <td>NaN</td>\n    </tr>\n    <tr>\n      <th>2</th>\n      <td>53</td>\n      <td>Peter</td>\n      <td>NaN</td>\n    </tr>\n    <tr>\n      <th>3</th>\n      <td>33</td>\n      <td>Linda</td>\n      <td>NaN</td>\n    </tr>\n  </tbody>\n</table>\n</div>"
     },
     "metadata": {},
     "output_type": "display_data"
    }
   ],
   "source": [
    "# DataFrame 생성\n",
    "# 딕셔너리를 이용하여 DataFrame 생성\n",
    "\n",
    "temp_dict = {\n",
    "    'Name': ['John', 'Anna', 'Peter', 'Linda'],\n",
    "    'Age': [24, 13, 53, 33],\n",
    "}\n",
    "# key가 column 이름이 되고, value가 column의 데이터가 된다.\n",
    "\n",
    "temp_df_01 = pd.DataFrame(temp_dict)\n",
    "display(temp_df_01)\n",
    "\n",
    "# column 이름을 정하여 DataFrame 생성\n",
    "temp_df_02 = pd.DataFrame(temp_dict, columns=['Age', 'Name', 'Gender'])\n",
    "# -> dict의 key에 해당하는 column이 없으면 NaN으로 채워진다.\n",
    "display(temp_df_02)\n"
   ],
   "metadata": {
    "collapsed": false,
    "ExecuteTime": {
     "end_time": "2024-03-09T06:22:43.171202Z",
     "start_time": "2024-03-09T06:22:43.155746Z"
    }
   },
   "id": "f3a4b3a9707e48ec",
   "execution_count": 15
  },
  {
   "cell_type": "code",
   "outputs": [
    {
     "name": "stdout",
     "output_type": "stream",
     "text": [
      "<class 'pandas.core.indexes.base.Index'>:\n",
      "Index(['Age', 'Name', 'Gender'], dtype='object')\n",
      "\n",
      "<class 'pandas.core.indexes.range.RangeIndex'>:\n",
      "RangeIndex(start=0, stop=4, step=1)\n",
      "<class 'numpy.ndarray'>:\n",
      "[[24 'John' nan]\n",
      " [13 'Anna' nan]\n",
      " [53 'Peter' nan]\n",
      " [33 'Linda' nan]]\n"
     ]
    }
   ],
   "source": [
    "# DataFrame의 column 이름 확인\n",
    "temp_df_02_columns = temp_df_02.columns\n",
    "print(f'{type(temp_df_02_columns)}:\\n{temp_df_02_columns}')  # Index 객체로 반환된다.\n",
    "print('')  # 줄바꿈\n",
    "\n",
    "# DataFrame의 index 확인\n",
    "temp_df_02_index = temp_df_02.index\n",
    "print(f'{type(temp_df_02_index)}:\\n{temp_df_02_index}')  # RangeIndex 객체로 반환된다.\n",
    "\n",
    "# DataFrame의 values 확인\n",
    "temp_df_02_values = temp_df_02.values\n",
    "print(f'{type(temp_df_02_values)}:\\n{temp_df_02_values}')  # numpy의 ndarray로 반환된다.\n"
   ],
   "metadata": {
    "collapsed": false,
    "ExecuteTime": {
     "end_time": "2024-03-09T07:16:15.539663Z",
     "start_time": "2024-03-09T07:16:15.526046Z"
    }
   },
   "id": "71d43fa8f3d1e6cb",
   "execution_count": 22
  },
  {
   "cell_type": "code",
   "outputs": [
    {
     "name": "stdout",
     "output_type": "stream",
     "text": [
      "<class 'pandas.core.frame.DataFrame'>\n",
      "RangeIndex: 4 entries, 0 to 3\n",
      "Data columns (total 3 columns):\n",
      " #   Column  Non-Null Count  Dtype \n",
      "---  ------  --------------  ----- \n",
      " 0   Age     4 non-null      int64 \n",
      " 1   Name    4 non-null      object\n",
      " 2   Gender  0 non-null      object\n",
      "dtypes: int64(1), object(2)\n",
      "memory usage: 224.0+ bytes\n",
      "None\n"
     ]
    }
   ],
   "source": [
    "# DataFrame의 정보 확인\n",
    "temp_df_02_info = temp_df_02.info()\n",
    "print(f'{temp_df_02_info}')  # info()는 None을 반환한다.\n"
   ],
   "metadata": {
    "collapsed": false,
    "ExecuteTime": {
     "end_time": "2024-03-09T07:25:46.853152Z",
     "start_time": "2024-03-09T07:25:46.841333Z"
    }
   },
   "id": "bcf4fb865bbc1833",
   "execution_count": 25
  },
  {
   "cell_type": "code",
   "outputs": [
    {
     "name": "stdout",
     "output_type": "stream",
     "text": [
      "<class 'pandas.core.frame.DataFrame'>\n",
      "<class 'pandas.core.series.Series'>:\n",
      "Pclass\n",
      "3    491\n",
      "1    216\n",
      "2    184\n",
      "Name: count, dtype: int64\n",
      "<class 'pandas.core.series.Series'>:\n",
      "Cabin\n",
      "NaN            687\n",
      "C23 C25 C27      4\n",
      "G6               4\n",
      "B96 B98          4\n",
      "C22 C26          3\n",
      "              ... \n",
      "E34              1\n",
      "C7               1\n",
      "C54              1\n",
      "E36              1\n",
      "C148             1\n",
      "Name: count, Length: 148, dtype: int64\n"
     ]
    }
   ],
   "source": [
    "# DataFrame의 기초 통계 정보 확인\n",
    "titanic_df = pd.read_csv('./titanic_train.csv')\n",
    "titanic_df.describe()\n",
    "print(f'{type(titanic_df.describe())}')\n",
    "\n",
    "# value_counts() : Series 객채의 메소드. 해당 series의 값 분포를 확인.\n",
    "titanic_Pclass_value_counts = titanic_df['Pclass'].value_counts(dropna=False)\n",
    "titanic_cabin_value_counts = titanic_df['Cabin'].value_counts(dropna=False)\n",
    "print(f'{type(titanic_Pclass_value_counts)}:\\n{titanic_Pclass_value_counts}')\n",
    "print(f'{type(titanic_cabin_value_counts)}:\\n{titanic_cabin_value_counts}')\n"
   ],
   "metadata": {
    "collapsed": false,
    "ExecuteTime": {
     "end_time": "2024-03-10T17:13:56.721236Z",
     "start_time": "2024-03-10T17:13:56.687258Z"
    }
   },
   "id": "580c7b499cefa37",
   "execution_count": 18
  },
  {
   "cell_type": "markdown",
   "source": [
    "# DataFrame <-> list, dict, ndarray 변환"
   ],
   "metadata": {
    "collapsed": false
   },
   "id": "9f20d0e3307a0e88"
  },
  {
   "cell_type": "code",
   "outputs": [
    {
     "data": {
      "text/plain": "   age\n0   24\n1   13\n2   53\n3   33",
      "text/html": "<div>\n<style scoped>\n    .dataframe tbody tr th:only-of-type {\n        vertical-align: middle;\n    }\n\n    .dataframe tbody tr th {\n        vertical-align: top;\n    }\n\n    .dataframe thead th {\n        text-align: right;\n    }\n</style>\n<table border=\"1\" class=\"dataframe\">\n  <thead>\n    <tr style=\"text-align: right;\">\n      <th></th>\n      <th>age</th>\n    </tr>\n  </thead>\n  <tbody>\n    <tr>\n      <th>0</th>\n      <td>24</td>\n    </tr>\n    <tr>\n      <th>1</th>\n      <td>13</td>\n    </tr>\n    <tr>\n      <th>2</th>\n      <td>53</td>\n    </tr>\n    <tr>\n      <th>3</th>\n      <td>33</td>\n    </tr>\n  </tbody>\n</table>\n</div>"
     },
     "metadata": {},
     "output_type": "display_data"
    },
    {
     "data": {
      "text/plain": "    Name  Age\n0   John   24\n1   Anna   13\n2  Peter   53\n3  Linda   33",
      "text/html": "<div>\n<style scoped>\n    .dataframe tbody tr th:only-of-type {\n        vertical-align: middle;\n    }\n\n    .dataframe tbody tr th {\n        vertical-align: top;\n    }\n\n    .dataframe thead th {\n        text-align: right;\n    }\n</style>\n<table border=\"1\" class=\"dataframe\">\n  <thead>\n    <tr style=\"text-align: right;\">\n      <th></th>\n      <th>Name</th>\n      <th>Age</th>\n    </tr>\n  </thead>\n  <tbody>\n    <tr>\n      <th>0</th>\n      <td>John</td>\n      <td>24</td>\n    </tr>\n    <tr>\n      <th>1</th>\n      <td>Anna</td>\n      <td>13</td>\n    </tr>\n    <tr>\n      <th>2</th>\n      <td>Peter</td>\n      <td>53</td>\n    </tr>\n    <tr>\n      <th>3</th>\n      <td>Linda</td>\n      <td>33</td>\n    </tr>\n  </tbody>\n</table>\n</div>"
     },
     "metadata": {},
     "output_type": "display_data"
    },
    {
     "data": {
      "text/plain": "     user01 user02 user03 user04\nName   John   Anna  Peter  Linda\nAge      24     13     53     33",
      "text/html": "<div>\n<style scoped>\n    .dataframe tbody tr th:only-of-type {\n        vertical-align: middle;\n    }\n\n    .dataframe tbody tr th {\n        vertical-align: top;\n    }\n\n    .dataframe thead th {\n        text-align: right;\n    }\n</style>\n<table border=\"1\" class=\"dataframe\">\n  <thead>\n    <tr style=\"text-align: right;\">\n      <th></th>\n      <th>user01</th>\n      <th>user02</th>\n      <th>user03</th>\n      <th>user04</th>\n    </tr>\n  </thead>\n  <tbody>\n    <tr>\n      <th>Name</th>\n      <td>John</td>\n      <td>Anna</td>\n      <td>Peter</td>\n      <td>Linda</td>\n    </tr>\n    <tr>\n      <th>Age</th>\n      <td>24</td>\n      <td>13</td>\n      <td>53</td>\n      <td>33</td>\n    </tr>\n  </tbody>\n</table>\n</div>"
     },
     "metadata": {},
     "output_type": "display_data"
    },
    {
     "data": {
      "text/plain": "         Name Age\nuser01   John  24\nuser02   Anna  13\nuser03  Peter  53\nuser04  Linda  33",
      "text/html": "<div>\n<style scoped>\n    .dataframe tbody tr th:only-of-type {\n        vertical-align: middle;\n    }\n\n    .dataframe tbody tr th {\n        vertical-align: top;\n    }\n\n    .dataframe thead th {\n        text-align: right;\n    }\n</style>\n<table border=\"1\" class=\"dataframe\">\n  <thead>\n    <tr style=\"text-align: right;\">\n      <th></th>\n      <th>Name</th>\n      <th>Age</th>\n    </tr>\n  </thead>\n  <tbody>\n    <tr>\n      <th>user01</th>\n      <td>John</td>\n      <td>24</td>\n    </tr>\n    <tr>\n      <th>user02</th>\n      <td>Anna</td>\n      <td>13</td>\n    </tr>\n    <tr>\n      <th>user03</th>\n      <td>Peter</td>\n      <td>53</td>\n    </tr>\n    <tr>\n      <th>user04</th>\n      <td>Linda</td>\n      <td>33</td>\n    </tr>\n  </tbody>\n</table>\n</div>"
     },
     "metadata": {},
     "output_type": "display_data"
    },
    {
     "data": {
      "text/plain": "  Age   Name\n0  24   John\n1  13   Anna\n2  53  Peter\n3  33  Linda",
      "text/html": "<div>\n<style scoped>\n    .dataframe tbody tr th:only-of-type {\n        vertical-align: middle;\n    }\n\n    .dataframe tbody tr th {\n        vertical-align: top;\n    }\n\n    .dataframe thead th {\n        text-align: right;\n    }\n</style>\n<table border=\"1\" class=\"dataframe\">\n  <thead>\n    <tr style=\"text-align: right;\">\n      <th></th>\n      <th>Age</th>\n      <th>Name</th>\n    </tr>\n  </thead>\n  <tbody>\n    <tr>\n      <th>0</th>\n      <td>24</td>\n      <td>John</td>\n    </tr>\n    <tr>\n      <th>1</th>\n      <td>13</td>\n      <td>Anna</td>\n    </tr>\n    <tr>\n      <th>2</th>\n      <td>53</td>\n      <td>Peter</td>\n    </tr>\n    <tr>\n      <th>3</th>\n      <td>33</td>\n      <td>Linda</td>\n    </tr>\n  </tbody>\n</table>\n</div>"
     },
     "metadata": {},
     "output_type": "display_data"
    }
   ],
   "source": [
    "# list -> DataFrame\n",
    "temp_list = [24, 13, 53, 33]\n",
    "temp_df_from_list = pd.DataFrame(temp_list, columns=['age'])\n",
    "display(temp_df_from_list)\n",
    "\n",
    "# dict -> DataFrame\n",
    "temp_dict_01 = {\n",
    "    'Name': ['John', 'Anna', 'Peter', 'Linda'],\n",
    "    'Age': [24, 13, 53, 33],\n",
    "}\n",
    "temp_df_from_dict_01 = pd.DataFrame(temp_dict_01)\n",
    "display(temp_df_from_dict_01)\n",
    "\n",
    "# JSON 같은 형태의 데이터가 들어오면 어떻게 하나?\n",
    "temp_dict_02 = {'user01': {'Name': 'John', 'Age': 24}, 'user02': {'Name': 'Anna', 'Age': 13},\n",
    "                'user03': {'Name': 'Peter', 'Age': 53}, 'user04': {'Name': 'Linda', 'Age': 33}}\n",
    "\n",
    "temp_df_from_dict_02 = pd.DataFrame(temp_dict_02)\n",
    "display(temp_df_from_dict_02)\n",
    "\n",
    "# change temp_dict_02 to make df with columns=['Name', 'Age']\n",
    "temp_df_from_dict_02 = pd.DataFrame(temp_dict_02).T\n",
    "display(temp_df_from_dict_02)\n",
    "\n",
    "# ndarray -> DataFrame\n",
    "import numpy as np\n",
    "\n",
    "temp_ndarray = np.array([[24, 13, 53, 33], ['John', 'Anna', 'Peter', 'Linda']])\n",
    "temp_df_from_ndarray = pd.DataFrame(temp_ndarray.T, columns=['Age', 'Name'])\n",
    "display(temp_df_from_ndarray)\n"
   ],
   "metadata": {
    "collapsed": false,
    "ExecuteTime": {
     "end_time": "2024-03-09T15:48:11.911297Z",
     "start_time": "2024-03-09T15:48:11.858615Z"
    }
   },
   "id": "24b845af4de5f715",
   "execution_count": 66
  },
  {
   "cell_type": "code",
   "outputs": [
    {
     "name": "stdout",
     "output_type": "stream",
     "text": [
      "<class 'list'>:\n",
      "[['John', 24], ['Anna', 13], ['Peter', 53], ['Linda', 33]]\n",
      "<class 'numpy.ndarray'>:\n",
      "[['John' 24]\n",
      " ['Anna' 13]\n",
      " ['Peter' 53]\n",
      " ['Linda' 33]]\n",
      "<class 'dict'>:\n",
      "{'Name': {'user01': 'John', 'user02': 'Anna', 'user03': 'Peter', 'user04': 'Linda'}, 'Age': {'user01': 24, 'user02': 13, 'user03': 53, 'user04': 33}}\n"
     ]
    }
   ],
   "source": [
    "# DataFrame -> list\n",
    "# values 속성으로 ndarray화. 이후 tolist()로 리스트화.\n",
    "list_from_df = temp_df_from_dict_02.values.tolist()\n",
    "print(f'{type(list_from_df)}:\\n{list_from_df}')\n",
    "\n",
    "# DataFrame -> ndarray\n",
    "# values 속성으로 ndarray화.\n",
    "ndarray_from_df = temp_df_from_dict_02.values\n",
    "print(f'{type(ndarray_from_df)}:\\n{ndarray_from_df}')\n",
    "\n",
    "# DataFrame -> dict\n",
    "# df.to_dict() method 이용 dict화.\n",
    "dict_from_df = temp_df_from_dict_02.to_dict()\n",
    "print(f'{type(dict_from_df)}:\\n{dict_from_df}')"
   ],
   "metadata": {
    "collapsed": false,
    "ExecuteTime": {
     "end_time": "2024-03-09T15:48:19.743342Z",
     "start_time": "2024-03-09T15:48:19.733416Z"
    }
   },
   "id": "efb1b02fff2672f6",
   "execution_count": 67
  },
  {
   "cell_type": "markdown",
   "source": [
    "# DataFrame 데이터 생성, 변경, 삭제"
   ],
   "metadata": {
    "collapsed": false
   },
   "id": "713b16372b7a907e"
  },
  {
   "cell_type": "code",
   "outputs": [
    {
     "data": {
      "text/plain": "         Name Age\nuser01   John  24\nuser02   Anna  13\nuser03  Peter  53\nuser04  Linda  33",
      "text/html": "<div>\n<style scoped>\n    .dataframe tbody tr th:only-of-type {\n        vertical-align: middle;\n    }\n\n    .dataframe tbody tr th {\n        vertical-align: top;\n    }\n\n    .dataframe thead th {\n        text-align: right;\n    }\n</style>\n<table border=\"1\" class=\"dataframe\">\n  <thead>\n    <tr style=\"text-align: right;\">\n      <th></th>\n      <th>Name</th>\n      <th>Age</th>\n    </tr>\n  </thead>\n  <tbody>\n    <tr>\n      <th>user01</th>\n      <td>John</td>\n      <td>24</td>\n    </tr>\n    <tr>\n      <th>user02</th>\n      <td>Anna</td>\n      <td>13</td>\n    </tr>\n    <tr>\n      <th>user03</th>\n      <td>Peter</td>\n      <td>53</td>\n    </tr>\n    <tr>\n      <th>user04</th>\n      <td>Linda</td>\n      <td>33</td>\n    </tr>\n  </tbody>\n</table>\n</div>"
     },
     "metadata": {},
     "output_type": "display_data"
    },
    {
     "data": {
      "text/plain": "         Name Age  new_col  new_col_x10\nuser01   John  24        1           10\nuser02   Anna  13        2           20\nuser03  Peter  53        3           30\nuser04  Linda  33        4           40",
      "text/html": "<div>\n<style scoped>\n    .dataframe tbody tr th:only-of-type {\n        vertical-align: middle;\n    }\n\n    .dataframe tbody tr th {\n        vertical-align: top;\n    }\n\n    .dataframe thead th {\n        text-align: right;\n    }\n</style>\n<table border=\"1\" class=\"dataframe\">\n  <thead>\n    <tr style=\"text-align: right;\">\n      <th></th>\n      <th>Name</th>\n      <th>Age</th>\n      <th>new_col</th>\n      <th>new_col_x10</th>\n    </tr>\n  </thead>\n  <tbody>\n    <tr>\n      <th>user01</th>\n      <td>John</td>\n      <td>24</td>\n      <td>1</td>\n      <td>10</td>\n    </tr>\n    <tr>\n      <th>user02</th>\n      <td>Anna</td>\n      <td>13</td>\n      <td>2</td>\n      <td>20</td>\n    </tr>\n    <tr>\n      <th>user03</th>\n      <td>Peter</td>\n      <td>53</td>\n      <td>3</td>\n      <td>30</td>\n    </tr>\n    <tr>\n      <th>user04</th>\n      <td>Linda</td>\n      <td>33</td>\n      <td>4</td>\n      <td>40</td>\n    </tr>\n  </tbody>\n</table>\n</div>"
     },
     "metadata": {},
     "output_type": "display_data"
    },
    {
     "data": {
      "text/plain": "         Name Age  new_col  new_col_x10\nuser01   John  24        5           10\nuser02   Anna  13        6           20\nuser03  Peter  53        7           30\nuser04  Linda  33        8           40",
      "text/html": "<div>\n<style scoped>\n    .dataframe tbody tr th:only-of-type {\n        vertical-align: middle;\n    }\n\n    .dataframe tbody tr th {\n        vertical-align: top;\n    }\n\n    .dataframe thead th {\n        text-align: right;\n    }\n</style>\n<table border=\"1\" class=\"dataframe\">\n  <thead>\n    <tr style=\"text-align: right;\">\n      <th></th>\n      <th>Name</th>\n      <th>Age</th>\n      <th>new_col</th>\n      <th>new_col_x10</th>\n    </tr>\n  </thead>\n  <tbody>\n    <tr>\n      <th>user01</th>\n      <td>John</td>\n      <td>24</td>\n      <td>5</td>\n      <td>10</td>\n    </tr>\n    <tr>\n      <th>user02</th>\n      <td>Anna</td>\n      <td>13</td>\n      <td>6</td>\n      <td>20</td>\n    </tr>\n    <tr>\n      <th>user03</th>\n      <td>Peter</td>\n      <td>53</td>\n      <td>7</td>\n      <td>30</td>\n    </tr>\n    <tr>\n      <th>user04</th>\n      <td>Linda</td>\n      <td>33</td>\n      <td>8</td>\n      <td>40</td>\n    </tr>\n  </tbody>\n</table>\n</div>"
     },
     "metadata": {},
     "output_type": "display_data"
    }
   ],
   "source": [
    "display(temp_df_from_dict_02)\n",
    "temp_df_from_dict_03 = temp_df_from_dict_02\n",
    "# 새로운 컬럼 생성\n",
    "temp_df_from_dict_03['new_col'] = [1, 2, 3, 4]\n",
    "temp_df_from_dict_03['new_col_x10'] = temp_df_from_dict_03['new_col'] * 10\n",
    "display(temp_df_from_dict_03)\n",
    "\n",
    "# 컬럼 값 변경\n",
    "temp_df_from_dict_03['new_col'] = [5, 6, 7, 8]\n",
    "display(temp_df_from_dict_03)"
   ],
   "metadata": {
    "collapsed": false,
    "ExecuteTime": {
     "end_time": "2024-03-09T15:48:24.691496Z",
     "start_time": "2024-03-09T15:48:24.661732Z"
    }
   },
   "id": "462defe10cad78a2",
   "execution_count": 68
  },
  {
   "cell_type": "code",
   "outputs": [
    {
     "data": {
      "text/plain": "         Name  new_col_x10\nuser01   John           10\nuser02   Anna           20\nuser03  Peter           30\nuser04  Linda           40",
      "text/html": "<div>\n<style scoped>\n    .dataframe tbody tr th:only-of-type {\n        vertical-align: middle;\n    }\n\n    .dataframe tbody tr th {\n        vertical-align: top;\n    }\n\n    .dataframe thead th {\n        text-align: right;\n    }\n</style>\n<table border=\"1\" class=\"dataframe\">\n  <thead>\n    <tr style=\"text-align: right;\">\n      <th></th>\n      <th>Name</th>\n      <th>new_col_x10</th>\n    </tr>\n  </thead>\n  <tbody>\n    <tr>\n      <th>user01</th>\n      <td>John</td>\n      <td>10</td>\n    </tr>\n    <tr>\n      <th>user02</th>\n      <td>Anna</td>\n      <td>20</td>\n    </tr>\n    <tr>\n      <th>user03</th>\n      <td>Peter</td>\n      <td>30</td>\n    </tr>\n    <tr>\n      <th>user04</th>\n      <td>Linda</td>\n      <td>40</td>\n    </tr>\n  </tbody>\n</table>\n</div>"
     },
     "metadata": {},
     "output_type": "display_data"
    },
    {
     "data": {
      "text/plain": "         Name Age  new_col  new_col_x10\nuser01   John  24        5           10\nuser02   Anna  13        6           20\nuser03  Peter  53        7           30\nuser04  Linda  33        8           40",
      "text/html": "<div>\n<style scoped>\n    .dataframe tbody tr th:only-of-type {\n        vertical-align: middle;\n    }\n\n    .dataframe tbody tr th {\n        vertical-align: top;\n    }\n\n    .dataframe thead th {\n        text-align: right;\n    }\n</style>\n<table border=\"1\" class=\"dataframe\">\n  <thead>\n    <tr style=\"text-align: right;\">\n      <th></th>\n      <th>Name</th>\n      <th>Age</th>\n      <th>new_col</th>\n      <th>new_col_x10</th>\n    </tr>\n  </thead>\n  <tbody>\n    <tr>\n      <th>user01</th>\n      <td>John</td>\n      <td>24</td>\n      <td>5</td>\n      <td>10</td>\n    </tr>\n    <tr>\n      <th>user02</th>\n      <td>Anna</td>\n      <td>13</td>\n      <td>6</td>\n      <td>20</td>\n    </tr>\n    <tr>\n      <th>user03</th>\n      <td>Peter</td>\n      <td>53</td>\n      <td>7</td>\n      <td>30</td>\n    </tr>\n    <tr>\n      <th>user04</th>\n      <td>Linda</td>\n      <td>33</td>\n      <td>8</td>\n      <td>40</td>\n    </tr>\n  </tbody>\n</table>\n</div>"
     },
     "metadata": {},
     "output_type": "display_data"
    }
   ],
   "source": [
    "# DataFrame 데이터 삭제\n",
    "# df.drop() method 이용한다.\n",
    "# axis=0 이면 row, axis=1 이면 column 의미.\n",
    "# inplace=True 이면 원본 DataFrame을 변경한다. 기본값은 False.\n",
    "temp_df = temp_df_from_dict_03\n",
    "\n",
    "temp_df_dropped = temp_df.drop(labels=['Age', 'new_col'], axis=1)\n",
    "display(temp_df_dropped)\n",
    "display(temp_df)\n",
    "\n",
    "\n"
   ],
   "metadata": {
    "collapsed": false,
    "ExecuteTime": {
     "end_time": "2024-03-09T15:48:25.648374Z",
     "start_time": "2024-03-09T15:48:25.601715Z"
    }
   },
   "id": "391b6b6c0285e5eb",
   "execution_count": 69
  },
  {
   "cell_type": "markdown",
   "source": [
    "# Index 객체"
   ],
   "metadata": {
    "collapsed": false
   },
   "id": "5b458a38a3b69947"
  },
  {
   "cell_type": "code",
   "outputs": [
    {
     "data": {
      "text/plain": "Index(['user01', 'user02', 'user03', 'user04'], dtype='object')"
     },
     "metadata": {},
     "output_type": "display_data"
    },
    {
     "name": "stdout",
     "output_type": "stream",
     "text": [
      "<class 'numpy.ndarray'>:\n",
      "['user01' 'user02' 'user03' 'user04']\n"
     ]
    },
    {
     "data": {
      "text/plain": "    index   Name Age  new_col  new_col_x10\n0  user01   John  24        5           10\n1  user02   Anna  13        6           20\n2  user03  Peter  53        7           30\n3  user04  Linda  33        8           40",
      "text/html": "<div>\n<style scoped>\n    .dataframe tbody tr th:only-of-type {\n        vertical-align: middle;\n    }\n\n    .dataframe tbody tr th {\n        vertical-align: top;\n    }\n\n    .dataframe thead th {\n        text-align: right;\n    }\n</style>\n<table border=\"1\" class=\"dataframe\">\n  <thead>\n    <tr style=\"text-align: right;\">\n      <th></th>\n      <th>index</th>\n      <th>Name</th>\n      <th>Age</th>\n      <th>new_col</th>\n      <th>new_col_x10</th>\n    </tr>\n  </thead>\n  <tbody>\n    <tr>\n      <th>0</th>\n      <td>user01</td>\n      <td>John</td>\n      <td>24</td>\n      <td>5</td>\n      <td>10</td>\n    </tr>\n    <tr>\n      <th>1</th>\n      <td>user02</td>\n      <td>Anna</td>\n      <td>13</td>\n      <td>6</td>\n      <td>20</td>\n    </tr>\n    <tr>\n      <th>2</th>\n      <td>user03</td>\n      <td>Peter</td>\n      <td>53</td>\n      <td>7</td>\n      <td>30</td>\n    </tr>\n    <tr>\n      <th>3</th>\n      <td>user04</td>\n      <td>Linda</td>\n      <td>33</td>\n      <td>8</td>\n      <td>40</td>\n    </tr>\n  </tbody>\n</table>\n</div>"
     },
     "metadata": {},
     "output_type": "display_data"
    },
    {
     "name": "stdout",
     "output_type": "stream",
     "text": [
      "<class 'pandas.core.indexes.range.RangeIndex'>:\n",
      "RangeIndex(start=0, stop=4, step=1)\n"
     ]
    },
    {
     "data": {
      "text/plain": "     index   Name Age  new_col  new_col_x10\n10  user01   John  24        5           10\n11  user02   Anna  13        6           20\n12  user03  Peter  53        7           30\n13  user04  Linda  33        8           40",
      "text/html": "<div>\n<style scoped>\n    .dataframe tbody tr th:only-of-type {\n        vertical-align: middle;\n    }\n\n    .dataframe tbody tr th {\n        vertical-align: top;\n    }\n\n    .dataframe thead th {\n        text-align: right;\n    }\n</style>\n<table border=\"1\" class=\"dataframe\">\n  <thead>\n    <tr style=\"text-align: right;\">\n      <th></th>\n      <th>index</th>\n      <th>Name</th>\n      <th>Age</th>\n      <th>new_col</th>\n      <th>new_col_x10</th>\n    </tr>\n  </thead>\n  <tbody>\n    <tr>\n      <th>10</th>\n      <td>user01</td>\n      <td>John</td>\n      <td>24</td>\n      <td>5</td>\n      <td>10</td>\n    </tr>\n    <tr>\n      <th>11</th>\n      <td>user02</td>\n      <td>Anna</td>\n      <td>13</td>\n      <td>6</td>\n      <td>20</td>\n    </tr>\n    <tr>\n      <th>12</th>\n      <td>user03</td>\n      <td>Peter</td>\n      <td>53</td>\n      <td>7</td>\n      <td>30</td>\n    </tr>\n    <tr>\n      <th>13</th>\n      <td>user04</td>\n      <td>Linda</td>\n      <td>33</td>\n      <td>8</td>\n      <td>40</td>\n    </tr>\n  </tbody>\n</table>\n</div>"
     },
     "metadata": {},
     "output_type": "display_data"
    },
    {
     "name": "stdout",
     "output_type": "stream",
     "text": [
      "<class 'pandas.core.indexes.base.Index'>:\n",
      "Index([10, 11, 12, 13], dtype='int64')\n"
     ]
    }
   ],
   "source": [
    "# Index 객체에 대하여\n",
    "# Index 객체는 DataFrame, Series의 각 정보를 고유하게 식별하는 역할.\n",
    "# 이 때, 만들어진 df 앞에 붙어있는 Index는 하나의 컬럼으로 인식되지 않는다.\n",
    "\n",
    "# Index 객체의 추출을 위해선 dataframe/series의 index 속성을 이용한다.\n",
    "temp_df_for_index = temp_df_from_dict_03\n",
    "display(temp_df_for_index.index)\n",
    "index_array = temp_df_for_index.index.values  # 값을 받아와 쓰려면 ndarray로 받아온다.\n",
    "print(f'{type(index_array)}:\\n{index_array}')\n",
    "\n",
    "# Index를 초기화하려면 dataframe/series 의 reset_index() 함수를 이용한다.\n",
    "# 이때도 기존에 있던 dataframe을 이용하려는게 기본설정이라 inplace=False 되어있다.\n",
    "# 메모리 아끼기 위해서 inplace=True로 바꿔줄 수 있다.\n",
    "# 인덱스 리셋되면 기존 인덱스는 가장 첫 column에 index 이름으로 만들어진다.\n",
    "# 새로운 인덱스는 RangeIndex로 초기화된다.\n",
    "df_index_reset = temp_df_for_index.reset_index()  # inplace=False 기본.\n",
    "display(df_index_reset)\n",
    "print(f'{type(df_index_reset.index)}:\\n{df_index_reset.index}')\n",
    "\n",
    "# 변경하려면 Index 객체에 새로운 정보들을 list로 넣어준다.\n",
    "df_index_reset.index = [10, 11, 12, 13]\n",
    "display(df_index_reset)\n",
    "print(f'{type(df_index_reset.index)}:\\n{df_index_reset.index}')"
   ],
   "metadata": {
    "collapsed": false,
    "ExecuteTime": {
     "end_time": "2024-03-09T15:57:59.809380Z",
     "start_time": "2024-03-09T15:57:59.776591Z"
    }
   },
   "id": "5ba4b8087512c581",
   "execution_count": 78
  },
  {
   "cell_type": "markdown",
   "source": [
    "# DataFrame 인덱싱, 필터링"
   ],
   "metadata": {
    "collapsed": false
   },
   "id": "3d2b205a1c785c36"
  },
  {
   "cell_type": "code",
   "outputs": [],
   "source": [
    "import pandas as pd"
   ],
   "metadata": {
    "collapsed": false,
    "ExecuteTime": {
     "end_time": "2024-03-10T16:51:33.036840Z",
     "start_time": "2024-03-10T16:51:31.991524Z"
    }
   },
   "id": "6f9439a1d959902d",
   "execution_count": 1
  },
  {
   "cell_type": "code",
   "outputs": [
    {
     "data": {
      "text/plain": "     PassengerId  Survived  Pclass  \\\n0              1         0       3   \n1              2         1       1   \n2              3         1       3   \n3              4         1       1   \n4              5         0       3   \n..           ...       ...     ...   \n886          887         0       2   \n887          888         1       1   \n888          889         0       3   \n889          890         1       1   \n890          891         0       3   \n\n                                                  Name     Sex   Age  SibSp  \\\n0                              Braund, Mr. Owen Harris    male  22.0      1   \n1    Cumings, Mrs. John Bradley (Florence Briggs Th...  female  38.0      1   \n2                               Heikkinen, Miss. Laina  female  26.0      0   \n3         Futrelle, Mrs. Jacques Heath (Lily May Peel)  female  35.0      1   \n4                             Allen, Mr. William Henry    male  35.0      0   \n..                                                 ...     ...   ...    ...   \n886                              Montvila, Rev. Juozas    male  27.0      0   \n887                       Graham, Miss. Margaret Edith  female  19.0      0   \n888           Johnston, Miss. Catherine Helen \"Carrie\"  female   NaN      1   \n889                              Behr, Mr. Karl Howell    male  26.0      0   \n890                                Dooley, Mr. Patrick    male  32.0      0   \n\n     Parch            Ticket     Fare Cabin Embarked  \n0        0         A/5 21171   7.2500   NaN        S  \n1        0          PC 17599  71.2833   C85        C  \n2        0  STON/O2. 3101282   7.9250   NaN        S  \n3        0            113803  53.1000  C123        S  \n4        0            373450   8.0500   NaN        S  \n..     ...               ...      ...   ...      ...  \n886      0            211536  13.0000   NaN        S  \n887      0            112053  30.0000   B42        S  \n888      2        W./C. 6607  23.4500   NaN        S  \n889      0            111369  30.0000  C148        C  \n890      0            370376   7.7500   NaN        Q  \n\n[891 rows x 12 columns]",
      "text/html": "<div>\n<style scoped>\n    .dataframe tbody tr th:only-of-type {\n        vertical-align: middle;\n    }\n\n    .dataframe tbody tr th {\n        vertical-align: top;\n    }\n\n    .dataframe thead th {\n        text-align: right;\n    }\n</style>\n<table border=\"1\" class=\"dataframe\">\n  <thead>\n    <tr style=\"text-align: right;\">\n      <th></th>\n      <th>PassengerId</th>\n      <th>Survived</th>\n      <th>Pclass</th>\n      <th>Name</th>\n      <th>Sex</th>\n      <th>Age</th>\n      <th>SibSp</th>\n      <th>Parch</th>\n      <th>Ticket</th>\n      <th>Fare</th>\n      <th>Cabin</th>\n      <th>Embarked</th>\n    </tr>\n  </thead>\n  <tbody>\n    <tr>\n      <th>0</th>\n      <td>1</td>\n      <td>0</td>\n      <td>3</td>\n      <td>Braund, Mr. Owen Harris</td>\n      <td>male</td>\n      <td>22.0</td>\n      <td>1</td>\n      <td>0</td>\n      <td>A/5 21171</td>\n      <td>7.2500</td>\n      <td>NaN</td>\n      <td>S</td>\n    </tr>\n    <tr>\n      <th>1</th>\n      <td>2</td>\n      <td>1</td>\n      <td>1</td>\n      <td>Cumings, Mrs. John Bradley (Florence Briggs Th...</td>\n      <td>female</td>\n      <td>38.0</td>\n      <td>1</td>\n      <td>0</td>\n      <td>PC 17599</td>\n      <td>71.2833</td>\n      <td>C85</td>\n      <td>C</td>\n    </tr>\n    <tr>\n      <th>2</th>\n      <td>3</td>\n      <td>1</td>\n      <td>3</td>\n      <td>Heikkinen, Miss. Laina</td>\n      <td>female</td>\n      <td>26.0</td>\n      <td>0</td>\n      <td>0</td>\n      <td>STON/O2. 3101282</td>\n      <td>7.9250</td>\n      <td>NaN</td>\n      <td>S</td>\n    </tr>\n    <tr>\n      <th>3</th>\n      <td>4</td>\n      <td>1</td>\n      <td>1</td>\n      <td>Futrelle, Mrs. Jacques Heath (Lily May Peel)</td>\n      <td>female</td>\n      <td>35.0</td>\n      <td>1</td>\n      <td>0</td>\n      <td>113803</td>\n      <td>53.1000</td>\n      <td>C123</td>\n      <td>S</td>\n    </tr>\n    <tr>\n      <th>4</th>\n      <td>5</td>\n      <td>0</td>\n      <td>3</td>\n      <td>Allen, Mr. William Henry</td>\n      <td>male</td>\n      <td>35.0</td>\n      <td>0</td>\n      <td>0</td>\n      <td>373450</td>\n      <td>8.0500</td>\n      <td>NaN</td>\n      <td>S</td>\n    </tr>\n    <tr>\n      <th>...</th>\n      <td>...</td>\n      <td>...</td>\n      <td>...</td>\n      <td>...</td>\n      <td>...</td>\n      <td>...</td>\n      <td>...</td>\n      <td>...</td>\n      <td>...</td>\n      <td>...</td>\n      <td>...</td>\n      <td>...</td>\n    </tr>\n    <tr>\n      <th>886</th>\n      <td>887</td>\n      <td>0</td>\n      <td>2</td>\n      <td>Montvila, Rev. Juozas</td>\n      <td>male</td>\n      <td>27.0</td>\n      <td>0</td>\n      <td>0</td>\n      <td>211536</td>\n      <td>13.0000</td>\n      <td>NaN</td>\n      <td>S</td>\n    </tr>\n    <tr>\n      <th>887</th>\n      <td>888</td>\n      <td>1</td>\n      <td>1</td>\n      <td>Graham, Miss. Margaret Edith</td>\n      <td>female</td>\n      <td>19.0</td>\n      <td>0</td>\n      <td>0</td>\n      <td>112053</td>\n      <td>30.0000</td>\n      <td>B42</td>\n      <td>S</td>\n    </tr>\n    <tr>\n      <th>888</th>\n      <td>889</td>\n      <td>0</td>\n      <td>3</td>\n      <td>Johnston, Miss. Catherine Helen \"Carrie\"</td>\n      <td>female</td>\n      <td>NaN</td>\n      <td>1</td>\n      <td>2</td>\n      <td>W./C. 6607</td>\n      <td>23.4500</td>\n      <td>NaN</td>\n      <td>S</td>\n    </tr>\n    <tr>\n      <th>889</th>\n      <td>890</td>\n      <td>1</td>\n      <td>1</td>\n      <td>Behr, Mr. Karl Howell</td>\n      <td>male</td>\n      <td>26.0</td>\n      <td>0</td>\n      <td>0</td>\n      <td>111369</td>\n      <td>30.0000</td>\n      <td>C148</td>\n      <td>C</td>\n    </tr>\n    <tr>\n      <th>890</th>\n      <td>891</td>\n      <td>0</td>\n      <td>3</td>\n      <td>Dooley, Mr. Patrick</td>\n      <td>male</td>\n      <td>32.0</td>\n      <td>0</td>\n      <td>0</td>\n      <td>370376</td>\n      <td>7.7500</td>\n      <td>NaN</td>\n      <td>Q</td>\n    </tr>\n  </tbody>\n</table>\n<p>891 rows × 12 columns</p>\n</div>"
     },
     "metadata": {},
     "output_type": "display_data"
    },
    {
     "name": "stdout",
     "output_type": "stream",
     "text": [
      "['PassengerId' 'Survived' 'Pclass' 'Name' 'Sex' 'Age' 'SibSp' 'Parch'\n",
      " 'Ticket' 'Fare' 'Cabin' 'Embarked']\n"
     ]
    },
    {
     "data": {
      "text/plain": "0      3\n1      1\n2      3\n3      1\n4      3\n      ..\n886    2\n887    1\n888    3\n889    1\n890    3\nName: Pclass, Length: 891, dtype: int64"
     },
     "metadata": {},
     "output_type": "display_data"
    },
    {
     "data": {
      "text/plain": "     PassengerId                                               Name  Pclass\n0              1                            Braund, Mr. Owen Harris       3\n1              2  Cumings, Mrs. John Bradley (Florence Briggs Th...       1\n2              3                             Heikkinen, Miss. Laina       3\n3              4       Futrelle, Mrs. Jacques Heath (Lily May Peel)       1\n4              5                           Allen, Mr. William Henry       3\n..           ...                                                ...     ...\n886          887                              Montvila, Rev. Juozas       2\n887          888                       Graham, Miss. Margaret Edith       1\n888          889           Johnston, Miss. Catherine Helen \"Carrie\"       3\n889          890                              Behr, Mr. Karl Howell       1\n890          891                                Dooley, Mr. Patrick       3\n\n[891 rows x 3 columns]",
      "text/html": "<div>\n<style scoped>\n    .dataframe tbody tr th:only-of-type {\n        vertical-align: middle;\n    }\n\n    .dataframe tbody tr th {\n        vertical-align: top;\n    }\n\n    .dataframe thead th {\n        text-align: right;\n    }\n</style>\n<table border=\"1\" class=\"dataframe\">\n  <thead>\n    <tr style=\"text-align: right;\">\n      <th></th>\n      <th>PassengerId</th>\n      <th>Name</th>\n      <th>Pclass</th>\n    </tr>\n  </thead>\n  <tbody>\n    <tr>\n      <th>0</th>\n      <td>1</td>\n      <td>Braund, Mr. Owen Harris</td>\n      <td>3</td>\n    </tr>\n    <tr>\n      <th>1</th>\n      <td>2</td>\n      <td>Cumings, Mrs. John Bradley (Florence Briggs Th...</td>\n      <td>1</td>\n    </tr>\n    <tr>\n      <th>2</th>\n      <td>3</td>\n      <td>Heikkinen, Miss. Laina</td>\n      <td>3</td>\n    </tr>\n    <tr>\n      <th>3</th>\n      <td>4</td>\n      <td>Futrelle, Mrs. Jacques Heath (Lily May Peel)</td>\n      <td>1</td>\n    </tr>\n    <tr>\n      <th>4</th>\n      <td>5</td>\n      <td>Allen, Mr. William Henry</td>\n      <td>3</td>\n    </tr>\n    <tr>\n      <th>...</th>\n      <td>...</td>\n      <td>...</td>\n      <td>...</td>\n    </tr>\n    <tr>\n      <th>886</th>\n      <td>887</td>\n      <td>Montvila, Rev. Juozas</td>\n      <td>2</td>\n    </tr>\n    <tr>\n      <th>887</th>\n      <td>888</td>\n      <td>Graham, Miss. Margaret Edith</td>\n      <td>1</td>\n    </tr>\n    <tr>\n      <th>888</th>\n      <td>889</td>\n      <td>Johnston, Miss. Catherine Helen \"Carrie\"</td>\n      <td>3</td>\n    </tr>\n    <tr>\n      <th>889</th>\n      <td>890</td>\n      <td>Behr, Mr. Karl Howell</td>\n      <td>1</td>\n    </tr>\n    <tr>\n      <th>890</th>\n      <td>891</td>\n      <td>Dooley, Mr. Patrick</td>\n      <td>3</td>\n    </tr>\n  </tbody>\n</table>\n<p>891 rows × 3 columns</p>\n</div>"
     },
     "metadata": {},
     "output_type": "display_data"
    }
   ],
   "source": [
    "# Dataframe 인덱싱\n",
    "titanic_df = pd.read_csv('./titanic_train.csv')\n",
    "display(titanic_df)\n",
    "print(f'{titanic_df.columns.values}')\n",
    "\n",
    "titanic_df_pclass = titanic_df['Pclass']  # PClass 컬럼에 대한 정보를 Series로 반환된다. Series는 Column 이름 없다.\n",
    "display(titanic_df_pclass)\n",
    "# [] 인덱싱 자리에 여러 개가 들어간 리스트를 입력하면 DataFrame으로 반환.\n",
    "passengerid_name_pcalss= titanic_df[['PassengerId', 'Name', 'Pclass']]\n",
    "display(passengerid_name_pcalss)\n"
   ],
   "metadata": {
    "collapsed": false,
    "ExecuteTime": {
     "end_time": "2024-03-10T16:51:33.100498Z",
     "start_time": "2024-03-10T16:51:33.040170Z"
    }
   },
   "id": "c4557574b92e7af6",
   "execution_count": 2
  },
  {
   "cell_type": "code",
   "outputs": [
    {
     "name": "stdout",
     "output_type": "stream",
     "text": [
      "<class 'pandas.core.frame.DataFrame'>\n"
     ]
    },
    {
     "data": {
      "text/plain": "     PassengerId  Survived  Pclass                                      Name  \\\n0              1         0       3                   Braund, Mr. Owen Harris   \n2              3         1       3                    Heikkinen, Miss. Laina   \n4              5         0       3                  Allen, Mr. William Henry   \n5              6         0       3                          Moran, Mr. James   \n7              8         0       3            Palsson, Master. Gosta Leonard   \n..           ...       ...     ...                                       ...   \n882          883         0       3              Dahlberg, Miss. Gerda Ulrika   \n884          885         0       3                    Sutehall, Mr. Henry Jr   \n885          886         0       3      Rice, Mrs. William (Margaret Norton)   \n888          889         0       3  Johnston, Miss. Catherine Helen \"Carrie\"   \n890          891         0       3                       Dooley, Mr. Patrick   \n\n        Sex   Age  SibSp  Parch            Ticket     Fare Cabin Embarked  \n0      male  22.0      1      0         A/5 21171   7.2500   NaN        S  \n2    female  26.0      0      0  STON/O2. 3101282   7.9250   NaN        S  \n4      male  35.0      0      0            373450   8.0500   NaN        S  \n5      male   NaN      0      0            330877   8.4583   NaN        Q  \n7      male   2.0      3      1            349909  21.0750   NaN        S  \n..      ...   ...    ...    ...               ...      ...   ...      ...  \n882  female  22.0      0      0              7552  10.5167   NaN        S  \n884    male  25.0      0      0   SOTON/OQ 392076   7.0500   NaN        S  \n885  female  39.0      0      5            382652  29.1250   NaN        Q  \n888  female   NaN      1      2        W./C. 6607  23.4500   NaN        S  \n890    male  32.0      0      0            370376   7.7500   NaN        Q  \n\n[491 rows x 12 columns]",
      "text/html": "<div>\n<style scoped>\n    .dataframe tbody tr th:only-of-type {\n        vertical-align: middle;\n    }\n\n    .dataframe tbody tr th {\n        vertical-align: top;\n    }\n\n    .dataframe thead th {\n        text-align: right;\n    }\n</style>\n<table border=\"1\" class=\"dataframe\">\n  <thead>\n    <tr style=\"text-align: right;\">\n      <th></th>\n      <th>PassengerId</th>\n      <th>Survived</th>\n      <th>Pclass</th>\n      <th>Name</th>\n      <th>Sex</th>\n      <th>Age</th>\n      <th>SibSp</th>\n      <th>Parch</th>\n      <th>Ticket</th>\n      <th>Fare</th>\n      <th>Cabin</th>\n      <th>Embarked</th>\n    </tr>\n  </thead>\n  <tbody>\n    <tr>\n      <th>0</th>\n      <td>1</td>\n      <td>0</td>\n      <td>3</td>\n      <td>Braund, Mr. Owen Harris</td>\n      <td>male</td>\n      <td>22.0</td>\n      <td>1</td>\n      <td>0</td>\n      <td>A/5 21171</td>\n      <td>7.2500</td>\n      <td>NaN</td>\n      <td>S</td>\n    </tr>\n    <tr>\n      <th>2</th>\n      <td>3</td>\n      <td>1</td>\n      <td>3</td>\n      <td>Heikkinen, Miss. Laina</td>\n      <td>female</td>\n      <td>26.0</td>\n      <td>0</td>\n      <td>0</td>\n      <td>STON/O2. 3101282</td>\n      <td>7.9250</td>\n      <td>NaN</td>\n      <td>S</td>\n    </tr>\n    <tr>\n      <th>4</th>\n      <td>5</td>\n      <td>0</td>\n      <td>3</td>\n      <td>Allen, Mr. William Henry</td>\n      <td>male</td>\n      <td>35.0</td>\n      <td>0</td>\n      <td>0</td>\n      <td>373450</td>\n      <td>8.0500</td>\n      <td>NaN</td>\n      <td>S</td>\n    </tr>\n    <tr>\n      <th>5</th>\n      <td>6</td>\n      <td>0</td>\n      <td>3</td>\n      <td>Moran, Mr. James</td>\n      <td>male</td>\n      <td>NaN</td>\n      <td>0</td>\n      <td>0</td>\n      <td>330877</td>\n      <td>8.4583</td>\n      <td>NaN</td>\n      <td>Q</td>\n    </tr>\n    <tr>\n      <th>7</th>\n      <td>8</td>\n      <td>0</td>\n      <td>3</td>\n      <td>Palsson, Master. Gosta Leonard</td>\n      <td>male</td>\n      <td>2.0</td>\n      <td>3</td>\n      <td>1</td>\n      <td>349909</td>\n      <td>21.0750</td>\n      <td>NaN</td>\n      <td>S</td>\n    </tr>\n    <tr>\n      <th>...</th>\n      <td>...</td>\n      <td>...</td>\n      <td>...</td>\n      <td>...</td>\n      <td>...</td>\n      <td>...</td>\n      <td>...</td>\n      <td>...</td>\n      <td>...</td>\n      <td>...</td>\n      <td>...</td>\n      <td>...</td>\n    </tr>\n    <tr>\n      <th>882</th>\n      <td>883</td>\n      <td>0</td>\n      <td>3</td>\n      <td>Dahlberg, Miss. Gerda Ulrika</td>\n      <td>female</td>\n      <td>22.0</td>\n      <td>0</td>\n      <td>0</td>\n      <td>7552</td>\n      <td>10.5167</td>\n      <td>NaN</td>\n      <td>S</td>\n    </tr>\n    <tr>\n      <th>884</th>\n      <td>885</td>\n      <td>0</td>\n      <td>3</td>\n      <td>Sutehall, Mr. Henry Jr</td>\n      <td>male</td>\n      <td>25.0</td>\n      <td>0</td>\n      <td>0</td>\n      <td>SOTON/OQ 392076</td>\n      <td>7.0500</td>\n      <td>NaN</td>\n      <td>S</td>\n    </tr>\n    <tr>\n      <th>885</th>\n      <td>886</td>\n      <td>0</td>\n      <td>3</td>\n      <td>Rice, Mrs. William (Margaret Norton)</td>\n      <td>female</td>\n      <td>39.0</td>\n      <td>0</td>\n      <td>5</td>\n      <td>382652</td>\n      <td>29.1250</td>\n      <td>NaN</td>\n      <td>Q</td>\n    </tr>\n    <tr>\n      <th>888</th>\n      <td>889</td>\n      <td>0</td>\n      <td>3</td>\n      <td>Johnston, Miss. Catherine Helen \"Carrie\"</td>\n      <td>female</td>\n      <td>NaN</td>\n      <td>1</td>\n      <td>2</td>\n      <td>W./C. 6607</td>\n      <td>23.4500</td>\n      <td>NaN</td>\n      <td>S</td>\n    </tr>\n    <tr>\n      <th>890</th>\n      <td>891</td>\n      <td>0</td>\n      <td>3</td>\n      <td>Dooley, Mr. Patrick</td>\n      <td>male</td>\n      <td>32.0</td>\n      <td>0</td>\n      <td>0</td>\n      <td>370376</td>\n      <td>7.7500</td>\n      <td>NaN</td>\n      <td>Q</td>\n    </tr>\n  </tbody>\n</table>\n<p>491 rows × 12 columns</p>\n</div>"
     },
     "metadata": {},
     "output_type": "display_data"
    },
    {
     "data": {
      "text/plain": "     PassengerId  Survived  Pclass                                  Name  \\\n54            55         0       1        Ostby, Mr. Engelhart Cornelius   \n96            97         0       1             Goldschmidt, Mr. George B   \n170          171         0       1             Van der hoef, Mr. Wyckoff   \n252          253         0       1             Stead, Mr. William Thomas   \n438          439         0       1                     Fortune, Mr. Mark   \n456          457         0       1             Millet, Mr. Francis Davis   \n493          494         0       1               Artagaveytia, Mr. Ramon   \n545          546         0       1          Nicholson, Mr. Arthur Ernest   \n555          556         0       1                    Wright, Mr. George   \n587          588         1       1      Frolicher-Stehli, Mr. Maxmillian   \n625          626         0       1                 Sutton, Mr. Frederick   \n630          631         1       1  Barkworth, Mr. Algernon Henry Wilson   \n694          695         0       1                       Weir, Col. John   \n745          746         0       1          Crosby, Capt. Edward Gifford   \n\n      Sex   Age  SibSp  Parch     Ticket      Fare        Cabin Embarked  \n54   male  65.0      0      1     113509   61.9792          B30        C  \n96   male  71.0      0      0   PC 17754   34.6542           A5        C  \n170  male  61.0      0      0     111240   33.5000          B19        S  \n252  male  62.0      0      0     113514   26.5500          C87        S  \n438  male  64.0      1      4      19950  263.0000  C23 C25 C27        S  \n456  male  65.0      0      0      13509   26.5500          E38        S  \n493  male  71.0      0      0   PC 17609   49.5042          NaN        C  \n545  male  64.0      0      0        693   26.0000          NaN        S  \n555  male  62.0      0      0     113807   26.5500          NaN        S  \n587  male  60.0      1      1      13567   79.2000          B41        C  \n625  male  61.0      0      0      36963   32.3208          D50        S  \n630  male  80.0      0      0      27042   30.0000          A23        S  \n694  male  60.0      0      0     113800   26.5500          NaN        S  \n745  male  70.0      1      1  WE/P 5735   71.0000          B22        S  ",
      "text/html": "<div>\n<style scoped>\n    .dataframe tbody tr th:only-of-type {\n        vertical-align: middle;\n    }\n\n    .dataframe tbody tr th {\n        vertical-align: top;\n    }\n\n    .dataframe thead th {\n        text-align: right;\n    }\n</style>\n<table border=\"1\" class=\"dataframe\">\n  <thead>\n    <tr style=\"text-align: right;\">\n      <th></th>\n      <th>PassengerId</th>\n      <th>Survived</th>\n      <th>Pclass</th>\n      <th>Name</th>\n      <th>Sex</th>\n      <th>Age</th>\n      <th>SibSp</th>\n      <th>Parch</th>\n      <th>Ticket</th>\n      <th>Fare</th>\n      <th>Cabin</th>\n      <th>Embarked</th>\n    </tr>\n  </thead>\n  <tbody>\n    <tr>\n      <th>54</th>\n      <td>55</td>\n      <td>0</td>\n      <td>1</td>\n      <td>Ostby, Mr. Engelhart Cornelius</td>\n      <td>male</td>\n      <td>65.0</td>\n      <td>0</td>\n      <td>1</td>\n      <td>113509</td>\n      <td>61.9792</td>\n      <td>B30</td>\n      <td>C</td>\n    </tr>\n    <tr>\n      <th>96</th>\n      <td>97</td>\n      <td>0</td>\n      <td>1</td>\n      <td>Goldschmidt, Mr. George B</td>\n      <td>male</td>\n      <td>71.0</td>\n      <td>0</td>\n      <td>0</td>\n      <td>PC 17754</td>\n      <td>34.6542</td>\n      <td>A5</td>\n      <td>C</td>\n    </tr>\n    <tr>\n      <th>170</th>\n      <td>171</td>\n      <td>0</td>\n      <td>1</td>\n      <td>Van der hoef, Mr. Wyckoff</td>\n      <td>male</td>\n      <td>61.0</td>\n      <td>0</td>\n      <td>0</td>\n      <td>111240</td>\n      <td>33.5000</td>\n      <td>B19</td>\n      <td>S</td>\n    </tr>\n    <tr>\n      <th>252</th>\n      <td>253</td>\n      <td>0</td>\n      <td>1</td>\n      <td>Stead, Mr. William Thomas</td>\n      <td>male</td>\n      <td>62.0</td>\n      <td>0</td>\n      <td>0</td>\n      <td>113514</td>\n      <td>26.5500</td>\n      <td>C87</td>\n      <td>S</td>\n    </tr>\n    <tr>\n      <th>438</th>\n      <td>439</td>\n      <td>0</td>\n      <td>1</td>\n      <td>Fortune, Mr. Mark</td>\n      <td>male</td>\n      <td>64.0</td>\n      <td>1</td>\n      <td>4</td>\n      <td>19950</td>\n      <td>263.0000</td>\n      <td>C23 C25 C27</td>\n      <td>S</td>\n    </tr>\n    <tr>\n      <th>456</th>\n      <td>457</td>\n      <td>0</td>\n      <td>1</td>\n      <td>Millet, Mr. Francis Davis</td>\n      <td>male</td>\n      <td>65.0</td>\n      <td>0</td>\n      <td>0</td>\n      <td>13509</td>\n      <td>26.5500</td>\n      <td>E38</td>\n      <td>S</td>\n    </tr>\n    <tr>\n      <th>493</th>\n      <td>494</td>\n      <td>0</td>\n      <td>1</td>\n      <td>Artagaveytia, Mr. Ramon</td>\n      <td>male</td>\n      <td>71.0</td>\n      <td>0</td>\n      <td>0</td>\n      <td>PC 17609</td>\n      <td>49.5042</td>\n      <td>NaN</td>\n      <td>C</td>\n    </tr>\n    <tr>\n      <th>545</th>\n      <td>546</td>\n      <td>0</td>\n      <td>1</td>\n      <td>Nicholson, Mr. Arthur Ernest</td>\n      <td>male</td>\n      <td>64.0</td>\n      <td>0</td>\n      <td>0</td>\n      <td>693</td>\n      <td>26.0000</td>\n      <td>NaN</td>\n      <td>S</td>\n    </tr>\n    <tr>\n      <th>555</th>\n      <td>556</td>\n      <td>0</td>\n      <td>1</td>\n      <td>Wright, Mr. George</td>\n      <td>male</td>\n      <td>62.0</td>\n      <td>0</td>\n      <td>0</td>\n      <td>113807</td>\n      <td>26.5500</td>\n      <td>NaN</td>\n      <td>S</td>\n    </tr>\n    <tr>\n      <th>587</th>\n      <td>588</td>\n      <td>1</td>\n      <td>1</td>\n      <td>Frolicher-Stehli, Mr. Maxmillian</td>\n      <td>male</td>\n      <td>60.0</td>\n      <td>1</td>\n      <td>1</td>\n      <td>13567</td>\n      <td>79.2000</td>\n      <td>B41</td>\n      <td>C</td>\n    </tr>\n    <tr>\n      <th>625</th>\n      <td>626</td>\n      <td>0</td>\n      <td>1</td>\n      <td>Sutton, Mr. Frederick</td>\n      <td>male</td>\n      <td>61.0</td>\n      <td>0</td>\n      <td>0</td>\n      <td>36963</td>\n      <td>32.3208</td>\n      <td>D50</td>\n      <td>S</td>\n    </tr>\n    <tr>\n      <th>630</th>\n      <td>631</td>\n      <td>1</td>\n      <td>1</td>\n      <td>Barkworth, Mr. Algernon Henry Wilson</td>\n      <td>male</td>\n      <td>80.0</td>\n      <td>0</td>\n      <td>0</td>\n      <td>27042</td>\n      <td>30.0000</td>\n      <td>A23</td>\n      <td>S</td>\n    </tr>\n    <tr>\n      <th>694</th>\n      <td>695</td>\n      <td>0</td>\n      <td>1</td>\n      <td>Weir, Col. John</td>\n      <td>male</td>\n      <td>60.0</td>\n      <td>0</td>\n      <td>0</td>\n      <td>113800</td>\n      <td>26.5500</td>\n      <td>NaN</td>\n      <td>S</td>\n    </tr>\n    <tr>\n      <th>745</th>\n      <td>746</td>\n      <td>0</td>\n      <td>1</td>\n      <td>Crosby, Capt. Edward Gifford</td>\n      <td>male</td>\n      <td>70.0</td>\n      <td>1</td>\n      <td>1</td>\n      <td>WE/P 5735</td>\n      <td>71.0000</td>\n      <td>B22</td>\n      <td>S</td>\n    </tr>\n  </tbody>\n</table>\n</div>"
     },
     "metadata": {},
     "output_type": "display_data"
    }
   ],
   "source": [
    "# Boolean Indexing\n",
    "# boolean series 넣어서 조건에 맞는 데이터만 추출할 수 있다.\n",
    "\n",
    "# print(f'{type((titanic_df[\"Pclass\"]==3))}')\n",
    "boolean_titanic_pclass=titanic_df[(titanic_df['Pclass']==3)]\n",
    "print(f'{type(boolean_titanic_pclass)}')\n",
    "display(boolean_titanic_pclass)\n",
    "\n",
    "# 여러 개 조건이 있을 때를 생각해보자.\n",
    "# 나이가 60세 이상, 클래스는 1등급, 남자.\n",
    "cond_1 = titanic_df['Age']>=60\n",
    "cond_2 = titanic_df['Pclass']==1\n",
    "cond_3 = titanic_df['Sex']=='male'\n",
    "display(titanic_df[cond_1&cond_2&cond_3])"
   ],
   "metadata": {
    "collapsed": false,
    "ExecuteTime": {
     "end_time": "2024-03-10T16:51:33.145678Z",
     "start_time": "2024-03-10T16:51:33.104323Z"
    }
   },
   "id": "8066e9b7e1f7f83",
   "execution_count": 3
  },
  {
   "cell_type": "markdown",
   "source": [
    "# Dataframe 정렬, Aggregation, Group by  "
   ],
   "metadata": {
    "collapsed": false
   },
   "id": "c83b93aed4ffddeb"
  },
  {
   "cell_type": "code",
   "outputs": [
    {
     "data": {
      "text/plain": "     PassengerId  Survived  Pclass  \\\n730          731         1       1   \n305          306         1       1   \n297          298         0       1   \n498          499         0       1   \n460          461         1       1   \n..           ...       ...     ...   \n559          560         1       3   \n286          287         1       3   \n282          283         0       3   \n153          154         0       3   \n868          869         0       3   \n\n                                                Name     Sex    Age  SibSp  \\\n730                    Allen, Miss. Elisabeth Walton  female  29.00      0   \n305                   Allison, Master. Hudson Trevor    male   0.92      1   \n297                     Allison, Miss. Helen Loraine  female   2.00      1   \n498  Allison, Mrs. Hudson J C (Bessie Waldo Daniels)  female  25.00      1   \n460                              Anderson, Mr. Harry    male  48.00      0   \n..                                               ...     ...    ...    ...   \n559     de Messemaeker, Mrs. Guillaume Joseph (Emma)  female  36.00      1   \n286                          de Mulder, Mr. Theodore    male  30.00      0   \n282                        de Pelsmaeker, Mr. Alfons    male  16.00      0   \n153                  van Billiard, Mr. Austin Blyler    male  40.50      0   \n868                      van Melkebeke, Mr. Philemon    male    NaN      0   \n\n     Parch    Ticket      Fare    Cabin Embarked  \n730      0     24160  211.3375       B5        S  \n305      2    113781  151.5500  C22 C26        S  \n297      2    113781  151.5500  C22 C26        S  \n498      2    113781  151.5500  C22 C26        S  \n460      0     19952   26.5500      E12        S  \n..     ...       ...       ...      ...      ...  \n559      0    345572   17.4000      NaN        S  \n286      0    345774    9.5000      NaN        S  \n282      0    345778    9.5000      NaN        S  \n153      2  A/5. 851   14.5000      NaN        S  \n868      0    345777    9.5000      NaN        S  \n\n[891 rows x 12 columns]",
      "text/html": "<div>\n<style scoped>\n    .dataframe tbody tr th:only-of-type {\n        vertical-align: middle;\n    }\n\n    .dataframe tbody tr th {\n        vertical-align: top;\n    }\n\n    .dataframe thead th {\n        text-align: right;\n    }\n</style>\n<table border=\"1\" class=\"dataframe\">\n  <thead>\n    <tr style=\"text-align: right;\">\n      <th></th>\n      <th>PassengerId</th>\n      <th>Survived</th>\n      <th>Pclass</th>\n      <th>Name</th>\n      <th>Sex</th>\n      <th>Age</th>\n      <th>SibSp</th>\n      <th>Parch</th>\n      <th>Ticket</th>\n      <th>Fare</th>\n      <th>Cabin</th>\n      <th>Embarked</th>\n    </tr>\n  </thead>\n  <tbody>\n    <tr>\n      <th>730</th>\n      <td>731</td>\n      <td>1</td>\n      <td>1</td>\n      <td>Allen, Miss. Elisabeth Walton</td>\n      <td>female</td>\n      <td>29.00</td>\n      <td>0</td>\n      <td>0</td>\n      <td>24160</td>\n      <td>211.3375</td>\n      <td>B5</td>\n      <td>S</td>\n    </tr>\n    <tr>\n      <th>305</th>\n      <td>306</td>\n      <td>1</td>\n      <td>1</td>\n      <td>Allison, Master. Hudson Trevor</td>\n      <td>male</td>\n      <td>0.92</td>\n      <td>1</td>\n      <td>2</td>\n      <td>113781</td>\n      <td>151.5500</td>\n      <td>C22 C26</td>\n      <td>S</td>\n    </tr>\n    <tr>\n      <th>297</th>\n      <td>298</td>\n      <td>0</td>\n      <td>1</td>\n      <td>Allison, Miss. Helen Loraine</td>\n      <td>female</td>\n      <td>2.00</td>\n      <td>1</td>\n      <td>2</td>\n      <td>113781</td>\n      <td>151.5500</td>\n      <td>C22 C26</td>\n      <td>S</td>\n    </tr>\n    <tr>\n      <th>498</th>\n      <td>499</td>\n      <td>0</td>\n      <td>1</td>\n      <td>Allison, Mrs. Hudson J C (Bessie Waldo Daniels)</td>\n      <td>female</td>\n      <td>25.00</td>\n      <td>1</td>\n      <td>2</td>\n      <td>113781</td>\n      <td>151.5500</td>\n      <td>C22 C26</td>\n      <td>S</td>\n    </tr>\n    <tr>\n      <th>460</th>\n      <td>461</td>\n      <td>1</td>\n      <td>1</td>\n      <td>Anderson, Mr. Harry</td>\n      <td>male</td>\n      <td>48.00</td>\n      <td>0</td>\n      <td>0</td>\n      <td>19952</td>\n      <td>26.5500</td>\n      <td>E12</td>\n      <td>S</td>\n    </tr>\n    <tr>\n      <th>...</th>\n      <td>...</td>\n      <td>...</td>\n      <td>...</td>\n      <td>...</td>\n      <td>...</td>\n      <td>...</td>\n      <td>...</td>\n      <td>...</td>\n      <td>...</td>\n      <td>...</td>\n      <td>...</td>\n      <td>...</td>\n    </tr>\n    <tr>\n      <th>559</th>\n      <td>560</td>\n      <td>1</td>\n      <td>3</td>\n      <td>de Messemaeker, Mrs. Guillaume Joseph (Emma)</td>\n      <td>female</td>\n      <td>36.00</td>\n      <td>1</td>\n      <td>0</td>\n      <td>345572</td>\n      <td>17.4000</td>\n      <td>NaN</td>\n      <td>S</td>\n    </tr>\n    <tr>\n      <th>286</th>\n      <td>287</td>\n      <td>1</td>\n      <td>3</td>\n      <td>de Mulder, Mr. Theodore</td>\n      <td>male</td>\n      <td>30.00</td>\n      <td>0</td>\n      <td>0</td>\n      <td>345774</td>\n      <td>9.5000</td>\n      <td>NaN</td>\n      <td>S</td>\n    </tr>\n    <tr>\n      <th>282</th>\n      <td>283</td>\n      <td>0</td>\n      <td>3</td>\n      <td>de Pelsmaeker, Mr. Alfons</td>\n      <td>male</td>\n      <td>16.00</td>\n      <td>0</td>\n      <td>0</td>\n      <td>345778</td>\n      <td>9.5000</td>\n      <td>NaN</td>\n      <td>S</td>\n    </tr>\n    <tr>\n      <th>153</th>\n      <td>154</td>\n      <td>0</td>\n      <td>3</td>\n      <td>van Billiard, Mr. Austin Blyler</td>\n      <td>male</td>\n      <td>40.50</td>\n      <td>0</td>\n      <td>2</td>\n      <td>A/5. 851</td>\n      <td>14.5000</td>\n      <td>NaN</td>\n      <td>S</td>\n    </tr>\n    <tr>\n      <th>868</th>\n      <td>869</td>\n      <td>0</td>\n      <td>3</td>\n      <td>van Melkebeke, Mr. Philemon</td>\n      <td>male</td>\n      <td>NaN</td>\n      <td>0</td>\n      <td>0</td>\n      <td>345777</td>\n      <td>9.5000</td>\n      <td>NaN</td>\n      <td>S</td>\n    </tr>\n  </tbody>\n</table>\n<p>891 rows × 12 columns</p>\n</div>"
     },
     "metadata": {},
     "output_type": "display_data"
    },
    {
     "name": "stdout",
     "output_type": "stream",
     "text": [
      "<class 'pandas.core.series.Series'>:\n",
      "Pclass       2057.00\n",
      "Survived      342.00\n",
      "Age         21205.17\n",
      "dtype: float64\n",
      "<class 'pandas.core.series.Series'>:\n",
      "Pclass      1.00\n",
      "Survived    0.00\n",
      "Age         0.42\n",
      "dtype: float64\n",
      "<class 'pandas.core.series.Series'>:\n",
      "Pclass       3.0\n",
      "Survived     1.0\n",
      "Age         80.0\n",
      "dtype: float64\n",
      "<class 'pandas.core.series.Series'>:\n",
      "Pclass       2.308642\n",
      "Survived     0.383838\n",
      "Age         29.699118\n",
      "dtype: float64\n",
      "<class 'pandas.core.series.Series'>:\n",
      "Pclass      891\n",
      "Survived    891\n",
      "Age         714\n",
      "dtype: int64\n"
     ]
    },
    {
     "data": {
      "text/plain": "PassengerId      0\nSurvived         0\nPclass           0\nName             0\nSex              0\nAge            177\nSibSp            0\nParch            0\nTicket           0\nFare             0\nCabin          687\nEmbarked         2\ndtype: int64"
     },
     "metadata": {},
     "output_type": "display_data"
    },
    {
     "name": "stdout",
     "output_type": "stream",
     "text": [
      "<class 'pandas.core.series.Series'>\n"
     ]
    }
   ],
   "source": [
    "# Dataframe 정렬.\n",
    "# sort_values() method 이용. by 인자를 통해 정렬하려는 기준 column 받아온다.\n",
    "titanic_sorted =titanic_df.sort_values(by=['Pclass', 'Name'], ascending=True)\n",
    "display(titanic_sorted)\n",
    "\n",
    "# Aggregation (집합연산)\n",
    "# sum, min, max, mean, count 의미한다. \n",
    "titanic_sum = titanic_df[['Pclass', 'Survived','Age']].sum()\n",
    "titanic_min = titanic_df[['Pclass', 'Survived','Age']].min()\n",
    "titanic_max = titanic_df[['Pclass', 'Survived','Age']].max()\n",
    "titanic_mean = titanic_df[['Pclass', 'Survived','Age']].mean()\n",
    "titanic_count = titanic_df[['Pclass', 'Survived','Age']].count()\n",
    "\n",
    "print(f'{type(titanic_sum)}:\\n{titanic_sum}')\n",
    "print(f'{type(titanic_min)}:\\n{titanic_min}')\n",
    "print(f'{type(titanic_max)}:\\n{titanic_max}')\n",
    "print(f'{type(titanic_mean)}:\\n{titanic_mean}')\n",
    "print(f'{type(titanic_count)}:\\n{titanic_count}')\n",
    "\n",
    "# 이 때, count는 null 값 빼고 카운트 해준다.\n",
    "# null값 분포를 알기 위해선?\n",
    "# isna() method 이용. True/False DataFrame으로 반환된다.\n",
    "# 그리고 sum() method 이용해서 각 column 별 null값의 개수를 알 수 있다. 반환 타입은 Series.\n",
    "display(titanic_df.isna().sum())\n",
    "print(f'{type(titanic_df.isna().sum())}')\n"
   ],
   "metadata": {
    "collapsed": false,
    "ExecuteTime": {
     "end_time": "2024-03-10T16:51:33.194681Z",
     "start_time": "2024-03-10T16:51:33.148667Z"
    }
   },
   "id": "22b695efce67c66d",
   "execution_count": 4
  },
  {
   "cell_type": "code",
   "outputs": [
    {
     "name": "stdout",
     "output_type": "stream",
     "text": [
      "<class 'pandas.core.groupby.generic.DataFrameGroupBy'>\n"
     ]
    },
    {
     "data": {
      "text/plain": "             Fare   Age\nPclass                 \n1       84.154687  80.0\n2       20.662183  70.0\n3       13.675550  74.0",
      "text/html": "<div>\n<style scoped>\n    .dataframe tbody tr th:only-of-type {\n        vertical-align: middle;\n    }\n\n    .dataframe tbody tr th {\n        vertical-align: top;\n    }\n\n    .dataframe thead th {\n        text-align: right;\n    }\n</style>\n<table border=\"1\" class=\"dataframe\">\n  <thead>\n    <tr style=\"text-align: right;\">\n      <th></th>\n      <th>Fare</th>\n      <th>Age</th>\n    </tr>\n    <tr>\n      <th>Pclass</th>\n      <th></th>\n      <th></th>\n    </tr>\n  </thead>\n  <tbody>\n    <tr>\n      <th>1</th>\n      <td>84.154687</td>\n      <td>80.0</td>\n    </tr>\n    <tr>\n      <th>2</th>\n      <td>20.662183</td>\n      <td>70.0</td>\n    </tr>\n    <tr>\n      <th>3</th>\n      <td>13.675550</td>\n      <td>74.0</td>\n    </tr>\n  </tbody>\n</table>\n</div>"
     },
     "metadata": {},
     "output_type": "display_data"
    },
    {
     "data": {
      "text/plain": "        min_Age  max_Age   mean_Age    std_Age\nPclass                                        \n1          0.92     80.0  38.233441  14.802856\n2          0.67     70.0  29.877630  14.001077\n3          0.42     74.0  25.140620  12.495398",
      "text/html": "<div>\n<style scoped>\n    .dataframe tbody tr th:only-of-type {\n        vertical-align: middle;\n    }\n\n    .dataframe tbody tr th {\n        vertical-align: top;\n    }\n\n    .dataframe thead th {\n        text-align: right;\n    }\n</style>\n<table border=\"1\" class=\"dataframe\">\n  <thead>\n    <tr style=\"text-align: right;\">\n      <th></th>\n      <th>min_Age</th>\n      <th>max_Age</th>\n      <th>mean_Age</th>\n      <th>std_Age</th>\n    </tr>\n    <tr>\n      <th>Pclass</th>\n      <th></th>\n      <th></th>\n      <th></th>\n      <th></th>\n    </tr>\n  </thead>\n  <tbody>\n    <tr>\n      <th>1</th>\n      <td>0.92</td>\n      <td>80.0</td>\n      <td>38.233441</td>\n      <td>14.802856</td>\n    </tr>\n    <tr>\n      <th>2</th>\n      <td>0.67</td>\n      <td>70.0</td>\n      <td>29.877630</td>\n      <td>14.001077</td>\n    </tr>\n    <tr>\n      <th>3</th>\n      <td>0.42</td>\n      <td>74.0</td>\n      <td>25.140620</td>\n      <td>12.495398</td>\n    </tr>\n  </tbody>\n</table>\n</div>"
     },
     "metadata": {},
     "output_type": "display_data"
    }
   ],
   "source": [
    "# groupby() 메소드. SQL group 명령어 역할.\n",
    "# count, min, max, sum, mean 등의 aggregation 작업을 하고 싶은데, 그룹을 지어서 보고 싶을 때 쓴다.\n",
    "# 예를 들어, 선실등급에 따라서 각 count가 어떻게 되는지?\n",
    "\n",
    "titanic_groupby = titanic_df.groupby(by=['Pclass']) # 결과가 DataFrameGroupBy 객체로 나온다.\n",
    "print(f'{type(titanic_groupby)}') # DataFrameGroupBy 객체는 바로 눈으로 확인할 수 없다.\n",
    "\n",
    "# 눈으로 보려면 원하는 데이터들에 대한 aggregation 연산 적용.\n",
    "titanic_groupby[['Name', 'Fare']].count()\n",
    "\n",
    "# 각 컬럼에 서로 다른 aggregation을 적용하고 싶다면?\n",
    "# agg() method 에다가 dictionary를 만들어서 적용해준다.\n",
    "agg_rule = {'Fare':'mean','Age':'max'}\n",
    "display(titanic_df.groupby('Pclass').agg(agg_rule))\n",
    "\n",
    "# 나이의 최대, 평균, 최소를 알고 싶다면?\n",
    "# named aggregation 이용한다.\n",
    "display(titanic_df.groupby('Pclass').agg(\n",
    "    min_Age = ('Age', 'min'),\n",
    "    max_Age = ('Age', 'max'),\n",
    "    mean_Age = ('Age','mean'),\n",
    "    std_Age = ('Age','std')\n",
    "))"
   ],
   "metadata": {
    "collapsed": false,
    "ExecuteTime": {
     "end_time": "2024-03-10T16:51:33.240556Z",
     "start_time": "2024-03-10T16:51:33.200564Z"
    }
   },
   "id": "f03dca54a50674f4",
   "execution_count": 5
  },
  {
   "cell_type": "markdown",
   "source": [
    "# nunique(), Replace()"
   ],
   "metadata": {
    "collapsed": false
   },
   "id": "f75b4050fe10fd13"
  },
  {
   "cell_type": "code",
   "outputs": [
    {
     "name": "stdout",
     "output_type": "stream",
     "text": [
      "<class 'int'>: 3\n",
      "<class 'int'>: 891\n",
      "<class 'numpy.ndarray'>: [3 1 2]\n"
     ]
    },
    {
     "data": {
      "text/plain": "0        Man\n1      Woman\n2      Woman\n3      Woman\n4        Man\n       ...  \n886      Man\n887    Woman\n888    Woman\n889      Man\n890      Man\nName: Sex, Length: 891, dtype: object"
     },
     "execution_count": 15,
     "metadata": {},
     "output_type": "execute_result"
    }
   ],
   "source": [
    "# nunique() 메소드는 해당 시리즈의 고유값이 몇개 있는지 체크.\n",
    "# return type: int\n",
    "print(f'{type(titanic_df[\"Pclass\"].nunique())}: {titanic_df[\"Pclass\"].nunique()}')\n",
    "print(f'{type(titanic_df[\"Name\"].nunique())}: {titanic_df[\"Name\"].nunique()}')\n",
    "# unique() 메소드 이용하면 고유값들을 series로 반환해준다.\n",
    "print(f'{type(titanic_df[\"Pclass\"].unique())}: {titanic_df[\"Pclass\"].unique()}')\n",
    "\n",
    "\n",
    "# replace() 메소드는 시리즈 선택후 그 시리즈의 기존값과 이후 값을 바꾼다.\n",
    "# 이 때, 딕셔너리를 이용하여 여러 값을 바꿀 수 있다.\n",
    "titanic_df['Sex'].replace('male','Man')\n",
    "titanic_df['Sex'].replace({'male':'Man', 'female':'Woman'})\n"
   ],
   "metadata": {
    "collapsed": false,
    "ExecuteTime": {
     "end_time": "2024-03-10T17:09:44.976024Z",
     "start_time": "2024-03-10T17:09:44.967387Z"
    }
   },
   "id": "5dcffd2bf4800158",
   "execution_count": 15
  },
  {
   "cell_type": "markdown",
   "source": [
    "# 람다식 이용 데이터 가공"
   ],
   "metadata": {
    "collapsed": false
   },
   "id": "e190163509d1079a"
  },
  {
   "cell_type": "code",
   "outputs": [
    {
     "data": {
      "text/plain": "     PassengerId  Survived  Pclass  \\\n0              1         0       3   \n1              2         1       1   \n2              3         1       3   \n3              4         1       1   \n4              5         0       3   \n..           ...       ...     ...   \n886          887         0       2   \n887          888         1       1   \n888          889         0       3   \n889          890         1       1   \n890          891         0       3   \n\n                                                  Name     Sex   Age  SibSp  \\\n0                              Braund, Mr. Owen Harris    male  22.0      1   \n1    Cumings, Mrs. John Bradley (Florence Briggs Th...  female  38.0      1   \n2                               Heikkinen, Miss. Laina  female  26.0      0   \n3         Futrelle, Mrs. Jacques Heath (Lily May Peel)  female  35.0      1   \n4                             Allen, Mr. William Henry    male  35.0      0   \n..                                                 ...     ...   ...    ...   \n886                              Montvila, Rev. Juozas    male  27.0      0   \n887                       Graham, Miss. Margaret Edith  female  19.0      0   \n888           Johnston, Miss. Catherine Helen \"Carrie\"  female   NaN      1   \n889                              Behr, Mr. Karl Howell    male  26.0      0   \n890                                Dooley, Mr. Patrick    male  32.0      0   \n\n     Parch            Ticket     Fare Cabin Embarked  Name_len  \n0        0         A/5 21171   7.2500   NaN        S        23  \n1        0          PC 17599  71.2833   C85        C        51  \n2        0  STON/O2. 3101282   7.9250   NaN        S        22  \n3        0            113803  53.1000  C123        S        44  \n4        0            373450   8.0500   NaN        S        24  \n..     ...               ...      ...   ...      ...       ...  \n886      0            211536  13.0000   NaN        S        21  \n887      0            112053  30.0000   B42        S        28  \n888      2        W./C. 6607  23.4500   NaN        S        40  \n889      0            111369  30.0000  C148        C        21  \n890      0            370376   7.7500   NaN        Q        19  \n\n[891 rows x 13 columns]",
      "text/html": "<div>\n<style scoped>\n    .dataframe tbody tr th:only-of-type {\n        vertical-align: middle;\n    }\n\n    .dataframe tbody tr th {\n        vertical-align: top;\n    }\n\n    .dataframe thead th {\n        text-align: right;\n    }\n</style>\n<table border=\"1\" class=\"dataframe\">\n  <thead>\n    <tr style=\"text-align: right;\">\n      <th></th>\n      <th>PassengerId</th>\n      <th>Survived</th>\n      <th>Pclass</th>\n      <th>Name</th>\n      <th>Sex</th>\n      <th>Age</th>\n      <th>SibSp</th>\n      <th>Parch</th>\n      <th>Ticket</th>\n      <th>Fare</th>\n      <th>Cabin</th>\n      <th>Embarked</th>\n      <th>Name_len</th>\n    </tr>\n  </thead>\n  <tbody>\n    <tr>\n      <th>0</th>\n      <td>1</td>\n      <td>0</td>\n      <td>3</td>\n      <td>Braund, Mr. Owen Harris</td>\n      <td>male</td>\n      <td>22.0</td>\n      <td>1</td>\n      <td>0</td>\n      <td>A/5 21171</td>\n      <td>7.2500</td>\n      <td>NaN</td>\n      <td>S</td>\n      <td>23</td>\n    </tr>\n    <tr>\n      <th>1</th>\n      <td>2</td>\n      <td>1</td>\n      <td>1</td>\n      <td>Cumings, Mrs. John Bradley (Florence Briggs Th...</td>\n      <td>female</td>\n      <td>38.0</td>\n      <td>1</td>\n      <td>0</td>\n      <td>PC 17599</td>\n      <td>71.2833</td>\n      <td>C85</td>\n      <td>C</td>\n      <td>51</td>\n    </tr>\n    <tr>\n      <th>2</th>\n      <td>3</td>\n      <td>1</td>\n      <td>3</td>\n      <td>Heikkinen, Miss. Laina</td>\n      <td>female</td>\n      <td>26.0</td>\n      <td>0</td>\n      <td>0</td>\n      <td>STON/O2. 3101282</td>\n      <td>7.9250</td>\n      <td>NaN</td>\n      <td>S</td>\n      <td>22</td>\n    </tr>\n    <tr>\n      <th>3</th>\n      <td>4</td>\n      <td>1</td>\n      <td>1</td>\n      <td>Futrelle, Mrs. Jacques Heath (Lily May Peel)</td>\n      <td>female</td>\n      <td>35.0</td>\n      <td>1</td>\n      <td>0</td>\n      <td>113803</td>\n      <td>53.1000</td>\n      <td>C123</td>\n      <td>S</td>\n      <td>44</td>\n    </tr>\n    <tr>\n      <th>4</th>\n      <td>5</td>\n      <td>0</td>\n      <td>3</td>\n      <td>Allen, Mr. William Henry</td>\n      <td>male</td>\n      <td>35.0</td>\n      <td>0</td>\n      <td>0</td>\n      <td>373450</td>\n      <td>8.0500</td>\n      <td>NaN</td>\n      <td>S</td>\n      <td>24</td>\n    </tr>\n    <tr>\n      <th>...</th>\n      <td>...</td>\n      <td>...</td>\n      <td>...</td>\n      <td>...</td>\n      <td>...</td>\n      <td>...</td>\n      <td>...</td>\n      <td>...</td>\n      <td>...</td>\n      <td>...</td>\n      <td>...</td>\n      <td>...</td>\n      <td>...</td>\n    </tr>\n    <tr>\n      <th>886</th>\n      <td>887</td>\n      <td>0</td>\n      <td>2</td>\n      <td>Montvila, Rev. Juozas</td>\n      <td>male</td>\n      <td>27.0</td>\n      <td>0</td>\n      <td>0</td>\n      <td>211536</td>\n      <td>13.0000</td>\n      <td>NaN</td>\n      <td>S</td>\n      <td>21</td>\n    </tr>\n    <tr>\n      <th>887</th>\n      <td>888</td>\n      <td>1</td>\n      <td>1</td>\n      <td>Graham, Miss. Margaret Edith</td>\n      <td>female</td>\n      <td>19.0</td>\n      <td>0</td>\n      <td>0</td>\n      <td>112053</td>\n      <td>30.0000</td>\n      <td>B42</td>\n      <td>S</td>\n      <td>28</td>\n    </tr>\n    <tr>\n      <th>888</th>\n      <td>889</td>\n      <td>0</td>\n      <td>3</td>\n      <td>Johnston, Miss. Catherine Helen \"Carrie\"</td>\n      <td>female</td>\n      <td>NaN</td>\n      <td>1</td>\n      <td>2</td>\n      <td>W./C. 6607</td>\n      <td>23.4500</td>\n      <td>NaN</td>\n      <td>S</td>\n      <td>40</td>\n    </tr>\n    <tr>\n      <th>889</th>\n      <td>890</td>\n      <td>1</td>\n      <td>1</td>\n      <td>Behr, Mr. Karl Howell</td>\n      <td>male</td>\n      <td>26.0</td>\n      <td>0</td>\n      <td>0</td>\n      <td>111369</td>\n      <td>30.0000</td>\n      <td>C148</td>\n      <td>C</td>\n      <td>21</td>\n    </tr>\n    <tr>\n      <th>890</th>\n      <td>891</td>\n      <td>0</td>\n      <td>3</td>\n      <td>Dooley, Mr. Patrick</td>\n      <td>male</td>\n      <td>32.0</td>\n      <td>0</td>\n      <td>0</td>\n      <td>370376</td>\n      <td>7.7500</td>\n      <td>NaN</td>\n      <td>Q</td>\n      <td>19</td>\n    </tr>\n  </tbody>\n</table>\n<p>891 rows × 13 columns</p>\n</div>"
     },
     "metadata": {},
     "output_type": "display_data"
    }
   ],
   "source": [
    "# lambda 식 -> 일회용 함수. apply() 함수 안에 람다식 넣어서 적용한다.\n",
    "# JS (a,b,c)=>{a~~~;b~~~;c~~~;} 랑 같은 역할. lambda x : x~~~\n",
    "\n",
    "titanic_df['Name_len'] = titanic_df['Name'].apply(lambda x: len(x))\n",
    "display(titanic_df)\n",
    "\n",
    "titanic_df['Child_Adult'] = titanic_df['Age'].apply(lambda x: 'Child' if x<=15 else 'Adult')"
   ],
   "metadata": {
    "collapsed": false,
    "ExecuteTime": {
     "end_time": "2024-03-10T17:27:32.495561Z",
     "start_time": "2024-03-10T17:27:32.479870Z"
    }
   },
   "id": "f6ecf108403a70d4",
   "execution_count": 21
  },
  {
   "cell_type": "code",
   "outputs": [],
   "source": [],
   "metadata": {
    "collapsed": false
   },
   "id": "6e3667e04c29eb44"
  }
 ],
 "metadata": {
  "kernelspec": {
   "display_name": "Python 3",
   "language": "python",
   "name": "python3"
  },
  "language_info": {
   "codemirror_mode": {
    "name": "ipython",
    "version": 2
   },
   "file_extension": ".py",
   "mimetype": "text/x-python",
   "name": "python",
   "nbconvert_exporter": "python",
   "pygments_lexer": "ipython2",
   "version": "2.7.6"
  }
 },
 "nbformat": 4,
 "nbformat_minor": 5
}
