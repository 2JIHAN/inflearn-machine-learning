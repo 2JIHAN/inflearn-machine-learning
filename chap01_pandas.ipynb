{
 "cells": [
  {
   "cell_type": "code",
   "execution_count": 1,
   "id": "4904855f83295d85",
   "metadata": {
    "collapsed": false,
    "ExecuteTime": {
     "end_time": "2024-03-07T12:36:10.647502Z",
     "start_time": "2024-03-07T12:36:09.878732Z"
    }
   },
   "outputs": [],
   "source": [
    "import pandas as pd\n",
    "\n"
   ]
  },
  {
   "cell_type": "code",
   "outputs": [],
   "source": [
    "# 예시 csv 데이터 불러오기\n",
    "titanic_df = pd.read_csv('./titanic_train.csv')\n",
    "print(f'titanic 변수 type: {type(titanic_df)}')\n",
    "\n",
    "# df.head(5) : 맨 앞의 5개의 데이터만 출력\n",
    "display(titanic_df.head(5))\n",
    "\n",
    "# df.tail(5) : 맨 뒤의 5개의 데이터만 출력\n",
    "display(titanic_df.tail(5))\n",
    "\n",
    "# df.shape : 행과 열의 크기를 반환\n",
    "display(f'{type(titanic_df.shape)} : {titanic_df.shape}')\n",
    "display(titanic_df.shape)"
   ],
   "metadata": {
    "collapsed": false
   },
   "id": "19c3f399d91057ff"
  },
  {
   "cell_type": "code",
   "outputs": [
    {
     "data": {
      "text/plain": "    Name  Age\n0   John   24\n1   Anna   13\n2  Peter   53\n3  Linda   33",
      "text/html": "<div>\n<style scoped>\n    .dataframe tbody tr th:only-of-type {\n        vertical-align: middle;\n    }\n\n    .dataframe tbody tr th {\n        vertical-align: top;\n    }\n\n    .dataframe thead th {\n        text-align: right;\n    }\n</style>\n<table border=\"1\" class=\"dataframe\">\n  <thead>\n    <tr style=\"text-align: right;\">\n      <th></th>\n      <th>Name</th>\n      <th>Age</th>\n    </tr>\n  </thead>\n  <tbody>\n    <tr>\n      <th>0</th>\n      <td>John</td>\n      <td>24</td>\n    </tr>\n    <tr>\n      <th>1</th>\n      <td>Anna</td>\n      <td>13</td>\n    </tr>\n    <tr>\n      <th>2</th>\n      <td>Peter</td>\n      <td>53</td>\n    </tr>\n    <tr>\n      <th>3</th>\n      <td>Linda</td>\n      <td>33</td>\n    </tr>\n  </tbody>\n</table>\n</div>"
     },
     "metadata": {},
     "output_type": "display_data"
    },
    {
     "data": {
      "text/plain": "   Age   Name Gender\n0   24   John    NaN\n1   13   Anna    NaN\n2   53  Peter    NaN\n3   33  Linda    NaN",
      "text/html": "<div>\n<style scoped>\n    .dataframe tbody tr th:only-of-type {\n        vertical-align: middle;\n    }\n\n    .dataframe tbody tr th {\n        vertical-align: top;\n    }\n\n    .dataframe thead th {\n        text-align: right;\n    }\n</style>\n<table border=\"1\" class=\"dataframe\">\n  <thead>\n    <tr style=\"text-align: right;\">\n      <th></th>\n      <th>Age</th>\n      <th>Name</th>\n      <th>Gender</th>\n    </tr>\n  </thead>\n  <tbody>\n    <tr>\n      <th>0</th>\n      <td>24</td>\n      <td>John</td>\n      <td>NaN</td>\n    </tr>\n    <tr>\n      <th>1</th>\n      <td>13</td>\n      <td>Anna</td>\n      <td>NaN</td>\n    </tr>\n    <tr>\n      <th>2</th>\n      <td>53</td>\n      <td>Peter</td>\n      <td>NaN</td>\n    </tr>\n    <tr>\n      <th>3</th>\n      <td>33</td>\n      <td>Linda</td>\n      <td>NaN</td>\n    </tr>\n  </tbody>\n</table>\n</div>"
     },
     "metadata": {},
     "output_type": "display_data"
    }
   ],
   "source": [
    "# DataFrame 생성\n",
    "# 딕셔너리를 이용하여 DataFrame 생성\n",
    "\n",
    "temp_dict = {\n",
    "    'Name': ['John', 'Anna', 'Peter', 'Linda'],\n",
    "    'Age':[24, 13, 53, 33],\n",
    "}\n",
    "# key가 column 이름이 되고, value가 column의 데이터가 된다.\n",
    "\n",
    "temp_df_01= pd.DataFrame(temp_dict)\n",
    "display(temp_df_01)\n",
    "\n",
    "\n",
    "# column 이름을 정하여 DataFrame 생성\n",
    "temp_df_02 =pd.DataFrame(temp_dict, columns=['Age', 'Name', 'Gender'])\n",
    "# -> dict의 key에 해당하는 column이 없으면 NaN으로 채워진다.\n",
    "display(temp_df_02)\n"
   ],
   "metadata": {
    "collapsed": false,
    "ExecuteTime": {
     "end_time": "2024-03-09T06:22:43.171202Z",
     "start_time": "2024-03-09T06:22:43.155746Z"
    }
   },
   "id": "f3a4b3a9707e48ec",
   "execution_count": 15
  },
  {
   "cell_type": "code",
   "outputs": [
    {
     "name": "stdout",
     "output_type": "stream",
     "text": [
      "<class 'pandas.core.indexes.base.Index'>:\n",
      "Index(['Age', 'Name', 'Gender'], dtype='object')\n",
      "\n",
      "<class 'pandas.core.indexes.range.RangeIndex'>:\n",
      "RangeIndex(start=0, stop=4, step=1)\n",
      "<class 'numpy.ndarray'>:\n",
      "[[24 'John' nan]\n",
      " [13 'Anna' nan]\n",
      " [53 'Peter' nan]\n",
      " [33 'Linda' nan]]\n"
     ]
    }
   ],
   "source": [
    "# DataFrame의 column 이름 확인\n",
    "temp_df_02_columns = temp_df_02.columns\n",
    "print(f'{type(temp_df_02_columns)}:\\n{temp_df_02_columns}') # Index 객체로 반환된다.\n",
    "print('') # 줄바꿈\n",
    "\n",
    "\n",
    "# DataFrame의 index 확인\n",
    "temp_df_02_index = temp_df_02.index\n",
    "print(f'{type(temp_df_02_index)}:\\n{temp_df_02_index}') # RangeIndex 객체로 반환된다.\n",
    "\n",
    "\n",
    "# DataFrame의 values 확인\n",
    "temp_df_02_values = temp_df_02.values\n",
    "print(f'{type(temp_df_02_values)}:\\n{temp_df_02_values}') # numpy의 ndarray로 반환된다.\n"
   ],
   "metadata": {
    "collapsed": false,
    "ExecuteTime": {
     "end_time": "2024-03-09T07:16:15.539663Z",
     "start_time": "2024-03-09T07:16:15.526046Z"
    }
   },
   "id": "71d43fa8f3d1e6cb",
   "execution_count": 22
  },
  {
   "cell_type": "code",
   "outputs": [
    {
     "name": "stdout",
     "output_type": "stream",
     "text": [
      "<class 'pandas.core.frame.DataFrame'>\n",
      "RangeIndex: 4 entries, 0 to 3\n",
      "Data columns (total 3 columns):\n",
      " #   Column  Non-Null Count  Dtype \n",
      "---  ------  --------------  ----- \n",
      " 0   Age     4 non-null      int64 \n",
      " 1   Name    4 non-null      object\n",
      " 2   Gender  0 non-null      object\n",
      "dtypes: int64(1), object(2)\n",
      "memory usage: 224.0+ bytes\n",
      "None\n"
     ]
    }
   ],
   "source": [
    "# DataFrame의 정보 확인\n",
    "temp_df_02_info = temp_df_02.info()\n",
    "print(f'{temp_df_02_info}') # info()는 None을 반환한다.\n"
   ],
   "metadata": {
    "collapsed": false,
    "ExecuteTime": {
     "end_time": "2024-03-09T07:25:46.853152Z",
     "start_time": "2024-03-09T07:25:46.841333Z"
    }
   },
   "id": "bcf4fb865bbc1833",
   "execution_count": 25
  },
  {
   "cell_type": "code",
   "outputs": [
    {
     "name": "stdout",
     "output_type": "stream",
     "text": [
      "<class 'pandas.core.frame.DataFrame'>\n",
      "<class 'pandas.core.series.Series'>:\n",
      "Pclass\n",
      "3    491\n",
      "1    216\n",
      "2    184\n",
      "Name: count, dtype: int64\n"
     ]
    }
   ],
   "source": [
    "# DataFrame의 기초 통계 정보 확인\n",
    "titanic_df=pd.read_csv('./titanic_train.csv')\n",
    "titanic_df.describe()\n",
    "print(f'{type(titanic_df.describe())}')\n",
    "\n",
    "# value_counts() : Series 객채의 메소드. 해당 series의 값 분포를 확인.\n",
    "titanic_Pclass_value_counts=titanic_df['Pclass'].value_counts(dropna=False)\n",
    "print(f'{type(titanic_Pclass_value_counts)}:\\n{titanic_Pclass_value_counts}')\n"
   ],
   "metadata": {
    "collapsed": false,
    "ExecuteTime": {
     "end_time": "2024-03-09T07:43:41.469680Z",
     "start_time": "2024-03-09T07:43:41.429396Z"
    }
   },
   "id": "580c7b499cefa37",
   "execution_count": 29
  },
  {
   "cell_type": "markdown",
   "source": [
    "# DataFrame <-> list, dict, ndarray 변환"
   ],
   "metadata": {
    "collapsed": false
   },
   "id": "9f20d0e3307a0e88"
  },
  {
   "cell_type": "code",
   "outputs": [
    {
     "data": {
      "text/plain": "   age\n0   24\n1   13\n2   53\n3   33",
      "text/html": "<div>\n<style scoped>\n    .dataframe tbody tr th:only-of-type {\n        vertical-align: middle;\n    }\n\n    .dataframe tbody tr th {\n        vertical-align: top;\n    }\n\n    .dataframe thead th {\n        text-align: right;\n    }\n</style>\n<table border=\"1\" class=\"dataframe\">\n  <thead>\n    <tr style=\"text-align: right;\">\n      <th></th>\n      <th>age</th>\n    </tr>\n  </thead>\n  <tbody>\n    <tr>\n      <th>0</th>\n      <td>24</td>\n    </tr>\n    <tr>\n      <th>1</th>\n      <td>13</td>\n    </tr>\n    <tr>\n      <th>2</th>\n      <td>53</td>\n    </tr>\n    <tr>\n      <th>3</th>\n      <td>33</td>\n    </tr>\n  </tbody>\n</table>\n</div>"
     },
     "metadata": {},
     "output_type": "display_data"
    },
    {
     "data": {
      "text/plain": "    Name  Age\n0   John   24\n1   Anna   13\n2  Peter   53\n3  Linda   33",
      "text/html": "<div>\n<style scoped>\n    .dataframe tbody tr th:only-of-type {\n        vertical-align: middle;\n    }\n\n    .dataframe tbody tr th {\n        vertical-align: top;\n    }\n\n    .dataframe thead th {\n        text-align: right;\n    }\n</style>\n<table border=\"1\" class=\"dataframe\">\n  <thead>\n    <tr style=\"text-align: right;\">\n      <th></th>\n      <th>Name</th>\n      <th>Age</th>\n    </tr>\n  </thead>\n  <tbody>\n    <tr>\n      <th>0</th>\n      <td>John</td>\n      <td>24</td>\n    </tr>\n    <tr>\n      <th>1</th>\n      <td>Anna</td>\n      <td>13</td>\n    </tr>\n    <tr>\n      <th>2</th>\n      <td>Peter</td>\n      <td>53</td>\n    </tr>\n    <tr>\n      <th>3</th>\n      <td>Linda</td>\n      <td>33</td>\n    </tr>\n  </tbody>\n</table>\n</div>"
     },
     "metadata": {},
     "output_type": "display_data"
    },
    {
     "data": {
      "text/plain": "     user01 user02 user03 user04\nName   John   Anna  Peter  Linda\nAge      24     13     53     33",
      "text/html": "<div>\n<style scoped>\n    .dataframe tbody tr th:only-of-type {\n        vertical-align: middle;\n    }\n\n    .dataframe tbody tr th {\n        vertical-align: top;\n    }\n\n    .dataframe thead th {\n        text-align: right;\n    }\n</style>\n<table border=\"1\" class=\"dataframe\">\n  <thead>\n    <tr style=\"text-align: right;\">\n      <th></th>\n      <th>user01</th>\n      <th>user02</th>\n      <th>user03</th>\n      <th>user04</th>\n    </tr>\n  </thead>\n  <tbody>\n    <tr>\n      <th>Name</th>\n      <td>John</td>\n      <td>Anna</td>\n      <td>Peter</td>\n      <td>Linda</td>\n    </tr>\n    <tr>\n      <th>Age</th>\n      <td>24</td>\n      <td>13</td>\n      <td>53</td>\n      <td>33</td>\n    </tr>\n  </tbody>\n</table>\n</div>"
     },
     "metadata": {},
     "output_type": "display_data"
    },
    {
     "data": {
      "text/plain": "         Name Age\nuser01   John  24\nuser02   Anna  13\nuser03  Peter  53\nuser04  Linda  33",
      "text/html": "<div>\n<style scoped>\n    .dataframe tbody tr th:only-of-type {\n        vertical-align: middle;\n    }\n\n    .dataframe tbody tr th {\n        vertical-align: top;\n    }\n\n    .dataframe thead th {\n        text-align: right;\n    }\n</style>\n<table border=\"1\" class=\"dataframe\">\n  <thead>\n    <tr style=\"text-align: right;\">\n      <th></th>\n      <th>Name</th>\n      <th>Age</th>\n    </tr>\n  </thead>\n  <tbody>\n    <tr>\n      <th>user01</th>\n      <td>John</td>\n      <td>24</td>\n    </tr>\n    <tr>\n      <th>user02</th>\n      <td>Anna</td>\n      <td>13</td>\n    </tr>\n    <tr>\n      <th>user03</th>\n      <td>Peter</td>\n      <td>53</td>\n    </tr>\n    <tr>\n      <th>user04</th>\n      <td>Linda</td>\n      <td>33</td>\n    </tr>\n  </tbody>\n</table>\n</div>"
     },
     "metadata": {},
     "output_type": "display_data"
    },
    {
     "data": {
      "text/plain": "  Age   Name\n0  24   John\n1  13   Anna\n2  53  Peter\n3  33  Linda",
      "text/html": "<div>\n<style scoped>\n    .dataframe tbody tr th:only-of-type {\n        vertical-align: middle;\n    }\n\n    .dataframe tbody tr th {\n        vertical-align: top;\n    }\n\n    .dataframe thead th {\n        text-align: right;\n    }\n</style>\n<table border=\"1\" class=\"dataframe\">\n  <thead>\n    <tr style=\"text-align: right;\">\n      <th></th>\n      <th>Age</th>\n      <th>Name</th>\n    </tr>\n  </thead>\n  <tbody>\n    <tr>\n      <th>0</th>\n      <td>24</td>\n      <td>John</td>\n    </tr>\n    <tr>\n      <th>1</th>\n      <td>13</td>\n      <td>Anna</td>\n    </tr>\n    <tr>\n      <th>2</th>\n      <td>53</td>\n      <td>Peter</td>\n    </tr>\n    <tr>\n      <th>3</th>\n      <td>33</td>\n      <td>Linda</td>\n    </tr>\n  </tbody>\n</table>\n</div>"
     },
     "metadata": {},
     "output_type": "display_data"
    }
   ],
   "source": [
    "# list -> DataFrame\n",
    "temp_list=[24,13,53,33]\n",
    "temp_df_from_list = pd.DataFrame(temp_list, columns=['age'])\n",
    "display(temp_df_from_list)\n",
    "\n",
    "# dict -> DataFrame\n",
    "temp_dict_01 = {\n",
    "    'Name': ['John', 'Anna', 'Peter', 'Linda'],\n",
    "    'Age':[24, 13, 53, 33],\n",
    "}\n",
    "temp_df_from_dict_01 = pd.DataFrame(temp_dict_01)\n",
    "display(temp_df_from_dict_01)\n",
    "\n",
    "# JSON 같은 형태의 데이터가 들어오면 어떻게 하나?\n",
    "temp_dict_02 = {'user01':{'Name':'John', 'Age':24}, 'user02':{'Name':'Anna', 'Age':13}, 'user03':{'Name':'Peter', 'Age':53}, 'user04':{'Name':'Linda', 'Age':33}}\n",
    "\n",
    "temp_df_from_dict_02 = pd.DataFrame(temp_dict_02)\n",
    "display(temp_df_from_dict_02)\n",
    "\n",
    "# change temp_dict_02 to make df with columns=['Name', 'Age']\n",
    "temp_df_from_dict_02 = pd.DataFrame(temp_dict_02).T\n",
    "display(temp_df_from_dict_02)\n",
    "\n",
    "\n",
    "# ndarray -> DataFrame\n",
    "import numpy as np\n",
    "\n",
    "temp_ndarray = np.array([[24, 13, 53, 33], ['John', 'Anna', 'Peter', 'Linda']])\n",
    "temp_df_from_ndarray = pd.DataFrame(temp_ndarray.T, columns=['Age', 'Name'])\n",
    "display(temp_df_from_ndarray)\n"
   ],
   "metadata": {
    "collapsed": false,
    "ExecuteTime": {
     "end_time": "2024-03-09T15:48:11.911297Z",
     "start_time": "2024-03-09T15:48:11.858615Z"
    }
   },
   "id": "24b845af4de5f715",
   "execution_count": 66
  },
  {
   "cell_type": "code",
   "outputs": [
    {
     "name": "stdout",
     "output_type": "stream",
     "text": [
      "<class 'list'>:\n",
      "[['John', 24], ['Anna', 13], ['Peter', 53], ['Linda', 33]]\n",
      "<class 'numpy.ndarray'>:\n",
      "[['John' 24]\n",
      " ['Anna' 13]\n",
      " ['Peter' 53]\n",
      " ['Linda' 33]]\n",
      "<class 'dict'>:\n",
      "{'Name': {'user01': 'John', 'user02': 'Anna', 'user03': 'Peter', 'user04': 'Linda'}, 'Age': {'user01': 24, 'user02': 13, 'user03': 53, 'user04': 33}}\n"
     ]
    }
   ],
   "source": [
    "# DataFrame -> list\n",
    "# values 속성으로 ndarray화. 이후 tolist()로 리스트화.\n",
    "list_from_df = temp_df_from_dict_02.values.tolist()\n",
    "print(f'{type(list_from_df)}:\\n{list_from_df}')\n",
    "\n",
    "# DataFrame -> ndarray\n",
    "# values 속성으로 ndarray화.\n",
    "ndarray_from_df = temp_df_from_dict_02.values\n",
    "print(f'{type(ndarray_from_df)}:\\n{ndarray_from_df}')\n",
    "\n",
    "# DataFrame -> dict\n",
    "# df.to_dict() method 이용 dict화.\n",
    "dict_from_df=temp_df_from_dict_02.to_dict()\n",
    "print(f'{type(dict_from_df)}:\\n{dict_from_df}')"
   ],
   "metadata": {
    "collapsed": false,
    "ExecuteTime": {
     "end_time": "2024-03-09T15:48:19.743342Z",
     "start_time": "2024-03-09T15:48:19.733416Z"
    }
   },
   "id": "efb1b02fff2672f6",
   "execution_count": 67
  },
  {
   "cell_type": "markdown",
   "source": [
    "# DataFrame 데이터 생성, 변경, 삭제"
   ],
   "metadata": {
    "collapsed": false
   },
   "id": "713b16372b7a907e"
  },
  {
   "cell_type": "code",
   "outputs": [
    {
     "data": {
      "text/plain": "         Name Age\nuser01   John  24\nuser02   Anna  13\nuser03  Peter  53\nuser04  Linda  33",
      "text/html": "<div>\n<style scoped>\n    .dataframe tbody tr th:only-of-type {\n        vertical-align: middle;\n    }\n\n    .dataframe tbody tr th {\n        vertical-align: top;\n    }\n\n    .dataframe thead th {\n        text-align: right;\n    }\n</style>\n<table border=\"1\" class=\"dataframe\">\n  <thead>\n    <tr style=\"text-align: right;\">\n      <th></th>\n      <th>Name</th>\n      <th>Age</th>\n    </tr>\n  </thead>\n  <tbody>\n    <tr>\n      <th>user01</th>\n      <td>John</td>\n      <td>24</td>\n    </tr>\n    <tr>\n      <th>user02</th>\n      <td>Anna</td>\n      <td>13</td>\n    </tr>\n    <tr>\n      <th>user03</th>\n      <td>Peter</td>\n      <td>53</td>\n    </tr>\n    <tr>\n      <th>user04</th>\n      <td>Linda</td>\n      <td>33</td>\n    </tr>\n  </tbody>\n</table>\n</div>"
     },
     "metadata": {},
     "output_type": "display_data"
    },
    {
     "data": {
      "text/plain": "         Name Age  new_col  new_col_x10\nuser01   John  24        1           10\nuser02   Anna  13        2           20\nuser03  Peter  53        3           30\nuser04  Linda  33        4           40",
      "text/html": "<div>\n<style scoped>\n    .dataframe tbody tr th:only-of-type {\n        vertical-align: middle;\n    }\n\n    .dataframe tbody tr th {\n        vertical-align: top;\n    }\n\n    .dataframe thead th {\n        text-align: right;\n    }\n</style>\n<table border=\"1\" class=\"dataframe\">\n  <thead>\n    <tr style=\"text-align: right;\">\n      <th></th>\n      <th>Name</th>\n      <th>Age</th>\n      <th>new_col</th>\n      <th>new_col_x10</th>\n    </tr>\n  </thead>\n  <tbody>\n    <tr>\n      <th>user01</th>\n      <td>John</td>\n      <td>24</td>\n      <td>1</td>\n      <td>10</td>\n    </tr>\n    <tr>\n      <th>user02</th>\n      <td>Anna</td>\n      <td>13</td>\n      <td>2</td>\n      <td>20</td>\n    </tr>\n    <tr>\n      <th>user03</th>\n      <td>Peter</td>\n      <td>53</td>\n      <td>3</td>\n      <td>30</td>\n    </tr>\n    <tr>\n      <th>user04</th>\n      <td>Linda</td>\n      <td>33</td>\n      <td>4</td>\n      <td>40</td>\n    </tr>\n  </tbody>\n</table>\n</div>"
     },
     "metadata": {},
     "output_type": "display_data"
    },
    {
     "data": {
      "text/plain": "         Name Age  new_col  new_col_x10\nuser01   John  24        5           10\nuser02   Anna  13        6           20\nuser03  Peter  53        7           30\nuser04  Linda  33        8           40",
      "text/html": "<div>\n<style scoped>\n    .dataframe tbody tr th:only-of-type {\n        vertical-align: middle;\n    }\n\n    .dataframe tbody tr th {\n        vertical-align: top;\n    }\n\n    .dataframe thead th {\n        text-align: right;\n    }\n</style>\n<table border=\"1\" class=\"dataframe\">\n  <thead>\n    <tr style=\"text-align: right;\">\n      <th></th>\n      <th>Name</th>\n      <th>Age</th>\n      <th>new_col</th>\n      <th>new_col_x10</th>\n    </tr>\n  </thead>\n  <tbody>\n    <tr>\n      <th>user01</th>\n      <td>John</td>\n      <td>24</td>\n      <td>5</td>\n      <td>10</td>\n    </tr>\n    <tr>\n      <th>user02</th>\n      <td>Anna</td>\n      <td>13</td>\n      <td>6</td>\n      <td>20</td>\n    </tr>\n    <tr>\n      <th>user03</th>\n      <td>Peter</td>\n      <td>53</td>\n      <td>7</td>\n      <td>30</td>\n    </tr>\n    <tr>\n      <th>user04</th>\n      <td>Linda</td>\n      <td>33</td>\n      <td>8</td>\n      <td>40</td>\n    </tr>\n  </tbody>\n</table>\n</div>"
     },
     "metadata": {},
     "output_type": "display_data"
    }
   ],
   "source": [
    "display(temp_df_from_dict_02)\n",
    "temp_df_from_dict_03 = temp_df_from_dict_02\n",
    "# 새로운 컬럼 생성\n",
    "temp_df_from_dict_03['new_col'] = [1,2,3,4]\n",
    "temp_df_from_dict_03['new_col_x10'] =temp_df_from_dict_03['new_col']*10\n",
    "display(temp_df_from_dict_03)\n",
    "\n",
    "# 컬럼 값 변경\n",
    "temp_df_from_dict_03['new_col'] = [5,6,7,8]\n",
    "display(temp_df_from_dict_03)"
   ],
   "metadata": {
    "collapsed": false,
    "ExecuteTime": {
     "end_time": "2024-03-09T15:48:24.691496Z",
     "start_time": "2024-03-09T15:48:24.661732Z"
    }
   },
   "id": "462defe10cad78a2",
   "execution_count": 68
  },
  {
   "cell_type": "code",
   "outputs": [
    {
     "data": {
      "text/plain": "         Name  new_col_x10\nuser01   John           10\nuser02   Anna           20\nuser03  Peter           30\nuser04  Linda           40",
      "text/html": "<div>\n<style scoped>\n    .dataframe tbody tr th:only-of-type {\n        vertical-align: middle;\n    }\n\n    .dataframe tbody tr th {\n        vertical-align: top;\n    }\n\n    .dataframe thead th {\n        text-align: right;\n    }\n</style>\n<table border=\"1\" class=\"dataframe\">\n  <thead>\n    <tr style=\"text-align: right;\">\n      <th></th>\n      <th>Name</th>\n      <th>new_col_x10</th>\n    </tr>\n  </thead>\n  <tbody>\n    <tr>\n      <th>user01</th>\n      <td>John</td>\n      <td>10</td>\n    </tr>\n    <tr>\n      <th>user02</th>\n      <td>Anna</td>\n      <td>20</td>\n    </tr>\n    <tr>\n      <th>user03</th>\n      <td>Peter</td>\n      <td>30</td>\n    </tr>\n    <tr>\n      <th>user04</th>\n      <td>Linda</td>\n      <td>40</td>\n    </tr>\n  </tbody>\n</table>\n</div>"
     },
     "metadata": {},
     "output_type": "display_data"
    },
    {
     "data": {
      "text/plain": "         Name Age  new_col  new_col_x10\nuser01   John  24        5           10\nuser02   Anna  13        6           20\nuser03  Peter  53        7           30\nuser04  Linda  33        8           40",
      "text/html": "<div>\n<style scoped>\n    .dataframe tbody tr th:only-of-type {\n        vertical-align: middle;\n    }\n\n    .dataframe tbody tr th {\n        vertical-align: top;\n    }\n\n    .dataframe thead th {\n        text-align: right;\n    }\n</style>\n<table border=\"1\" class=\"dataframe\">\n  <thead>\n    <tr style=\"text-align: right;\">\n      <th></th>\n      <th>Name</th>\n      <th>Age</th>\n      <th>new_col</th>\n      <th>new_col_x10</th>\n    </tr>\n  </thead>\n  <tbody>\n    <tr>\n      <th>user01</th>\n      <td>John</td>\n      <td>24</td>\n      <td>5</td>\n      <td>10</td>\n    </tr>\n    <tr>\n      <th>user02</th>\n      <td>Anna</td>\n      <td>13</td>\n      <td>6</td>\n      <td>20</td>\n    </tr>\n    <tr>\n      <th>user03</th>\n      <td>Peter</td>\n      <td>53</td>\n      <td>7</td>\n      <td>30</td>\n    </tr>\n    <tr>\n      <th>user04</th>\n      <td>Linda</td>\n      <td>33</td>\n      <td>8</td>\n      <td>40</td>\n    </tr>\n  </tbody>\n</table>\n</div>"
     },
     "metadata": {},
     "output_type": "display_data"
    }
   ],
   "source": [
    "# DataFrame 데이터 삭제\n",
    "# df.drop() method 이용한다.\n",
    "# axis=0 이면 row, axis=1 이면 column 의미.\n",
    "# inplace=True 이면 원본 DataFrame을 변경한다. 기본값은 False.\n",
    "temp_df=temp_df_from_dict_03\n",
    "\n",
    "temp_df_dropped=temp_df.drop(labels=['Age','new_col'], axis=1)\n",
    "display(temp_df_dropped)\n",
    "display(temp_df)\n",
    "\n",
    "\n"
   ],
   "metadata": {
    "collapsed": false,
    "ExecuteTime": {
     "end_time": "2024-03-09T15:48:25.648374Z",
     "start_time": "2024-03-09T15:48:25.601715Z"
    }
   },
   "id": "391b6b6c0285e5eb",
   "execution_count": 69
  },
  {
   "cell_type": "markdown",
   "source": [
    "# Index 객체"
   ],
   "metadata": {
    "collapsed": false
   },
   "id": "5b458a38a3b69947"
  },
  {
   "cell_type": "code",
   "outputs": [
    {
     "data": {
      "text/plain": "Index(['user01', 'user02', 'user03', 'user04'], dtype='object')"
     },
     "metadata": {},
     "output_type": "display_data"
    },
    {
     "name": "stdout",
     "output_type": "stream",
     "text": [
      "<class 'numpy.ndarray'>:\n",
      "['user01' 'user02' 'user03' 'user04']\n"
     ]
    },
    {
     "data": {
      "text/plain": "    index   Name Age  new_col  new_col_x10\n0  user01   John  24        5           10\n1  user02   Anna  13        6           20\n2  user03  Peter  53        7           30\n3  user04  Linda  33        8           40",
      "text/html": "<div>\n<style scoped>\n    .dataframe tbody tr th:only-of-type {\n        vertical-align: middle;\n    }\n\n    .dataframe tbody tr th {\n        vertical-align: top;\n    }\n\n    .dataframe thead th {\n        text-align: right;\n    }\n</style>\n<table border=\"1\" class=\"dataframe\">\n  <thead>\n    <tr style=\"text-align: right;\">\n      <th></th>\n      <th>index</th>\n      <th>Name</th>\n      <th>Age</th>\n      <th>new_col</th>\n      <th>new_col_x10</th>\n    </tr>\n  </thead>\n  <tbody>\n    <tr>\n      <th>0</th>\n      <td>user01</td>\n      <td>John</td>\n      <td>24</td>\n      <td>5</td>\n      <td>10</td>\n    </tr>\n    <tr>\n      <th>1</th>\n      <td>user02</td>\n      <td>Anna</td>\n      <td>13</td>\n      <td>6</td>\n      <td>20</td>\n    </tr>\n    <tr>\n      <th>2</th>\n      <td>user03</td>\n      <td>Peter</td>\n      <td>53</td>\n      <td>7</td>\n      <td>30</td>\n    </tr>\n    <tr>\n      <th>3</th>\n      <td>user04</td>\n      <td>Linda</td>\n      <td>33</td>\n      <td>8</td>\n      <td>40</td>\n    </tr>\n  </tbody>\n</table>\n</div>"
     },
     "metadata": {},
     "output_type": "display_data"
    },
    {
     "name": "stdout",
     "output_type": "stream",
     "text": [
      "<class 'pandas.core.indexes.range.RangeIndex'>:\n",
      "RangeIndex(start=0, stop=4, step=1)\n"
     ]
    },
    {
     "data": {
      "text/plain": "     index   Name Age  new_col  new_col_x10\n10  user01   John  24        5           10\n11  user02   Anna  13        6           20\n12  user03  Peter  53        7           30\n13  user04  Linda  33        8           40",
      "text/html": "<div>\n<style scoped>\n    .dataframe tbody tr th:only-of-type {\n        vertical-align: middle;\n    }\n\n    .dataframe tbody tr th {\n        vertical-align: top;\n    }\n\n    .dataframe thead th {\n        text-align: right;\n    }\n</style>\n<table border=\"1\" class=\"dataframe\">\n  <thead>\n    <tr style=\"text-align: right;\">\n      <th></th>\n      <th>index</th>\n      <th>Name</th>\n      <th>Age</th>\n      <th>new_col</th>\n      <th>new_col_x10</th>\n    </tr>\n  </thead>\n  <tbody>\n    <tr>\n      <th>10</th>\n      <td>user01</td>\n      <td>John</td>\n      <td>24</td>\n      <td>5</td>\n      <td>10</td>\n    </tr>\n    <tr>\n      <th>11</th>\n      <td>user02</td>\n      <td>Anna</td>\n      <td>13</td>\n      <td>6</td>\n      <td>20</td>\n    </tr>\n    <tr>\n      <th>12</th>\n      <td>user03</td>\n      <td>Peter</td>\n      <td>53</td>\n      <td>7</td>\n      <td>30</td>\n    </tr>\n    <tr>\n      <th>13</th>\n      <td>user04</td>\n      <td>Linda</td>\n      <td>33</td>\n      <td>8</td>\n      <td>40</td>\n    </tr>\n  </tbody>\n</table>\n</div>"
     },
     "metadata": {},
     "output_type": "display_data"
    },
    {
     "name": "stdout",
     "output_type": "stream",
     "text": [
      "<class 'pandas.core.indexes.base.Index'>:\n",
      "Index([10, 11, 12, 13], dtype='int64')\n"
     ]
    }
   ],
   "source": [
    "# Index 객체에 대하여\n",
    "# Index 객체는 DataFrame, Series의 각 정보를 고유하게 식별하는 역할.\n",
    "# 이 때, 만들어진 df 앞에 붙어있는 Index는 하나의 컬럼으로 인식되지 않는다.\n",
    "\n",
    "# Index 객체의 추출을 위해선 dataframe/series의 index 속성을 이용한다.\n",
    "temp_df_for_index=temp_df_from_dict_03\n",
    "display(temp_df_for_index.index)\n",
    "index_array = temp_df_for_index.index.values # 값을 받아와 쓰려면 ndarray로 받아온다.\n",
    "print(f'{type(index_array)}:\\n{index_array}')\n",
    "\n",
    "# Index를 초기화하려면 dataframe/series 의 reset_index() 함수를 이용한다.\n",
    "# 이때도 기존에 있던 dataframe을 이용하려는게 기본설정이라 inplace=False 되어있다.\n",
    "# 메모리 아끼기 위해서 inplace=True로 바꿔줄 수 있다.\n",
    "# 인덱스 리셋되면 기존 인덱스는 가장 첫 column에 index 이름으로 만들어진다.\n",
    "# 새로운 인덱스는 RangeIndex로 초기화된다.\n",
    "df_index_reset = temp_df_for_index.reset_index() # inplace=False 기본.\n",
    "display(df_index_reset)\n",
    "print(f'{type(df_index_reset.index)}:\\n{df_index_reset.index}')\n",
    "\n",
    "# 변경하려면 Index 객체에 새로운 정보들을 list로 넣어준다.\n",
    "df_index_reset.index=[10,11,12,13]\n",
    "display(df_index_reset)\n",
    "print(f'{type(df_index_reset.index)}:\\n{df_index_reset.index}')"
   ],
   "metadata": {
    "collapsed": false,
    "ExecuteTime": {
     "end_time": "2024-03-09T15:57:59.809380Z",
     "start_time": "2024-03-09T15:57:59.776591Z"
    }
   },
   "id": "5ba4b8087512c581",
   "execution_count": 78
  },
  {
   "cell_type": "code",
   "outputs": [],
   "source": [],
   "metadata": {
    "collapsed": false
   },
   "id": "7a1053be0e1de04a"
  }
 ],
 "metadata": {
  "kernelspec": {
   "display_name": "Python 3",
   "language": "python",
   "name": "python3"
  },
  "language_info": {
   "codemirror_mode": {
    "name": "ipython",
    "version": 2
   },
   "file_extension": ".py",
   "mimetype": "text/x-python",
   "name": "python",
   "nbconvert_exporter": "python",
   "pygments_lexer": "ipython2",
   "version": "2.7.6"
  }
 },
 "nbformat": 4,
 "nbformat_minor": 5
}
